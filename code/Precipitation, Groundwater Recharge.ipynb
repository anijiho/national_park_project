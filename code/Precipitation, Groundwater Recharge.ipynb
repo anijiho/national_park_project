{
 "cells": [
  {
   "cell_type": "markdown",
   "metadata": {},
   "source": [
    "### Import Library"
   ]
  },
  {
   "cell_type": "code",
   "execution_count": 1,
   "metadata": {},
   "outputs": [],
   "source": [
    "import pandas as pd\n",
    "import matplotlib.pyplot as plt\n",
    "import numpy as np\n",
    "import folium\n",
    "import pprint\n",
    "import branca.colormap as cm\n",
    "import ee\n",
    "import geemap\n",
    "from folium.plugins import Draw\n",
    "import geopandas as gpd"
   ]
  },
  {
   "cell_type": "code",
   "execution_count": 2,
   "metadata": {},
   "outputs": [
    {
     "data": {
      "text/html": [
       "\n",
       "            <style>\n",
       "                .geemap-dark {\n",
       "                    --jp-widgets-color: white;\n",
       "                    --jp-widgets-label-color: white;\n",
       "                    --jp-ui-font-color1: white;\n",
       "                    --jp-layout-color2: #454545;\n",
       "                    background-color: #383838;\n",
       "                }\n",
       "                    \n",
       "                .geemap-dark .jupyter-button {\n",
       "                    --jp-layout-color3: #383838;\n",
       "                }\n",
       "                \n",
       "                .geemap-colab {\n",
       "                    background-color: var(--colab-primary-surface-color, white);\n",
       "                }\n",
       "                    \n",
       "                .geemap-colab .jupyter-button {\n",
       "                    --jp-layout-color3: var(--colab-primary-surface-color, white);\n",
       "                }\n",
       "            </style>\n",
       "            "
      ],
      "text/plain": [
       "<IPython.core.display.HTML object>"
      ]
     },
     "metadata": {},
     "output_type": "display_data"
    }
   ],
   "source": [
    "import matplotlib.font_manager as fm\n",
    "\n",
    "font_path = 'C:/WINDOWS/Fonts/H2HDRM.TTF'\n",
    "# 폰트 프로퍼티 설정\n",
    "font_prop = fm.FontProperties(fname=font_path, size=14)\n",
    "\n",
    "# matplotlib의 폰트를 설정\n",
    "plt.rcParams['font.family'] = font_prop.get_name()"
   ]
  },
  {
   "cell_type": "markdown",
   "metadata": {},
   "source": [
    "### Google Earth API 인증"
   ]
  },
  {
   "cell_type": "code",
   "execution_count": 3,
   "metadata": {},
   "outputs": [
    {
     "data": {
      "text/html": [
       "\n",
       "            <style>\n",
       "                .geemap-dark {\n",
       "                    --jp-widgets-color: white;\n",
       "                    --jp-widgets-label-color: white;\n",
       "                    --jp-ui-font-color1: white;\n",
       "                    --jp-layout-color2: #454545;\n",
       "                    background-color: #383838;\n",
       "                }\n",
       "                    \n",
       "                .geemap-dark .jupyter-button {\n",
       "                    --jp-layout-color3: #383838;\n",
       "                }\n",
       "                \n",
       "                .geemap-colab {\n",
       "                    background-color: var(--colab-primary-surface-color, white);\n",
       "                }\n",
       "                    \n",
       "                .geemap-colab .jupyter-button {\n",
       "                    --jp-layout-color3: var(--colab-primary-surface-color, white);\n",
       "                }\n",
       "            </style>\n",
       "            "
      ],
      "text/plain": [
       "<IPython.core.display.HTML object>"
      ]
     },
     "metadata": {},
     "output_type": "display_data"
    }
   ],
   "source": [
    "import os\n",
    "\n",
    "os.environ['EARTHENGINE_API_KEY'] = 'Your API key'"
   ]
  },
  {
   "cell_type": "code",
   "execution_count": 4,
   "metadata": {},
   "outputs": [
    {
     "data": {
      "text/html": [
       "\n",
       "            <style>\n",
       "                .geemap-dark {\n",
       "                    --jp-widgets-color: white;\n",
       "                    --jp-widgets-label-color: white;\n",
       "                    --jp-ui-font-color1: white;\n",
       "                    --jp-layout-color2: #454545;\n",
       "                    background-color: #383838;\n",
       "                }\n",
       "                    \n",
       "                .geemap-dark .jupyter-button {\n",
       "                    --jp-layout-color3: #383838;\n",
       "                }\n",
       "                \n",
       "                .geemap-colab {\n",
       "                    background-color: var(--colab-primary-surface-color, white);\n",
       "                }\n",
       "                    \n",
       "                .geemap-colab .jupyter-button {\n",
       "                    --jp-layout-color3: var(--colab-primary-surface-color, white);\n",
       "                }\n",
       "            </style>\n",
       "            "
      ],
      "text/plain": [
       "<IPython.core.display.HTML object>"
      ]
     },
     "metadata": {},
     "output_type": "display_data"
    }
   ],
   "source": [
    "# # Earth Engine 인증\n",
    "# ee.Authenticate()\n",
    "\n",
    "# Earth Engine 초기화\n",
    "ee.Initialize()"
   ]
  },
  {
   "cell_type": "markdown",
   "metadata": {},
   "source": [
    "### 관심 기간 및 관심 지역 설정"
   ]
  },
  {
   "cell_type": "code",
   "execution_count": 5,
   "metadata": {},
   "outputs": [
    {
     "data": {
      "text/html": [
       "\n",
       "            <style>\n",
       "                .geemap-dark {\n",
       "                    --jp-widgets-color: white;\n",
       "                    --jp-widgets-label-color: white;\n",
       "                    --jp-ui-font-color1: white;\n",
       "                    --jp-layout-color2: #454545;\n",
       "                    background-color: #383838;\n",
       "                }\n",
       "                    \n",
       "                .geemap-dark .jupyter-button {\n",
       "                    --jp-layout-color3: #383838;\n",
       "                }\n",
       "                \n",
       "                .geemap-colab {\n",
       "                    background-color: var(--colab-primary-surface-color, white);\n",
       "                }\n",
       "                    \n",
       "                .geemap-colab .jupyter-button {\n",
       "                    --jp-layout-color3: var(--colab-primary-surface-color, white);\n",
       "                }\n",
       "            </style>\n",
       "            "
      ],
      "text/plain": [
       "<IPython.core.display.HTML object>"
      ]
     },
     "metadata": {},
     "output_type": "display_data"
    }
   ],
   "source": [
    "# 관심 기간의 시작일\n",
    "i_date = \"2023-01-01\"\n",
    "\n",
    "# 관심 기간의 종료일\n",
    "f_date = \"2023-12-31\""
   ]
  },
  {
   "cell_type": "code",
   "execution_count": 6,
   "metadata": {},
   "outputs": [
    {
     "data": {
      "text/html": [
       "\n",
       "            <style>\n",
       "                .geemap-dark {\n",
       "                    --jp-widgets-color: white;\n",
       "                    --jp-widgets-label-color: white;\n",
       "                    --jp-ui-font-color1: white;\n",
       "                    --jp-layout-color2: #454545;\n",
       "                    background-color: #383838;\n",
       "                }\n",
       "                    \n",
       "                .geemap-dark .jupyter-button {\n",
       "                    --jp-layout-color3: #383838;\n",
       "                }\n",
       "                \n",
       "                .geemap-colab {\n",
       "                    background-color: var(--colab-primary-surface-color, white);\n",
       "                }\n",
       "                    \n",
       "                .geemap-colab .jupyter-button {\n",
       "                    --jp-layout-color3: var(--colab-primary-surface-color, white);\n",
       "                }\n",
       "            </style>\n",
       "            "
      ],
      "text/plain": [
       "<IPython.core.display.HTML object>"
      ]
     },
     "metadata": {},
     "output_type": "display_data"
    }
   ],
   "source": [
    "# 국립공원으로 제한 \n",
    "park = ee.FeatureCollection(\"WCMC/WDPA/current/polygons\") \\\n",
    "    .filter(ee.Filter.eq(\"NAME\", \"Bukhansan\"))\n",
    "\n",
    "park_geo = park.geometry()\n",
    "\n",
    "location = park_geo.centroid().coordinates().getInfo()[::-1]"
   ]
  },
  {
   "cell_type": "code",
   "execution_count": 7,
   "metadata": {},
   "outputs": [
    {
     "data": {
      "text/html": [
       "\n",
       "            <style>\n",
       "                .geemap-dark {\n",
       "                    --jp-widgets-color: white;\n",
       "                    --jp-widgets-label-color: white;\n",
       "                    --jp-ui-font-color1: white;\n",
       "                    --jp-layout-color2: #454545;\n",
       "                    background-color: #383838;\n",
       "                }\n",
       "                    \n",
       "                .geemap-dark .jupyter-button {\n",
       "                    --jp-layout-color3: #383838;\n",
       "                }\n",
       "                \n",
       "                .geemap-colab {\n",
       "                    background-color: var(--colab-primary-surface-color, white);\n",
       "                }\n",
       "                    \n",
       "                .geemap-colab .jupyter-button {\n",
       "                    --jp-layout-color3: var(--colab-primary-surface-color, white);\n",
       "                }\n",
       "            </style>\n",
       "            "
      ],
      "text/plain": [
       "<IPython.core.display.HTML object>"
      ]
     },
     "metadata": {},
     "output_type": "display_data"
    }
   ],
   "source": [
    "# Folium 지도에 레이어 추가 함수\n",
    "def add_ee_layer(self, ee_image_object, vis_params, name):\n",
    "    \"\"\"Adds a method for displaying Earth Engine image tiles to folium map.\"\"\"\n",
    "    map_id_dict = ee.Image(ee_image_object).getMapId(vis_params)\n",
    "    folium.raster_layers.TileLayer(\n",
    "        tiles=map_id_dict[\"tile_fetcher\"].url_format,\n",
    "        attr=\"Map Data &copy; <a href='https://earthengine.google.com/'>Google Earth Engine</a>\",\n",
    "        name=name,\n",
    "        overlay=True,\n",
    "        control=True,\n",
    "    ).add_to(self)\n",
    "\n",
    "\n",
    "# Add Earth Engine drawing method to folium.\n",
    "folium.Map.add_ee_layer = add_ee_layer"
   ]
  },
  {
   "cell_type": "markdown",
   "metadata": {},
   "source": [
    "### 깊이에 따른 토양 성분 데이터 수집\n",
    "- 토양을 구성하는 다양한 깊이에서의 모래, 흙, 유기탄소의 함량 데이터를 OpenLandMap 제공되는 데이터셋에서 가져온다 (250m 해상도)"
   ]
  },
  {
   "cell_type": "code",
   "execution_count": 8,
   "metadata": {},
   "outputs": [
    {
     "data": {
      "text/html": [
       "\n",
       "            <style>\n",
       "                .geemap-dark {\n",
       "                    --jp-widgets-color: white;\n",
       "                    --jp-widgets-label-color: white;\n",
       "                    --jp-ui-font-color1: white;\n",
       "                    --jp-layout-color2: #454545;\n",
       "                    background-color: #383838;\n",
       "                }\n",
       "                    \n",
       "                .geemap-dark .jupyter-button {\n",
       "                    --jp-layout-color3: #383838;\n",
       "                }\n",
       "                \n",
       "                .geemap-colab {\n",
       "                    background-color: var(--colab-primary-surface-color, white);\n",
       "                }\n",
       "                    \n",
       "                .geemap-colab .jupyter-button {\n",
       "                    --jp-layout-color3: var(--colab-primary-surface-color, white);\n",
       "                }\n",
       "            </style>\n",
       "            "
      ],
      "text/plain": [
       "<IPython.core.display.HTML object>"
      ]
     },
     "metadata": {},
     "output_type": "display_data"
    }
   ],
   "source": [
    "# 토양 성분 수집\n",
    "def get_soil_prop(param):\n",
    "    \"\"\"\n",
    "        \"sand\"     - 모래 함량\n",
    "        \"clay\"     - 점토 함량\n",
    "        \"orgc\"     - 유기 탄소 함량\n",
    "    \"\"\"\n",
    "    if param == \"sand\":  # 모래 함량 [%w]\n",
    "        snippet = \"OpenLandMap/SOL/SOL_SAND-WFRACTION_USDA-3A1A1A_M/v02\"\n",
    "        # 데이터셋 설명에 따른 스케일 팩터 정의.\n",
    "        scale_factor = 1 * 0.01\n",
    "\n",
    "    elif param == \"clay\":  # 점토 함량 [%w]\n",
    "        snippet = \"OpenLandMap/SOL/SOL_CLAY-WFRACTION_USDA-3A1A1A_M/v02\"\n",
    "        # 데이터셋 설명에 따른 스케일 팩터 정의.\n",
    "        scale_factor = 1 * 0.01\n",
    "\n",
    "    elif param == \"orgc\":  # 유기 탄소 함량 [g/kg]\n",
    "        snippet = \"OpenLandMap/SOL/SOL_ORGANIC-CARBON_USDA-6A1C_M/v02\"\n",
    "        # 데이터셋 설명에 따른 스케일 팩터 정의.\n",
    "        scale_factor = 5 * 0.001  # kg/kg로 변환하기 위함.\n",
    "    else:\n",
    "        return print(\"error\")\n",
    "\n",
    "    # ee.Image에 적용합니다.\n",
    "    dataset = ee.Image(snippet).multiply(scale_factor)\n",
    "\n",
    "    return dataset"
   ]
  },
  {
   "cell_type": "code",
   "execution_count": 9,
   "metadata": {},
   "outputs": [
    {
     "data": {
      "text/html": [
       "\n",
       "            <style>\n",
       "                .geemap-dark {\n",
       "                    --jp-widgets-color: white;\n",
       "                    --jp-widgets-label-color: white;\n",
       "                    --jp-ui-font-color1: white;\n",
       "                    --jp-layout-color2: #454545;\n",
       "                    background-color: #383838;\n",
       "                }\n",
       "                    \n",
       "                .geemap-dark .jupyter-button {\n",
       "                    --jp-layout-color3: #383838;\n",
       "                }\n",
       "                \n",
       "                .geemap-colab {\n",
       "                    background-color: var(--colab-primary-surface-color, white);\n",
       "                }\n",
       "                    \n",
       "                .geemap-colab .jupyter-button {\n",
       "                    --jp-layout-color3: var(--colab-primary-surface-color, white);\n",
       "                }\n",
       "            </style>\n",
       "            "
      ],
      "text/plain": [
       "<IPython.core.display.HTML object>"
      ]
     },
     "metadata": {},
     "output_type": "display_data"
    }
   ],
   "source": [
    "# 데이터가 있는 토양 깊이 [cm].\n",
    "olm_depths = [0, 10, 30, 60, 100, 200]\n",
    "\n",
    "# 참조 깊이와 연결된 밴드 이름.\n",
    "olm_bands = [\"b\" + str(sd) for sd in olm_depths]"
   ]
  },
  {
   "cell_type": "code",
   "execution_count": 10,
   "metadata": {},
   "outputs": [
    {
     "data": {
      "text/html": [
       "\n",
       "            <style>\n",
       "                .geemap-dark {\n",
       "                    --jp-widgets-color: white;\n",
       "                    --jp-widgets-label-color: white;\n",
       "                    --jp-ui-font-color1: white;\n",
       "                    --jp-layout-color2: #454545;\n",
       "                    background-color: #383838;\n",
       "                }\n",
       "                    \n",
       "                .geemap-dark .jupyter-button {\n",
       "                    --jp-layout-color3: #383838;\n",
       "                }\n",
       "                \n",
       "                .geemap-colab {\n",
       "                    background-color: var(--colab-primary-surface-color, white);\n",
       "                }\n",
       "                    \n",
       "                .geemap-colab .jupyter-button {\n",
       "                    --jp-layout-color3: var(--colab-primary-surface-color, white);\n",
       "                }\n",
       "            </style>\n",
       "            "
      ],
      "text/plain": [
       "<IPython.core.display.HTML object>"
      ]
     },
     "metadata": {},
     "output_type": "display_data"
    }
   ],
   "source": [
    "# 모래 함량과 관련된 이미지.\n",
    "sand = get_soil_prop(\"sand\")\n",
    "\n",
    "# 점토 함량과 관련된 이미지.\n",
    "clay = get_soil_prop(\"clay\")\n",
    "\n",
    "# 유기 탄소 함량과 관련된 이미지.\n",
    "orgc = get_soil_prop(\"orgc\")\n",
    "\n",
    "# 유기 탄소 함량을 유기물 함량으로 변환.\n",
    "orgm = orgc.multiply(1.724)"
   ]
  },
  {
   "cell_type": "code",
   "execution_count": 11,
   "metadata": {},
   "outputs": [
    {
     "data": {
      "text/html": [
       "\n",
       "            <style>\n",
       "                .geemap-dark {\n",
       "                    --jp-widgets-color: white;\n",
       "                    --jp-widgets-label-color: white;\n",
       "                    --jp-ui-font-color1: white;\n",
       "                    --jp-layout-color2: #454545;\n",
       "                    background-color: #383838;\n",
       "                }\n",
       "                    \n",
       "                .geemap-dark .jupyter-button {\n",
       "                    --jp-layout-color3: #383838;\n",
       "                }\n",
       "                \n",
       "                .geemap-colab {\n",
       "                    background-color: var(--colab-primary-surface-color, white);\n",
       "                }\n",
       "                    \n",
       "                .geemap-colab .jupyter-button {\n",
       "                    --jp-layout-color3: var(--colab-primary-surface-color, white);\n",
       "                }\n",
       "            </style>\n",
       "            "
      ],
      "text/plain": [
       "<IPython.core.display.HTML object>"
      ]
     },
     "metadata": {},
     "output_type": "display_data"
    }
   ],
   "source": [
    "# 시들음점과 토양의 최대 수분용량을 위한 두 개의 상수 이미지 초기화.\n",
    "wilting_point = ee.Image(0)\n",
    "field_capacity = ee.Image(0)\n",
    "\n",
    "# 각 표준 깊이에 대한 계산을 루프를 사용하여 수행.\n",
    "for key in olm_bands:\n",
    "    # 적절한 깊이에서 모래, 점토, 유기물 얻기.\n",
    "    si = sand.select(key)\n",
    "    ci = clay.select(key)\n",
    "    oi = orgm.select(key)\n",
    "\n",
    "    # 시들음점 계산.\n",
    "    # 주어진 깊이에 필요한 theta_1500t 매개변수.\n",
    "    theta_1500ti = (\n",
    "        ee.Image(0)\n",
    "        .expression(\n",
    "            \"-0.024 * S + 0.487 * C + 0.006 * OM + 0.005 * (S * OM)\\\n",
    "            - 0.013 * (C * OM) + 0.068 * (S * C) + 0.031\",\n",
    "            {\n",
    "                \"S\": si,\n",
    "                \"C\": ci,\n",
    "                \"OM\": oi,\n",
    "            },\n",
    "        )\n",
    "        .rename(\"T1500ti\")\n",
    "    )\n",
    "\n",
    "    # 시들음점을 위한 최종 식.\n",
    "    wpi = theta_1500ti.expression(\n",
    "        \"T1500ti + (0.14 * T1500ti - 0.002)\", {\"T1500ti\": theta_1500ti}\n",
    "    ).rename(\"wpi\")\n",
    "\n",
    "    # 전체 시들음점을 ee.Image에 새 밴드로 추가.\n",
    "    wilting_point = wilting_point.addBands(wpi.rename(key).float())\n",
    "\n",
    "    # 최대 수분용량 계산을 위한 동일한 과정.\n",
    "    # 주어진 깊이에 필요한 theta_33t 매개변수.\n",
    "    theta_33ti = (\n",
    "        ee.Image(0)\n",
    "        .expression(\n",
    "            \"-0.251 * S + 0.195 * C + 0.011 * OM +\\\n",
    "            0.006 * (S * OM) - 0.027 * (C * OM)+\\\n",
    "            0.452 * (S * C) + 0.299\",\n",
    "            {\n",
    "                \"S\": si,\n",
    "                \"C\": ci,\n",
    "                \"OM\": oi,\n",
    "            },\n",
    "        )\n",
    "        .rename(\"T33ti\")\n",
    "    )\n",
    "\n",
    "    # 토양의 최대 수분용량을 위한 최종 식.\n",
    "    fci = theta_33ti.expression(\n",
    "        \"T33ti + (1.283 * T33ti * T33ti - 0.374 * T33ti - 0.015)\",\n",
    "        {\"T33ti\": theta_33ti.select(\"T33ti\")},\n",
    "    )\n",
    "\n",
    "    # 전체 최대 수분용량을 ee.Image에 새 밴드로 추가.\n",
    "    field_capacity = field_capacity.addBands(fci.rename(key).float())"
   ]
  },
  {
   "cell_type": "markdown",
   "metadata": {},
   "source": [
    "모래, 점토, 유기탄소 함량을 안다면 수식을 통해 해당 토양의 시들음 시점과 최대 수분용량을 알 수 있다.\n",
    "- 시들음 시점\n",
    "    - 식물이 토양에서 물을 흡수하기 어려워지는 수분 함량 시점으로 뿌리가 물을 빨아들일 수 있는지 없는지의 기준점을 말한다. \n",
    "    - 예를 들어 시들음점이 10%라면, 해당 토양 수분이 10% 밑으로 떨어질 시 식물은 더이상 물을 공급 받지 못하고 시들게된다.\n",
    "    - 따라서 시들음점이 높은 토양에서 자라는 식물은 뿌리가 흡수할 수 있는 물이 적기에, 물 부족에 더 민감하게 반응하며 자주 관개가 필요하다\n",
    "    - 예를 들어 시들음점이 80%라면, 해당 토양 수분이 80% 밑으로 떨어질 시 시들기 시작하므로 토양 관리를 위해 인공적으로 물을 공급해줄 필요가 있다.\n",
    "    - 따라서, 시들음점을 알면 식물들이 건강하게 자라기 위한 토양 조건을 알 수 있고, 물의 추가 공급 유무를 알 수 있다.\n",
    "- 토양 최대 수분용량\n",
    "    - 토양이 물을 최대로 저장할 수 있는 시점으로, 그 시점 이후에는 중력에 의해 물이 지하로 침투하기 시작한다."
   ]
  },
  {
   "cell_type": "code",
   "execution_count": 12,
   "metadata": {},
   "outputs": [
    {
     "data": {
      "text/html": [
       "\n",
       "            <style>\n",
       "                .geemap-dark {\n",
       "                    --jp-widgets-color: white;\n",
       "                    --jp-widgets-label-color: white;\n",
       "                    --jp-ui-font-color1: white;\n",
       "                    --jp-layout-color2: #454545;\n",
       "                    background-color: #383838;\n",
       "                }\n",
       "                    \n",
       "                .geemap-dark .jupyter-button {\n",
       "                    --jp-layout-color3: #383838;\n",
       "                }\n",
       "                \n",
       "                .geemap-colab {\n",
       "                    background-color: var(--colab-primary-surface-color, white);\n",
       "                }\n",
       "                    \n",
       "                .geemap-colab .jupyter-button {\n",
       "                    --jp-layout-color3: var(--colab-primary-surface-color, white);\n",
       "                }\n",
       "            </style>\n",
       "            "
      ],
      "text/plain": [
       "<IPython.core.display.HTML object>"
      ]
     },
     "metadata": {},
     "output_type": "display_data"
    }
   ],
   "source": [
    "# 강수량 데이터 가져오기.\n",
    "pr = (\n",
    "    ee.ImageCollection(\"UCSB-CHG/CHIRPS/DAILY\")\n",
    "    .select(\"precipitation\")\n",
    "    .filterDate(i_date, f_date)\n",
    "    .filterBounds(park)  # 한국 지역에 대한 필터링.\n",
    ")\n",
    "\n",
    "# 잠재 증발산량(PET)과 그 품질 지표(ET_QC) 가져오기.\n",
    "pet = (\n",
    "    ee.ImageCollection(\"MODIS/061/MOD16A2\")\n",
    "    .select([\"PET\", \"ET_QC\"])\n",
    "    .filterDate(i_date, f_date)\n",
    "    .filterBounds(park)  # 한국 지역에 대한 필터링.\n",
    ")"
   ]
  },
  {
   "cell_type": "markdown",
   "metadata": {},
   "source": [
    "# `수정사항`\n",
    "- `잠재 증발산량을 가져오는 데이터셋을 MODIS/061/MOD16A2 로 변경`"
   ]
  },
  {
   "cell_type": "markdown",
   "metadata": {},
   "source": [
    "- 강수량 데이터는 Climate Hazards Group InfraRed Precipitation with Station data(CHIRPS)에서 제공되는 데이터셋 (매일 갱신, 해상도 5km)\n",
    "- 증발산량 데이터는 MODIS Terra Net에서 제공되는 데이터셋 (8일에 한번, 해상도 500m)\n",
    "    - 증발산량은 증발과 증산을 합친 것으로 증산은 식물이 수분을 흡수하여 잎을 통해 대기중으로 방출하는 것을 말한다.\n",
    "    - 이 데이터셋에서 제공되는 증발산량은 적설량, 지역의 경사도에서 유출이 심한 점 등을 배제한 데이터로 잠재 증발산량으로 명명한다."
   ]
  },
  {
   "cell_type": "markdown",
   "metadata": {},
   "source": [
    "#### 시간 규모에 따른 데이터 재샘플링"
   ]
  },
  {
   "cell_type": "code",
   "execution_count": 13,
   "metadata": {},
   "outputs": [
    {
     "data": {
      "text/html": [
       "\n",
       "            <style>\n",
       "                .geemap-dark {\n",
       "                    --jp-widgets-color: white;\n",
       "                    --jp-widgets-label-color: white;\n",
       "                    --jp-ui-font-color1: white;\n",
       "                    --jp-layout-color2: #454545;\n",
       "                    background-color: #383838;\n",
       "                }\n",
       "                    \n",
       "                .geemap-dark .jupyter-button {\n",
       "                    --jp-layout-color3: #383838;\n",
       "                }\n",
       "                \n",
       "                .geemap-colab {\n",
       "                    background-color: var(--colab-primary-surface-color, white);\n",
       "                }\n",
       "                    \n",
       "                .geemap-colab .jupyter-button {\n",
       "                    --jp-layout-color3: var(--colab-primary-surface-color, white);\n",
       "                }\n",
       "            </style>\n",
       "            "
      ],
      "text/plain": [
       "<IPython.core.display.HTML object>"
      ]
     },
     "metadata": {},
     "output_type": "display_data"
    }
   ],
   "source": [
    "# 시간 규모 재샘플링\n",
    "def sum_resampler(coll, freq, unit, scale_factor, band_name):\n",
    "    \"\"\"\n",
    "    coll: (ee.ImageCollection) 한 밴드만 처리 가능\n",
    "    freq: (int) 재샘플링 빈도에 해당\n",
    "    unit: (str) 재샘플링 시간 단위. 'day', 'month', 'year'이어야 함\n",
    "    scale_factor (float): 적절한 단위로 값을 얻기 위한 스케일링 인자\n",
    "    band_name (str) 출력 밴드의 이름\n",
    "    \"\"\"\n",
    "\n",
    "    # 컬렉션의 초기 및 최종 날짜 정의.\n",
    "    firstdate = ee.Date(\n",
    "        coll.sort(\"system:time_start\", True).first().get(\"system:time_start\")\n",
    "    )\n",
    "    lastdate = ee.Date(\n",
    "        coll.sort(\"system:time_start\", False).first().get(\"system:time_start\")\n",
    "    )\n",
    "\n",
    "    # 두 날짜 사이의 시간 차이 계산.\n",
    "    diff_dates = lastdate.difference(firstdate, unit)\n",
    "\n",
    "    # 새로운 시간 인덱스(출력용) 정의.\n",
    "    new_index = ee.List.sequence(0, ee.Number(diff_dates), freq)\n",
    "\n",
    "    # 새 시간 인덱스에 적용할 함수 정의.\n",
    "    def apply_resampling(date_index):\n",
    "        # 고려할 시작 날짜 정의.\n",
    "        startdate = firstdate.advance(ee.Number(date_index), unit)\n",
    "        # 원하는 빈도에 따라 고려할 종료 날짜 정의.\n",
    "        enddate = startdate.advance(freq, unit)\n",
    "        # 시작 및 종료 날짜 사이의 일수 계산.\n",
    "        diff_days = enddate.difference(startdate, \"day\")\n",
    "        # 합성 이미지 계산.\n",
    "        image = (\n",
    "            coll.filterDate(startdate, enddate)\n",
    "            .mean()\n",
    "            .multiply(diff_days)\n",
    "            .multiply(scale_factor)\n",
    "            .rename(band_name)\n",
    "        )\n",
    "        # 적절한 시간 인덱스를 가진 최종 이미지 반환.\n",
    "        return image.set(\"system:time_start\", startdate.millis())\n",
    "\n",
    "    # 새 시간 인덱스에 함수 매핑.\n",
    "    res = new_index.map(apply_resampling)\n",
    "\n",
    "    # 결과를 ee.ImageCollection으로 변환.\n",
    "    res = ee.ImageCollection(res)\n",
    "\n",
    "    return res"
   ]
  },
  {
   "cell_type": "code",
   "execution_count": 14,
   "metadata": {},
   "outputs": [
    {
     "data": {
      "text/html": [
       "\n",
       "            <style>\n",
       "                .geemap-dark {\n",
       "                    --jp-widgets-color: white;\n",
       "                    --jp-widgets-label-color: white;\n",
       "                    --jp-ui-font-color1: white;\n",
       "                    --jp-layout-color2: #454545;\n",
       "                    background-color: #383838;\n",
       "                }\n",
       "                    \n",
       "                .geemap-dark .jupyter-button {\n",
       "                    --jp-layout-color3: #383838;\n",
       "                }\n",
       "                \n",
       "                .geemap-colab {\n",
       "                    background-color: var(--colab-primary-surface-color, white);\n",
       "                }\n",
       "                    \n",
       "                .geemap-colab .jupyter-button {\n",
       "                    --jp-layout-color3: var(--colab-primary-surface-color, white);\n",
       "                }\n",
       "            </style>\n",
       "            "
      ],
      "text/plain": [
       "<IPython.core.display.HTML object>"
      ]
     },
     "metadata": {},
     "output_type": "display_data"
    }
   ],
   "source": [
    "# 강수량 데이터셋에 재샘플링 함수 적용.\n",
    "pr_m = sum_resampler(pr, 1, \"month\", 1, \"pr\")"
   ]
  },
  {
   "cell_type": "code",
   "execution_count": 15,
   "metadata": {},
   "outputs": [
    {
     "data": {
      "text/html": [
       "\n",
       "            <style>\n",
       "                .geemap-dark {\n",
       "                    --jp-widgets-color: white;\n",
       "                    --jp-widgets-label-color: white;\n",
       "                    --jp-ui-font-color1: white;\n",
       "                    --jp-layout-color2: #454545;\n",
       "                    background-color: #383838;\n",
       "                }\n",
       "                    \n",
       "                .geemap-dark .jupyter-button {\n",
       "                    --jp-layout-color3: #383838;\n",
       "                }\n",
       "                \n",
       "                .geemap-colab {\n",
       "                    background-color: var(--colab-primary-surface-color, white);\n",
       "                }\n",
       "                    \n",
       "                .geemap-colab .jupyter-button {\n",
       "                    --jp-layout-color3: var(--colab-primary-surface-color, white);\n",
       "                }\n",
       "            </style>\n",
       "            "
      ],
      "text/plain": [
       "<IPython.core.display.HTML object>"
      ]
     },
     "metadata": {},
     "output_type": "display_data"
    }
   ],
   "source": [
    "# 증발산량 데이터셋에 재샘플링 함수 적용.\n",
    "pet_m = sum_resampler(pet.select(\"PET\"), 1, \"month\", 0.0125, \"pet\")"
   ]
  },
  {
   "cell_type": "markdown",
   "metadata": {},
   "source": [
    "▲ 데이터셋을 월별 강수량/증발산량으로 재샘플링\n",
    "- 해상도 및 데이터를 습득한 시간이 다르므로 재샘플링하여 단위를 맞춰준다."
   ]
  },
  {
   "cell_type": "code",
   "execution_count": 16,
   "metadata": {},
   "outputs": [
    {
     "data": {
      "text/html": [
       "\n",
       "            <style>\n",
       "                .geemap-dark {\n",
       "                    --jp-widgets-color: white;\n",
       "                    --jp-widgets-label-color: white;\n",
       "                    --jp-ui-font-color1: white;\n",
       "                    --jp-layout-color2: #454545;\n",
       "                    background-color: #383838;\n",
       "                }\n",
       "                    \n",
       "                .geemap-dark .jupyter-button {\n",
       "                    --jp-layout-color3: #383838;\n",
       "                }\n",
       "                \n",
       "                .geemap-colab {\n",
       "                    background-color: var(--colab-primary-surface-color, white);\n",
       "                }\n",
       "                    \n",
       "                .geemap-colab .jupyter-button {\n",
       "                    --jp-layout-color3: var(--colab-primary-surface-color, white);\n",
       "                }\n",
       "            </style>\n",
       "            "
      ],
      "text/plain": [
       "<IPython.core.display.HTML object>"
      ]
     },
     "metadata": {},
     "output_type": "display_data"
    }
   ],
   "source": [
    "# 강수량과 증발산량 데이터셋 병합.\n",
    "meteo = pr_m.combine(pet_m)"
   ]
  },
  {
   "cell_type": "markdown",
   "metadata": {},
   "source": [
    "#### 토양 깊이에 따른 토양 함량의 평균 값 계산"
   ]
  },
  {
   "cell_type": "code",
   "execution_count": 17,
   "metadata": {},
   "outputs": [
    {
     "data": {
      "text/html": [
       "\n",
       "            <style>\n",
       "                .geemap-dark {\n",
       "                    --jp-widgets-color: white;\n",
       "                    --jp-widgets-label-color: white;\n",
       "                    --jp-ui-font-color1: white;\n",
       "                    --jp-layout-color2: #454545;\n",
       "                    background-color: #383838;\n",
       "                }\n",
       "                    \n",
       "                .geemap-dark .jupyter-button {\n",
       "                    --jp-layout-color3: #383838;\n",
       "                }\n",
       "                \n",
       "                .geemap-colab {\n",
       "                    background-color: var(--colab-primary-surface-color, white);\n",
       "                }\n",
       "                    \n",
       "                .geemap-colab .jupyter-button {\n",
       "                    --jp-layout-color3: var(--colab-primary-surface-color, white);\n",
       "                }\n",
       "            </style>\n",
       "            "
      ],
      "text/plain": [
       "<IPython.core.display.HTML object>"
      ]
     },
     "metadata": {},
     "output_type": "display_data"
    }
   ],
   "source": [
    "# 깊이에 따른 토양 속성의 평균 값을 계산하는 함수.\n",
    "def olm_prop_mean(olm_image, band_output_name):\n",
    "    \"\"\"\n",
    "    식물이 뿌리를 통해 접근할 수 있는 토양 깊이에 걸쳐 있는 수분 함량\n",
    "    \"\"\"\n",
    "    mean_image = olm_image.expression(\n",
    "        \"(b0 + b10 + b30 + b60 + b100 + b200) / 6\",\n",
    "        {\n",
    "            \"b0\": olm_image.select(\"b0\"),\n",
    "            \"b10\": olm_image.select(\"b10\"),\n",
    "            \"b30\": olm_image.select(\"b30\"),\n",
    "            \"b60\": olm_image.select(\"b60\"),\n",
    "            \"b100\": olm_image.select(\"b100\"),\n",
    "            \"b200\": olm_image.select(\"b200\"),\n",
    "        },\n",
    "    ).rename(band_output_name)\n",
    "\n",
    "    return mean_image"
   ]
  },
  {
   "cell_type": "code",
   "execution_count": 18,
   "metadata": {},
   "outputs": [
    {
     "data": {
      "text/html": [
       "\n",
       "            <style>\n",
       "                .geemap-dark {\n",
       "                    --jp-widgets-color: white;\n",
       "                    --jp-widgets-label-color: white;\n",
       "                    --jp-ui-font-color1: white;\n",
       "                    --jp-layout-color2: #454545;\n",
       "                    background-color: #383838;\n",
       "                }\n",
       "                    \n",
       "                .geemap-dark .jupyter-button {\n",
       "                    --jp-layout-color3: #383838;\n",
       "                }\n",
       "                \n",
       "                .geemap-colab {\n",
       "                    background-color: var(--colab-primary-surface-color, white);\n",
       "                }\n",
       "                    \n",
       "                .geemap-colab .jupyter-button {\n",
       "                    --jp-layout-color3: var(--colab-primary-surface-color, white);\n",
       "                }\n",
       "            </style>\n",
       "            "
      ],
      "text/plain": [
       "<IPython.core.display.HTML object>"
      ]
     },
     "metadata": {},
     "output_type": "display_data"
    }
   ],
   "source": [
    "zr = ee.Image(0.5)\n",
    "p = ee.Image(0.5)"
   ]
  },
  {
   "cell_type": "markdown",
   "metadata": {},
   "source": [
    "zr은 식물의 뿌리 깊이에 대한 비율을\n",
    "\n",
    "p는 필드 용량에 대한 토양의 현재 수분 함량 비율을 나타낸다"
   ]
  },
  {
   "cell_type": "code",
   "execution_count": 19,
   "metadata": {},
   "outputs": [
    {
     "data": {
      "text/html": [
       "\n",
       "            <style>\n",
       "                .geemap-dark {\n",
       "                    --jp-widgets-color: white;\n",
       "                    --jp-widgets-label-color: white;\n",
       "                    --jp-ui-font-color1: white;\n",
       "                    --jp-layout-color2: #454545;\n",
       "                    background-color: #383838;\n",
       "                }\n",
       "                    \n",
       "                .geemap-dark .jupyter-button {\n",
       "                    --jp-layout-color3: #383838;\n",
       "                }\n",
       "                \n",
       "                .geemap-colab {\n",
       "                    background-color: var(--colab-primary-surface-color, white);\n",
       "                }\n",
       "                    \n",
       "                .geemap-colab .jupyter-button {\n",
       "                    --jp-layout-color3: var(--colab-primary-surface-color, white);\n",
       "                }\n",
       "            </style>\n",
       "            "
      ],
      "text/plain": [
       "<IPython.core.display.HTML object>"
      ]
     },
     "metadata": {},
     "output_type": "display_data"
    }
   ],
   "source": [
    "# 필드 용량과 시듦점에 함수 적용.\n",
    "fcm = olm_prop_mean(field_capacity, \"fc_mean\")\n",
    "wpm = olm_prop_mean(wilting_point, \"wp_mean\")\n",
    "\n",
    "# 이론적으로 사용 가능한 물 계산\n",
    "# 토양 최대 수분용량 - 시들음점 차이 계산\n",
    "taw = (\n",
    "    (fcm.select(\"fc_mean\").subtract(wpm.select(\"wp_mean\"))).multiply(1000).multiply(zr)\n",
    ")\n",
    "\n",
    "# 토양 최대 수분용량에 저장된 물 계산.\n",
    "stfc = taw.multiply(p)"
   ]
  },
  {
   "cell_type": "markdown",
   "metadata": {},
   "source": [
    "시들음점과 토양 최대 수분용량을 통해 다음과 같은 식을 도출할 수 있다.\n",
    "- TAW = 1000 * (토양 최대 수분용량 - 시들음점) * 뿌리깊이\n",
    "- `TAW`는 식물이 건강하게 성장할 수 있음과 동시에 사용가능한 물의 양을 나타낸다.\n",
    "- TAW에 0과 1사이의 임의의 p값을 곱한 값이 `STFC`로 토양이 해당뿌리깊이에 해당하는 실제 수분량을 뜻한다."
   ]
  },
  {
   "cell_type": "markdown",
   "metadata": {},
   "source": [
    "#### 초기 상태 설정\n",
    "    - 지하수 유입량을 시간에 따라 추정하기 위해"
   ]
  },
  {
   "cell_type": "code",
   "execution_count": 20,
   "metadata": {},
   "outputs": [
    {
     "data": {
      "text/html": [
       "\n",
       "            <style>\n",
       "                .geemap-dark {\n",
       "                    --jp-widgets-color: white;\n",
       "                    --jp-widgets-label-color: white;\n",
       "                    --jp-ui-font-color1: white;\n",
       "                    --jp-layout-color2: #454545;\n",
       "                    background-color: #383838;\n",
       "                }\n",
       "                    \n",
       "                .geemap-dark .jupyter-button {\n",
       "                    --jp-layout-color3: #383838;\n",
       "                }\n",
       "                \n",
       "                .geemap-colab {\n",
       "                    background-color: var(--colab-primary-surface-color, white);\n",
       "                }\n",
       "                    \n",
       "                .geemap-colab .jupyter-button {\n",
       "                    --jp-layout-color3: var(--colab-primary-surface-color, white);\n",
       "                }\n",
       "            </style>\n",
       "            "
      ],
      "text/plain": [
       "<IPython.core.display.HTML object>"
      ]
     },
     "metadata": {},
     "output_type": "display_data"
    }
   ],
   "source": [
    "# 컬렉션의 시작에 따라 초기 시간(time0)을 정의합니다.\n",
    "time0 = meteo.first().get(\"system:time_start\")"
   ]
  },
  {
   "cell_type": "code",
   "execution_count": 21,
   "metadata": {},
   "outputs": [
    {
     "data": {
      "text/html": [
       "\n",
       "            <style>\n",
       "                .geemap-dark {\n",
       "                    --jp-widgets-color: white;\n",
       "                    --jp-widgets-label-color: white;\n",
       "                    --jp-ui-font-color1: white;\n",
       "                    --jp-layout-color2: #454545;\n",
       "                    background-color: #383838;\n",
       "                }\n",
       "                    \n",
       "                .geemap-dark .jupyter-button {\n",
       "                    --jp-layout-color3: #383838;\n",
       "                }\n",
       "                \n",
       "                .geemap-colab {\n",
       "                    background-color: var(--colab-primary-surface-color, white);\n",
       "                }\n",
       "                    \n",
       "                .geemap-colab .jupyter-button {\n",
       "                    --jp-layout-color3: var(--colab-primary-surface-color, white);\n",
       "                }\n",
       "            </style>\n",
       "            "
      ],
      "text/plain": [
       "<IPython.core.display.HTML object>"
      ]
     },
     "metadata": {},
     "output_type": "display_data"
    }
   ],
   "source": [
    "# 토양의 수분 상태를 설명하는 모든 밴드를 초기화합니다.\n",
    "# 데이터 유형을 .float()로 형변환하는 것을 잊지 마세요.\n",
    "\n",
    "# 초기 유입량 설정.\n",
    "initial_rech = ee.Image(0).set(\"system:time_start\", time0).select([0], [\"rech\"]).float()\n",
    "\n",
    "# 누적 잠재적 수분 손실(APWL) 초기화.\n",
    "initial_apwl = ee.Image(0).set(\"system:time_start\", time0).select([0], [\"apwl\"]).float()\n",
    "\n",
    "# 저장된 수분 초기화.\n",
    "initial_st = stfc.set(\"system:time_start\", time0).select([0], [\"st\"]).float()\n",
    "\n",
    "# 강수량 초기화.\n",
    "initial_pr = ee.Image(0).set(\"system:time_start\", time0).select([0], [\"pr\"]).float()\n",
    "\n",
    "# 잠재 증발산량 초기화.\n",
    "initial_pet = ee.Image(0).set(\"system:time_start\", time0).select([0], [\"pet\"]).float()"
   ]
  },
  {
   "cell_type": "code",
   "execution_count": 22,
   "metadata": {},
   "outputs": [
    {
     "data": {
      "text/html": [
       "\n",
       "            <style>\n",
       "                .geemap-dark {\n",
       "                    --jp-widgets-color: white;\n",
       "                    --jp-widgets-label-color: white;\n",
       "                    --jp-ui-font-color1: white;\n",
       "                    --jp-layout-color2: #454545;\n",
       "                    background-color: #383838;\n",
       "                }\n",
       "                    \n",
       "                .geemap-dark .jupyter-button {\n",
       "                    --jp-layout-color3: #383838;\n",
       "                }\n",
       "                \n",
       "                .geemap-colab {\n",
       "                    background-color: var(--colab-primary-surface-color, white);\n",
       "                }\n",
       "                    \n",
       "                .geemap-colab .jupyter-button {\n",
       "                    --jp-layout-color3: var(--colab-primary-surface-color, white);\n",
       "                }\n",
       "            </style>\n",
       "            "
      ],
      "text/plain": [
       "<IPython.core.display.HTML object>"
      ]
     },
     "metadata": {},
     "output_type": "display_data"
    }
   ],
   "source": [
    "# 초기 유입량 이미지에 다른 밴드들을 추가하여 모든 밴드를 하나의 이미지로 결합합니다.\n",
    "initial_image = initial_rech.addBands(\n",
    "    ee.Image([initial_apwl, initial_st, initial_pr, initial_pet])\n",
    ")\n",
    "\n",
    "# 생성된 이미지를 리스트에 추가합니다. 이 리스트는 시계열 분석에서 사용됩니다.\n",
    "image_list = ee.List([initial_image])"
   ]
  },
  {
   "cell_type": "markdown",
   "metadata": {},
   "source": [
    "#### 지하수 유입량 계산"
   ]
  },
  {
   "cell_type": "code",
   "execution_count": 23,
   "metadata": {},
   "outputs": [
    {
     "data": {
      "text/html": [
       "\n",
       "            <style>\n",
       "                .geemap-dark {\n",
       "                    --jp-widgets-color: white;\n",
       "                    --jp-widgets-label-color: white;\n",
       "                    --jp-ui-font-color1: white;\n",
       "                    --jp-layout-color2: #454545;\n",
       "                    background-color: #383838;\n",
       "                }\n",
       "                    \n",
       "                .geemap-dark .jupyter-button {\n",
       "                    --jp-layout-color3: #383838;\n",
       "                }\n",
       "                \n",
       "                .geemap-colab {\n",
       "                    background-color: var(--colab-primary-surface-color, white);\n",
       "                }\n",
       "                    \n",
       "                .geemap-colab .jupyter-button {\n",
       "                    --jp-layout-color3: var(--colab-primary-surface-color, white);\n",
       "                }\n",
       "            </style>\n",
       "            "
      ],
      "text/plain": [
       "<IPython.core.display.HTML object>"
      ]
     },
     "metadata": {},
     "output_type": "display_data"
    }
   ],
   "source": [
    "def recharge_calculator(image, image_list):\n",
    "\n",
    "    # 현재 ee.Image 컬렉션의 날짜 결정.\n",
    "    localdate = image.date().millis()\n",
    "\n",
    "    # 리스트에 저장된 이전 이미지 가져오기.\n",
    "    prev_im = ee.Image(ee.List(image_list).get(-1))\n",
    "\n",
    "    # 이전 APWL과 ST 가져오기.\n",
    "    prev_apwl = prev_im.select(\"apwl\")\n",
    "    prev_st = prev_im.select(\"st\")\n",
    "\n",
    "    # 현재 강수량과 증발산량 가져오기.\n",
    "    pr_im = image.select(\"pr\")\n",
    "    pet_im = image.select(\"pet\")\n",
    "\n",
    "    # 유입량, APWL, ST와 관련된 새로운 밴드 초기화\n",
    "    new_rech = (\n",
    "        ee.Image(0)\n",
    "        .set(\"system:time_start\", localdate)\n",
    "        .select([0], [\"rech\"])\n",
    "        .float()\n",
    "    )\n",
    "    new_apwl = (\n",
    "        ee.Image(0)\n",
    "        .set(\"system:time_start\", localdate)\n",
    "        .select([0], [\"apwl\"])\n",
    "        .float()\n",
    "    )\n",
    "    new_st = (\n",
    "        prev_st.set(\"system:time_start\", localdate).select([0], [\"st\"]).float()\n",
    "    )\n",
    "\n",
    "    # 조건에 따라 밴드 계산 수행\n",
    "\n",
    "    # CASE 1: PET > P 일 경우 (증발산량 > 강수량)\n",
    "    zone1 = pet_im.gt(pr_im)\n",
    "    # zone1에서 APWL(누적 잠재적 수분 손실) 계산\n",
    "    zone1_apwl = prev_apwl.add(pet_im.subtract(pr_im)).rename(\"apwl\")\n",
    "    # zone1의 APWL 값 구현\n",
    "    new_apwl = new_apwl.where(zone1, zone1_apwl)\n",
    "    # zone1에서 ST(저장 수분) 계산\n",
    "    zone1_st = prev_st.multiply(\n",
    "        ee.Image.exp(zone1_apwl.divide(stfc).multiply(-1))\n",
    "    ).rename(\"st\")\n",
    "    # zone1의 ST 값 구현\n",
    "    new_st = new_st.where(zone1, zone1_st)\n",
    "\n",
    "    # CASE 2: PET <= P 일 경우 (증발산량 <= 강수량)\n",
    "    zone2 = pet_im.lte(pr_im)\n",
    "    # zone2에서 ST 계산.\n",
    "    zone2_st = prev_st.add(pr_im).subtract(pet_im).rename(\"st\")\n",
    "    # zone2의 ST 값 구현.\n",
    "    new_st = new_st.where(zone2, zone2_st)\n",
    "\n",
    "    # CASE 2.1: PET <= P 및 ST >= STfc 일 경우\n",
    "    zone21 = zone2.And(zone2_st.gte(stfc))\n",
    "    # zone21에서 유입량 계산 즉, 필드 용량 이상의 수분이 있을때, 유입량 계산\n",
    "    zone21_re = zone2_st.subtract(stfc).rename(\"rech\")\n",
    "    # zone21의 유입량 값 구현.\n",
    "    new_rech = new_rech.where(zone21, zone21_re)\n",
    "    # zone21의 ST 값 구현.\n",
    "    new_st = new_st.where(zone21, stfc)\n",
    "\n",
    "    # CASE 2.2: PET <= P 및 ST < STfc 일 경우 즉, 필드 용량 미만의 수분이 있을때\n",
    "    zone22 = zone2.And(zone2_st.lt(stfc))\n",
    "    # zone22에서 APWL 계산.\n",
    "    zone22_apwl = (\n",
    "        stfc.multiply(-1).multiply(ee.Image.log(zone2_st.divide(stfc))).rename(\"apwl\")\n",
    "    )\n",
    "    # zone22의 APWL 값 구현.\n",
    "    new_apwl = new_apwl.where(zone22, zone22_apwl)\n",
    "\n",
    "    # 유입량 계산이 가능한 영역 주위에 마스크 생성.\n",
    "    mask = pet_im.gte(0).And(pr_im.gte(0)).And(fcm.gte(0)).And(wpm.gte(0))\n",
    "    # 마스크 적용.\n",
    "    new_rech = new_rech.updateMask(mask)\n",
    "\n",
    "    # 모든 밴드를 새로운 ee.Image에 추가.\n",
    "    new_image = new_rech.addBands(ee.Image([new_apwl, new_st, pr_im, pet_im]))\n",
    "\n",
    "    # 새로운 ee.Image를 ee.List에 추가.\n",
    "    return ee.List(image_list).add(new_image)"
   ]
  },
  {
   "cell_type": "code",
   "execution_count": 24,
   "metadata": {},
   "outputs": [
    {
     "data": {
      "text/html": [
       "\n",
       "            <style>\n",
       "                .geemap-dark {\n",
       "                    --jp-widgets-color: white;\n",
       "                    --jp-widgets-label-color: white;\n",
       "                    --jp-ui-font-color1: white;\n",
       "                    --jp-layout-color2: #454545;\n",
       "                    background-color: #383838;\n",
       "                }\n",
       "                    \n",
       "                .geemap-dark .jupyter-button {\n",
       "                    --jp-layout-color3: #383838;\n",
       "                }\n",
       "                \n",
       "                .geemap-colab {\n",
       "                    background-color: var(--colab-primary-surface-color, white);\n",
       "                }\n",
       "                    \n",
       "                .geemap-colab .jupyter-button {\n",
       "                    --jp-layout-color3: var(--colab-primary-surface-color, white);\n",
       "                }\n",
       "            </style>\n",
       "            "
      ],
      "text/plain": [
       "<IPython.core.display.HTML object>"
      ]
     },
     "metadata": {},
     "output_type": "display_data"
    }
   ],
   "source": [
    "# 사용자 정의 함수를 기상 데이터 컬렉션에 적용.\n",
    "rech_list = meteo.iterate(recharge_calculator, image_list)\n",
    "\n",
    "# 리스트에서 초기 이미지 제거.\n",
    "rech_list = ee.List(rech_list).remove(initial_image)\n",
    "\n",
    "# 리스트를 ee.ImageCollection으로 변환.\n",
    "rech_coll = ee.ImageCollection(rech_list)"
   ]
  },
  {
   "cell_type": "code",
   "execution_count": 25,
   "metadata": {},
   "outputs": [
    {
     "data": {
      "text/html": [
       "\n",
       "            <style>\n",
       "                .geemap-dark {\n",
       "                    --jp-widgets-color: white;\n",
       "                    --jp-widgets-label-color: white;\n",
       "                    --jp-ui-font-color1: white;\n",
       "                    --jp-layout-color2: #454545;\n",
       "                    background-color: #383838;\n",
       "                }\n",
       "                    \n",
       "                .geemap-dark .jupyter-button {\n",
       "                    --jp-layout-color3: #383838;\n",
       "                }\n",
       "                \n",
       "                .geemap-colab {\n",
       "                    background-color: var(--colab-primary-surface-color, white);\n",
       "                }\n",
       "                    \n",
       "                .geemap-colab .jupyter-button {\n",
       "                    --jp-layout-color3: var(--colab-primary-surface-color, white);\n",
       "                }\n",
       "            </style>\n",
       "            "
      ],
      "text/plain": [
       "<IPython.core.display.HTML object>"
      ]
     },
     "metadata": {},
     "output_type": "display_data"
    }
   ],
   "source": [
    "# 연평균 지하수 유입량 계산\n",
    "annual_rech = rech_coll.select(\"rech\").mean().multiply(12)\n",
    "\n",
    "# 연평균 강수량 계산\n",
    "annual_pr = rech_coll.select(\"pr\").mean().multiply(12)"
   ]
  },
  {
   "cell_type": "code",
   "execution_count": 26,
   "metadata": {},
   "outputs": [
    {
     "data": {
      "text/html": [
       "\n",
       "            <style>\n",
       "                .geemap-dark {\n",
       "                    --jp-widgets-color: white;\n",
       "                    --jp-widgets-label-color: white;\n",
       "                    --jp-ui-font-color1: white;\n",
       "                    --jp-layout-color2: #454545;\n",
       "                    background-color: #383838;\n",
       "                }\n",
       "                    \n",
       "                .geemap-dark .jupyter-button {\n",
       "                    --jp-layout-color3: #383838;\n",
       "                }\n",
       "                \n",
       "                .geemap-colab {\n",
       "                    background-color: var(--colab-primary-surface-color, white);\n",
       "                }\n",
       "                    \n",
       "                .geemap-colab .jupyter-button {\n",
       "                    --jp-layout-color3: var(--colab-primary-surface-color, white);\n",
       "                }\n",
       "            </style>\n",
       "            "
      ],
      "text/plain": [
       "<IPython.core.display.HTML object>"
      ]
     },
     "metadata": {},
     "output_type": "display_data"
    }
   ],
   "source": [
    "# 관심 지역 주변에 컴포지트 ee.Images 클리핑.\n",
    "rech_park = annual_rech.clip(park)\n",
    "pr_park = annual_pr.clip(park)"
   ]
  },
  {
   "cell_type": "code",
   "execution_count": 27,
   "metadata": {},
   "outputs": [
    {
     "data": {
      "text/html": [
       "\n",
       "            <style>\n",
       "                .geemap-dark {\n",
       "                    --jp-widgets-color: white;\n",
       "                    --jp-widgets-label-color: white;\n",
       "                    --jp-ui-font-color1: white;\n",
       "                    --jp-layout-color2: #454545;\n",
       "                    background-color: #383838;\n",
       "                }\n",
       "                    \n",
       "                .geemap-dark .jupyter-button {\n",
       "                    --jp-layout-color3: #383838;\n",
       "                }\n",
       "                \n",
       "                .geemap-colab {\n",
       "                    background-color: var(--colab-primary-surface-color, white);\n",
       "                }\n",
       "                    \n",
       "                .geemap-colab .jupyter-button {\n",
       "                    --jp-layout-color3: var(--colab-primary-surface-color, white);\n",
       "                }\n",
       "            </style>\n",
       "            "
      ],
      "text/plain": [
       "<IPython.core.display.HTML object>"
      ]
     },
     "metadata": {},
     "output_type": "display_data"
    },
    {
     "data": {
      "text/html": [
       "<div style=\"width:100%;\"><div style=\"position:relative;width:100%;height:0;padding-bottom:60%;\"><span style=\"color:#565656\">Make this Notebook Trusted to load map: File -> Trust Notebook</span><iframe srcdoc=\"&lt;!DOCTYPE html&gt;\n",
       "&lt;html&gt;\n",
       "&lt;head&gt;\n",
       "    \n",
       "    &lt;meta http-equiv=&quot;content-type&quot; content=&quot;text/html; charset=UTF-8&quot; /&gt;\n",
       "    \n",
       "        &lt;script&gt;\n",
       "            L_NO_TOUCH = false;\n",
       "            L_DISABLE_3D = false;\n",
       "        &lt;/script&gt;\n",
       "    \n",
       "    &lt;style&gt;html, body {width: 100%;height: 100%;margin: 0;padding: 0;}&lt;/style&gt;\n",
       "    &lt;style&gt;#map {position:absolute;top:0;bottom:0;right:0;left:0;}&lt;/style&gt;\n",
       "    &lt;script src=&quot;https://cdn.jsdelivr.net/npm/leaflet@1.9.3/dist/leaflet.js&quot;&gt;&lt;/script&gt;\n",
       "    &lt;script src=&quot;https://code.jquery.com/jquery-3.7.1.min.js&quot;&gt;&lt;/script&gt;\n",
       "    &lt;script src=&quot;https://cdn.jsdelivr.net/npm/bootstrap@5.2.2/dist/js/bootstrap.bundle.min.js&quot;&gt;&lt;/script&gt;\n",
       "    &lt;script src=&quot;https://cdnjs.cloudflare.com/ajax/libs/Leaflet.awesome-markers/2.0.2/leaflet.awesome-markers.js&quot;&gt;&lt;/script&gt;\n",
       "    &lt;link rel=&quot;stylesheet&quot; href=&quot;https://cdn.jsdelivr.net/npm/leaflet@1.9.3/dist/leaflet.css&quot;/&gt;\n",
       "    &lt;link rel=&quot;stylesheet&quot; href=&quot;https://cdn.jsdelivr.net/npm/bootstrap@5.2.2/dist/css/bootstrap.min.css&quot;/&gt;\n",
       "    &lt;link rel=&quot;stylesheet&quot; href=&quot;https://netdna.bootstrapcdn.com/bootstrap/3.0.0/css/bootstrap.min.css&quot;/&gt;\n",
       "    &lt;link rel=&quot;stylesheet&quot; href=&quot;https://cdn.jsdelivr.net/npm/@fortawesome/fontawesome-free@6.2.0/css/all.min.css&quot;/&gt;\n",
       "    &lt;link rel=&quot;stylesheet&quot; href=&quot;https://cdnjs.cloudflare.com/ajax/libs/Leaflet.awesome-markers/2.0.2/leaflet.awesome-markers.css&quot;/&gt;\n",
       "    &lt;link rel=&quot;stylesheet&quot; href=&quot;https://cdn.jsdelivr.net/gh/python-visualization/folium/folium/templates/leaflet.awesome.rotate.min.css&quot;/&gt;\n",
       "    \n",
       "            &lt;meta name=&quot;viewport&quot; content=&quot;width=device-width,\n",
       "                initial-scale=1.0, maximum-scale=1.0, user-scalable=no&quot; /&gt;\n",
       "            &lt;style&gt;\n",
       "                #map_e174a88826457d087adfa49e1e8f54ca {\n",
       "                    position: relative;\n",
       "                    width: 100.0%;\n",
       "                    height: 100.0%;\n",
       "                    left: 0.0%;\n",
       "                    top: 0.0%;\n",
       "                }\n",
       "                .leaflet-container { font-size: 1rem; }\n",
       "            &lt;/style&gt;\n",
       "        \n",
       "    &lt;script src=&quot;https://cdnjs.cloudflare.com/ajax/libs/leaflet.draw/1.0.2/leaflet.draw.js&quot;&gt;&lt;/script&gt;\n",
       "    &lt;link rel=&quot;stylesheet&quot; href=&quot;https://cdnjs.cloudflare.com/ajax/libs/leaflet.draw/1.0.2/leaflet.draw.css&quot;/&gt;\n",
       "    \n",
       "            &lt;style&gt;\n",
       "                #export {\n",
       "                    position: absolute;\n",
       "                    top: 5px;\n",
       "                    right: 10px;\n",
       "                    z-index: 999;\n",
       "                    background: white;\n",
       "                    color: black;\n",
       "                    padding: 6px;\n",
       "                    border-radius: 4px;\n",
       "                    font-family: &#x27;Helvetica Neue&#x27;;\n",
       "                    cursor: pointer;\n",
       "                    font-size: 12px;\n",
       "                    text-decoration: none;\n",
       "                    top: 90px;\n",
       "                }\n",
       "            &lt;/style&gt;\n",
       "        \n",
       "&lt;/head&gt;\n",
       "&lt;body&gt;\n",
       "    \n",
       "    \n",
       "            &lt;div class=&quot;folium-map&quot; id=&quot;map_e174a88826457d087adfa49e1e8f54ca&quot; &gt;&lt;/div&gt;\n",
       "        \n",
       "    &lt;a href=&#x27;#&#x27; id=&#x27;export&#x27;&gt;Export&lt;/a&gt;\n",
       "&lt;/body&gt;\n",
       "&lt;script&gt;\n",
       "    \n",
       "    \n",
       "            var map_e174a88826457d087adfa49e1e8f54ca = L.map(\n",
       "                &quot;map_e174a88826457d087adfa49e1e8f54ca&quot;,\n",
       "                {\n",
       "                    center: [37.667895237363865, 126.99013696682607],\n",
       "                    crs: L.CRS.EPSG3857,\n",
       "                    zoom: 12,\n",
       "                    zoomControl: true,\n",
       "                    preferCanvas: false,\n",
       "                }\n",
       "            );\n",
       "\n",
       "            \n",
       "\n",
       "        \n",
       "    \n",
       "            var tile_layer_07579160432b300009ef19b185fbf09f = L.tileLayer(\n",
       "                &quot;https://{s}.tile.openstreetmap.org/{z}/{x}/{y}.png&quot;,\n",
       "                {&quot;attribution&quot;: &quot;Data by \\u0026copy; \\u003ca target=\\&quot;_blank\\&quot; href=\\&quot;http://openstreetmap.org\\&quot;\\u003eOpenStreetMap\\u003c/a\\u003e, under \\u003ca target=\\&quot;_blank\\&quot; href=\\&quot;http://www.openstreetmap.org/copyright\\&quot;\\u003eODbL\\u003c/a\\u003e.&quot;, &quot;detectRetina&quot;: false, &quot;maxNativeZoom&quot;: 18, &quot;maxZoom&quot;: 18, &quot;minZoom&quot;: 0, &quot;noWrap&quot;: false, &quot;opacity&quot;: 1, &quot;subdomains&quot;: &quot;abc&quot;, &quot;tms&quot;: false}\n",
       "            );\n",
       "        \n",
       "    \n",
       "                tile_layer_07579160432b300009ef19b185fbf09f.addTo(map_e174a88826457d087adfa49e1e8f54ca);\n",
       "    \n",
       "            var options = {\n",
       "              position: &quot;topleft&quot;,\n",
       "              draw: {&quot;circle&quot;: false, &quot;circlemarker&quot;: false, &quot;marker&quot;: true, &quot;polygon&quot;: true, &quot;polyline&quot;: false, &quot;rectangle&quot;: true},\n",
       "              edit: {&quot;edit&quot;: false},\n",
       "            }\n",
       "            // FeatureGroup is to store editable layers.\n",
       "            var drawnItems_draw_control_7efb20b8c3171ebb554e71189491eeb5 = new L.featureGroup().addTo(\n",
       "                map_e174a88826457d087adfa49e1e8f54ca\n",
       "            );\n",
       "            options.edit.featureGroup = drawnItems_draw_control_7efb20b8c3171ebb554e71189491eeb5;\n",
       "            var draw_control_7efb20b8c3171ebb554e71189491eeb5 = new L.Control.Draw(\n",
       "                options\n",
       "            ).addTo( map_e174a88826457d087adfa49e1e8f54ca );\n",
       "            map_e174a88826457d087adfa49e1e8f54ca.on(L.Draw.Event.CREATED, function(e) {\n",
       "                var layer = e.layer,\n",
       "                    type = e.layerType;\n",
       "                var coords = JSON.stringify(layer.toGeoJSON());\n",
       "                layer.on(&#x27;click&#x27;, function() {\n",
       "                    alert(coords);\n",
       "                    console.log(coords);\n",
       "                });\n",
       "                drawnItems_draw_control_7efb20b8c3171ebb554e71189491eeb5.addLayer(layer);\n",
       "             });\n",
       "            map_e174a88826457d087adfa49e1e8f54ca.on(&#x27;draw:created&#x27;, function(e) {\n",
       "                drawnItems_draw_control_7efb20b8c3171ebb554e71189491eeb5.addLayer(e.layer);\n",
       "            });\n",
       "            \n",
       "            document.getElementById(&#x27;export&#x27;).onclick = function(e) {\n",
       "                var data = drawnItems_draw_control_7efb20b8c3171ebb554e71189491eeb5.toGeoJSON();\n",
       "                var convertedData = &#x27;text/json;charset=utf-8,&#x27;\n",
       "                    + encodeURIComponent(JSON.stringify(data));\n",
       "                document.getElementById(&#x27;export&#x27;).setAttribute(\n",
       "                    &#x27;href&#x27;, &#x27;data:&#x27; + convertedData\n",
       "                );\n",
       "                document.getElementById(&#x27;export&#x27;).setAttribute(\n",
       "                    &#x27;download&#x27;, &quot;drawn_data.json&quot;\n",
       "                );\n",
       "            }\n",
       "            \n",
       "        \n",
       "    \n",
       "            var tile_layer_5ffe38cf3b6e827d33aa4efdfcc78c2c = L.tileLayer(\n",
       "                &quot;https://earthengine.googleapis.com/v1/projects/earthengine-legacy/maps/18f4d29e5e36866067491dd367f787de-a0c13eeb9f1d38e483024c462dd21fe0/tiles/{z}/{x}/{y}&quot;,\n",
       "                {&quot;attribution&quot;: &quot;Map Data \\u0026copy; \\u003ca href=\\u0027https://earthengine.google.com/\\u0027\\u003eGoogle Earth Engine\\u003c/a\\u003e&quot;, &quot;detectRetina&quot;: false, &quot;maxNativeZoom&quot;: 18, &quot;maxZoom&quot;: 18, &quot;minZoom&quot;: 0, &quot;noWrap&quot;: false, &quot;opacity&quot;: 1, &quot;subdomains&quot;: &quot;abc&quot;, &quot;tms&quot;: false}\n",
       "            );\n",
       "        \n",
       "    \n",
       "                tile_layer_5ffe38cf3b6e827d33aa4efdfcc78c2c.addTo(map_e174a88826457d087adfa49e1e8f54ca);\n",
       "    \n",
       "            var tile_layer_f53ee5daf4fe7cb150ee3f274bf7eb93 = L.tileLayer(\n",
       "                &quot;https://earthengine.googleapis.com/v1/projects/earthengine-legacy/maps/84d27d18dabed9c49e6611f7e80952f8-7b08dd958f8ffc268ae3ceffcbea698e/tiles/{z}/{x}/{y}&quot;,\n",
       "                {&quot;attribution&quot;: &quot;Map Data \\u0026copy; \\u003ca href=\\u0027https://earthengine.google.com/\\u0027\\u003eGoogle Earth Engine\\u003c/a\\u003e&quot;, &quot;detectRetina&quot;: false, &quot;maxNativeZoom&quot;: 18, &quot;maxZoom&quot;: 18, &quot;minZoom&quot;: 0, &quot;noWrap&quot;: false, &quot;opacity&quot;: 1, &quot;subdomains&quot;: &quot;abc&quot;, &quot;tms&quot;: false}\n",
       "            );\n",
       "        \n",
       "    \n",
       "                tile_layer_f53ee5daf4fe7cb150ee3f274bf7eb93.addTo(map_e174a88826457d087adfa49e1e8f54ca);\n",
       "    \n",
       "                var lat_lng_popup_a39aa6142d07b282f023171289609cd6 = L.popup();\n",
       "                function latLngPop(e) {\n",
       "                    lat_lng_popup_a39aa6142d07b282f023171289609cd6\n",
       "                        .setLatLng(e.latlng)\n",
       "                        .setContent(&quot;Latitude: &quot; + e.latlng.lat.toFixed(4) +\n",
       "                                    &quot;&lt;br&gt;Longitude: &quot; + e.latlng.lng.toFixed(4))\n",
       "                        .openOn(map_e174a88826457d087adfa49e1e8f54ca);\n",
       "                    }\n",
       "                map_e174a88826457d087adfa49e1e8f54ca.on(&#x27;click&#x27;, latLngPop);\n",
       "            \n",
       "    \n",
       "            var layer_control_78ebd58945b1ffd56e22173d41eb0dc5_layers = {\n",
       "                base_layers : {\n",
       "                    &quot;openstreetmap&quot; : tile_layer_07579160432b300009ef19b185fbf09f,\n",
       "                },\n",
       "                overlays :  {\n",
       "                    &quot;Precipitation&quot; : tile_layer_5ffe38cf3b6e827d33aa4efdfcc78c2c,\n",
       "                    &quot;Recharge&quot; : tile_layer_f53ee5daf4fe7cb150ee3f274bf7eb93,\n",
       "                },\n",
       "            };\n",
       "            let layer_control_78ebd58945b1ffd56e22173d41eb0dc5 = L.control.layers(\n",
       "                layer_control_78ebd58945b1ffd56e22173d41eb0dc5_layers.base_layers,\n",
       "                layer_control_78ebd58945b1ffd56e22173d41eb0dc5_layers.overlays,\n",
       "                {&quot;autoZIndex&quot;: true, &quot;collapsed&quot;: true, &quot;position&quot;: &quot;topright&quot;}\n",
       "            ).addTo(map_e174a88826457d087adfa49e1e8f54ca);\n",
       "\n",
       "        \n",
       "&lt;/script&gt;\n",
       "&lt;/html&gt;\" style=\"position:absolute;width:100%;height:100%;left:0;top:0;border:none !important;\" allowfullscreen webkitallowfullscreen mozallowfullscreen></iframe></div></div>"
      ],
      "text/plain": [
       "<folium.folium.Map at 0x1d1fdc4f9a0>"
      ]
     },
     "metadata": {},
     "output_type": "display_data"
    }
   ],
   "source": [
    "# folium 지도 생성\n",
    "my_map = folium.Map(location=location, zoom_start=12, zoom_control=True)\n",
    "\n",
    "# 그리기 플러그인 추가\n",
    "draw = Draw(\n",
    "    export=True,\n",
    "    filename='drawn_data.json',\n",
    "    position='topleft',\n",
    "    draw_options={\n",
    "        'polyline': False,\n",
    "        'rectangle': True,\n",
    "        'polygon': True,\n",
    "        'circle': False,\n",
    "        'marker': True,\n",
    "        'circlemarker': False,\n",
    "    },\n",
    "    edit_options={'edit': False}\n",
    ")\n",
    "\n",
    "# 그리기 플러그인을 지도에 추가\n",
    "draw.add_to(my_map)\n",
    "\n",
    "# 지하수 유입률 시각화 파라미터 설정\n",
    "rech_vis_params = {\n",
    "    \"bands\": \"rech\",\n",
    "    \"min\": 0,\n",
    "    \"max\": 500,\n",
    "    \"opacity\": 1,\n",
    "    \"palette\": [\"red\", \"orange\", \"yellow\", \"green\", \"blue\", \"purple\"],\n",
    "}\n",
    "\n",
    "# 강수량 시각화 파라미터 설정\n",
    "pr_vis_params = {\n",
    "    \"bands\": \"pr\",\n",
    "    \"min\": 500,\n",
    "    \"max\": 1500,\n",
    "    \"opacity\": 1,\n",
    "    \"palette\": [\"white\", \"blue\"],\n",
    "}\n",
    "\n",
    "# 지하수 유입률 컬러맵 정의\n",
    "rech_colormap = cm.LinearColormap(\n",
    "    colors=rech_vis_params[\"palette\"],\n",
    "    caption=\"Average annual recharge rate (mm/year)\",\n",
    "    vmin=rech_vis_params[\"min\"],\n",
    "    vmax=rech_vis_params[\"max\"],\n",
    ")\n",
    "\n",
    "# 강수량 컬러맵 정의\n",
    "pr_colormap = cm.LinearColormap(\n",
    "    colors=pr_vis_params[\"palette\"],\n",
    "    caption= \"Average annual precipitation rate (mm/year)\",\n",
    "    vmin=pr_vis_params[\"min\"],\n",
    "    vmax=pr_vis_params[\"max\"],\n",
    ")\n",
    "# # 컬러맵을 지도에 추가\n",
    "# my_map.add_child(rech_colormap)\n",
    "# my_map.add_child(pr_colormap)\n",
    "\n",
    "# 강수량 컴포지트를 지도 객체에 추가\n",
    "my_map.add_ee_layer(pr_park, pr_vis_params, \"Precipitation\")\n",
    "\n",
    "# 지하수 유입량을 컴포지트를 지도 객체에 추가\n",
    "my_map.add_ee_layer(rech_park, rech_vis_params, \"Recharge\")\n",
    "\n",
    "# 클릭 시 경도, 위도 알려줌\n",
    "my_map.add_child(folium.LatLngPopup())\n",
    "\n",
    "# 지도에 레이어 컨트롤 패널 추가\n",
    "my_map.add_child(folium.LayerControl())\n",
    "\n",
    "\n",
    "# 지도 표시\n",
    "display(my_map)"
   ]
  },
  {
   "cell_type": "markdown",
   "metadata": {},
   "source": [
    "지하수 유입량은 강수로부터 지하수 표면에 도달하는 물의 양을 의미한다.\n",
    "- 빨간 계열 즉, 밝은 색은 낮은 강수량과 낮은 유입량을\n",
    "\n",
    "  파란 계열 즉, 어두운 색은 높은 강수량 또는 높은 유입량을 의미"
   ]
  },
  {
   "cell_type": "code",
   "execution_count": 28,
   "metadata": {},
   "outputs": [
    {
     "data": {
      "text/html": [
       "\n",
       "            <style>\n",
       "                .geemap-dark {\n",
       "                    --jp-widgets-color: white;\n",
       "                    --jp-widgets-label-color: white;\n",
       "                    --jp-ui-font-color1: white;\n",
       "                    --jp-layout-color2: #454545;\n",
       "                    background-color: #383838;\n",
       "                }\n",
       "                    \n",
       "                .geemap-dark .jupyter-button {\n",
       "                    --jp-layout-color3: #383838;\n",
       "                }\n",
       "                \n",
       "                .geemap-colab {\n",
       "                    background-color: var(--colab-primary-surface-color, white);\n",
       "                }\n",
       "                    \n",
       "                .geemap-colab .jupyter-button {\n",
       "                    --jp-layout-color3: var(--colab-primary-surface-color, white);\n",
       "                }\n",
       "            </style>\n",
       "            "
      ],
      "text/plain": [
       "<IPython.core.display.HTML object>"
      ]
     },
     "metadata": {},
     "output_type": "display_data"
    }
   ],
   "source": [
    "# 분석에 사용할 투영의 명목상의 해상도 [단위: 미터].\n",
    "scale = 1000"
   ]
  },
  {
   "cell_type": "code",
   "execution_count": 29,
   "metadata": {},
   "outputs": [
    {
     "data": {
      "text/html": [
       "\n",
       "            <style>\n",
       "                .geemap-dark {\n",
       "                    --jp-widgets-color: white;\n",
       "                    --jp-widgets-label-color: white;\n",
       "                    --jp-ui-font-color1: white;\n",
       "                    --jp-layout-color2: #454545;\n",
       "                    background-color: #383838;\n",
       "                }\n",
       "                    \n",
       "                .geemap-dark .jupyter-button {\n",
       "                    --jp-layout-color3: #383838;\n",
       "                }\n",
       "                \n",
       "                .geemap-colab {\n",
       "                    background-color: var(--colab-primary-surface-color, white);\n",
       "                }\n",
       "                    \n",
       "                .geemap-colab .jupyter-button {\n",
       "                    --jp-layout-color3: var(--colab-primary-surface-color, white);\n",
       "                }\n",
       "            </style>\n",
       "            "
      ],
      "text/plain": [
       "<IPython.core.display.HTML object>"
      ]
     },
     "metadata": {},
     "output_type": "display_data"
    }
   ],
   "source": [
    "# Step 1: GeoJSON 파일 업로드\n",
    "geojson_file = 'C:/nuriho_A/drawn_data.json'  # 파일 경로 수정\n",
    "region = gpd.read_file(geojson_file)"
   ]
  },
  {
   "cell_type": "code",
   "execution_count": 30,
   "metadata": {},
   "outputs": [
    {
     "data": {
      "text/html": [
       "\n",
       "            <style>\n",
       "                .geemap-dark {\n",
       "                    --jp-widgets-color: white;\n",
       "                    --jp-widgets-label-color: white;\n",
       "                    --jp-ui-font-color1: white;\n",
       "                    --jp-layout-color2: #454545;\n",
       "                    background-color: #383838;\n",
       "                }\n",
       "                    \n",
       "                .geemap-dark .jupyter-button {\n",
       "                    --jp-layout-color3: #383838;\n",
       "                }\n",
       "                \n",
       "                .geemap-colab {\n",
       "                    background-color: var(--colab-primary-surface-color, white);\n",
       "                }\n",
       "                    \n",
       "                .geemap-colab .jupyter-button {\n",
       "                    --jp-layout-color3: var(--colab-primary-surface-color, white);\n",
       "                }\n",
       "            </style>\n",
       "            "
      ],
      "text/plain": [
       "<IPython.core.display.HTML object>"
      ]
     },
     "metadata": {},
     "output_type": "display_data"
    }
   ],
   "source": [
    "region_geojson = region.__geo_interface__\n",
    "\n",
    "region_geo = ee.Geometry(region_geojson['features'][0]['geometry'])"
   ]
  },
  {
   "cell_type": "code",
   "execution_count": 31,
   "metadata": {},
   "outputs": [
    {
     "data": {
      "text/html": [
       "\n",
       "            <style>\n",
       "                .geemap-dark {\n",
       "                    --jp-widgets-color: white;\n",
       "                    --jp-widgets-label-color: white;\n",
       "                    --jp-ui-font-color1: white;\n",
       "                    --jp-layout-color2: #454545;\n",
       "                    background-color: #383838;\n",
       "                }\n",
       "                    \n",
       "                .geemap-dark .jupyter-button {\n",
       "                    --jp-layout-color3: #383838;\n",
       "                }\n",
       "                \n",
       "                .geemap-colab {\n",
       "                    background-color: var(--colab-primary-surface-color, white);\n",
       "                }\n",
       "                    \n",
       "                .geemap-colab .jupyter-button {\n",
       "                    --jp-layout-color3: var(--colab-primary-surface-color, white);\n",
       "                }\n",
       "            </style>\n",
       "            "
      ],
      "text/plain": [
       "<IPython.core.display.HTML object>"
      ]
     },
     "metadata": {},
     "output_type": "display_data"
    },
    {
     "data": {
      "text/html": [
       "<div><style>:root {\n",
       "  --font-color-primary: var(--jp-content-font-color0, rgba(0, 0, 0, 1));\n",
       "  --font-color-secondary: var(--jp-content-font-color2, rgba(0, 0, 0, 0.6));\n",
       "  --font-color-accent: rgba(123, 31, 162, 1);\n",
       "  --border-color: var(--jp-border-color2, #e0e0e0);\n",
       "  --background-color: var(--jp-layout-color0, white);\n",
       "  --background-color-row-even: var(--jp-layout-color1, white);\n",
       "  --background-color-row-odd: var(--jp-layout-color2, #eeeeee);\n",
       "}\n",
       "\n",
       "html[theme=\"dark\"],\n",
       "body[data-theme=\"dark\"],\n",
       "body.vscode-dark {\n",
       "  --font-color-primary: rgba(255, 255, 255, 1);\n",
       "  --font-color-secondary: rgba(255, 255, 255, 0.6);\n",
       "  --font-color-accent: rgb(173, 132, 190);\n",
       "  --border-color: #2e2e2e;\n",
       "  --background-color: #111111;\n",
       "  --background-color-row-even: #111111;\n",
       "  --background-color-row-odd: #313131;\n",
       "}\n",
       "\n",
       ".ee {\n",
       "  padding: 1em;\n",
       "  line-height: 1.5em;\n",
       "  min-width: 300px;\n",
       "  max-width: 1200px;\n",
       "  overflow-y: scroll;\n",
       "  max-height: 600px;\n",
       "  border: 1px solid var(--border-color);\n",
       "  font-family: monospace;\n",
       "}\n",
       "\n",
       ".ee li {\n",
       "  list-style-type: none;\n",
       "}\n",
       "\n",
       ".ee ul {\n",
       "  padding-left: 1.5em !important;\n",
       "  margin: 0;\n",
       "}\n",
       "\n",
       ".ee > ul {\n",
       "  padding-left: 0 !important;\n",
       "}\n",
       "\n",
       ".ee-open,\n",
       ".ee-shut {\n",
       "  color: var(--font-color-secondary);\n",
       "  cursor: pointer;\n",
       "  margin: 0;\n",
       "}\n",
       "\n",
       ".ee-open:hover,\n",
       ".ee-shut:hover {\n",
       "  color: var(--font-color-primary);\n",
       "}\n",
       "\n",
       ".ee-k {\n",
       "  color: var(--font-color-accent);\n",
       "  margin-right: 6px;\n",
       "}\n",
       "\n",
       ".ee-v {\n",
       "  color: var(--font-color-primary);\n",
       "}\n",
       "\n",
       ".ee-toggle {\n",
       "  display: none;\n",
       "}\n",
       "\n",
       ".ee-shut + ul {\n",
       "  display: none;\n",
       "}\n",
       "\n",
       ".ee-open + ul {\n",
       "  display: block;\n",
       "}\n",
       "\n",
       ".ee-shut::before {\n",
       "  display: inline-block;\n",
       "  content: \"▼\";\n",
       "  margin-right: 6px;\n",
       "  transform: rotate(-90deg);\n",
       "  transition: transform 0.2s;\n",
       "}\n",
       "\n",
       ".ee-open::before {\n",
       "  transform: rotate(0deg);\n",
       "  display: inline-block;\n",
       "  content: \"▼\";\n",
       "  margin-right: 6px;\n",
       "  transition: transform 0.2s;\n",
       "}\n",
       "</style><div class='ee'><ul><li><label class='ee-shut'>Polygon (5 vertices)<input type='checkbox' class='ee-toggle'></label><ul><li><span class='ee-k'>type:</span><span class='ee-v'>Polygon</span></li><li><label class='ee-shut'>coordinates: List (1 element)<input type='checkbox' class='ee-toggle'></label><ul><li><label class='ee-shut'>0: List (5 elements)<input type='checkbox' class='ee-toggle'></label><ul><li><label class='ee-shut'>0: [126.980711, 37.669648]<input type='checkbox' class='ee-toggle'></label><ul><li><span class='ee-k'>0:</span><span class='ee-v'>126.980711</span></li><li><span class='ee-k'>1:</span><span class='ee-v'>37.669648</span></li></ul></li><li><label class='ee-shut'>1: [127.025371, 37.669648]<input type='checkbox' class='ee-toggle'></label><ul><li><span class='ee-k'>0:</span><span class='ee-v'>127.025371</span></li><li><span class='ee-k'>1:</span><span class='ee-v'>37.669648</span></li></ul></li><li><label class='ee-shut'>2: [127.025371, 37.690593]<input type='checkbox' class='ee-toggle'></label><ul><li><span class='ee-k'>0:</span><span class='ee-v'>127.025371</span></li><li><span class='ee-k'>1:</span><span class='ee-v'>37.690593</span></li></ul></li><li><label class='ee-shut'>3: [126.980711, 37.690593]<input type='checkbox' class='ee-toggle'></label><ul><li><span class='ee-k'>0:</span><span class='ee-v'>126.980711</span></li><li><span class='ee-k'>1:</span><span class='ee-v'>37.690593</span></li></ul></li><li><label class='ee-shut'>4: [126.980711, 37.669648]<input type='checkbox' class='ee-toggle'></label><ul><li><span class='ee-k'>0:</span><span class='ee-v'>126.980711</span></li><li><span class='ee-k'>1:</span><span class='ee-v'>37.669648</span></li></ul></li></ul></li></ul></li></ul></li></ul></div><script>function toggleHeader() {\n",
       "    const parent = this.parentElement;\n",
       "    parent.className = parent.className === \"ee-open\" ? \"ee-shut\" : \"ee-open\";\n",
       "}\n",
       "\n",
       "for (let c of document.getElementsByClassName(\"ee-toggle\")) {\n",
       "    c.onclick = toggleHeader;\n",
       "}</script></div>"
      ],
      "text/plain": [
       "ee.Geometry({\n",
       "  \"functionInvocationValue\": {\n",
       "    \"functionName\": \"GeometryConstructors.Polygon\",\n",
       "    \"arguments\": {\n",
       "      \"coordinates\": {\n",
       "        \"constantValue\": [\n",
       "          [\n",
       "            [\n",
       "              126.980711,\n",
       "              37.669648\n",
       "            ],\n",
       "            [\n",
       "              126.980711,\n",
       "              37.690593\n",
       "            ],\n",
       "            [\n",
       "              127.025371,\n",
       "              37.690593\n",
       "            ],\n",
       "            [\n",
       "              127.025371,\n",
       "              37.669648\n",
       "            ],\n",
       "            [\n",
       "              126.980711,\n",
       "              37.669648\n",
       "            ]\n",
       "          ]\n",
       "        ]\n",
       "      }\n",
       "    }\n",
       "  }\n",
       "})"
      ]
     },
     "execution_count": 31,
     "metadata": {},
     "output_type": "execute_result"
    }
   ],
   "source": [
    "region_geo"
   ]
  },
  {
   "cell_type": "code",
   "execution_count": 32,
   "metadata": {},
   "outputs": [
    {
     "data": {
      "text/html": [
       "\n",
       "            <style>\n",
       "                .geemap-dark {\n",
       "                    --jp-widgets-color: white;\n",
       "                    --jp-widgets-label-color: white;\n",
       "                    --jp-ui-font-color1: white;\n",
       "                    --jp-layout-color2: #454545;\n",
       "                    background-color: #383838;\n",
       "                }\n",
       "                    \n",
       "                .geemap-dark .jupyter-button {\n",
       "                    --jp-layout-color3: #383838;\n",
       "                }\n",
       "                \n",
       "                .geemap-colab {\n",
       "                    background-color: var(--colab-primary-surface-color, white);\n",
       "                }\n",
       "                    \n",
       "                .geemap-colab .jupyter-button {\n",
       "                    --jp-layout-color3: var(--colab-primary-surface-color, white);\n",
       "                }\n",
       "            </style>\n",
       "            "
      ],
      "text/plain": [
       "<IPython.core.display.HTML object>"
      ]
     },
     "metadata": {},
     "output_type": "display_data"
    }
   ],
   "source": [
    "def ee_array_to_df(arr, list_of_bands):\n",
    "    # 데이터 배열을 데이터프레임으로 변환.\n",
    "    df = pd.DataFrame(arr)\n",
    "\n",
    "    # 헤더 재배열.\n",
    "    headers = df.iloc[0]\n",
    "    df = pd.DataFrame(df.values[1:], columns=headers)\n",
    "\n",
    "    # 데이터를 숫자 값으로 변환.\n",
    "    for band in list_of_bands:\n",
    "        df[band] = pd.to_numeric(df[band], errors=\"coerce\")\n",
    "\n",
    "    # 'time' 필드를 datetime으로 변환.\n",
    "    df[\"datetime\"] = pd.to_datetime(df[\"time\"], unit=\"ms\")\n",
    "\n",
    "    # 관심 있는 컬럼만 유지.\n",
    "    df = df[[\"time\", \"datetime\", *list_of_bands]]\n",
    "\n",
    "    # 'datetime' 컬럼을 인덱스로 설정.\n",
    "    df = df.set_index(\"datetime\")\n",
    "\n",
    "    return df"
   ]
  },
  {
   "cell_type": "code",
   "execution_count": 33,
   "metadata": {},
   "outputs": [
    {
     "data": {
      "text/html": [
       "\n",
       "            <style>\n",
       "                .geemap-dark {\n",
       "                    --jp-widgets-color: white;\n",
       "                    --jp-widgets-label-color: white;\n",
       "                    --jp-ui-font-color1: white;\n",
       "                    --jp-layout-color2: #454545;\n",
       "                    background-color: #383838;\n",
       "                }\n",
       "                    \n",
       "                .geemap-dark .jupyter-button {\n",
       "                    --jp-layout-color3: #383838;\n",
       "                }\n",
       "                \n",
       "                .geemap-colab {\n",
       "                    background-color: var(--colab-primary-surface-color, white);\n",
       "                }\n",
       "                    \n",
       "                .geemap-colab .jupyter-button {\n",
       "                    --jp-layout-color3: var(--colab-primary-surface-color, white);\n",
       "                }\n",
       "            </style>\n",
       "            "
      ],
      "text/plain": [
       "<IPython.core.display.HTML object>"
      ]
     },
     "metadata": {},
     "output_type": "display_data"
    }
   ],
   "source": [
    "# 지하수 유입량 컬렉션에서 관심 지역의 데이터를 배열로 가져옴.\n",
    "arr = rech_coll.getRegion(region_geo, scale).getInfo()\n",
    "\n",
    "# 배열을 pandas 데이터프레임으로 변환하고 인덱스를 정렬.\n",
    "rdf = ee_array_to_df(arr, [\"pr\", \"pet\", \"apwl\", \"st\", \"rech\"]).sort_index()"
   ]
  },
  {
   "cell_type": "code",
   "execution_count": 35,
   "metadata": {},
   "outputs": [
    {
     "data": {
      "text/html": [
       "\n",
       "            <style>\n",
       "                .geemap-dark {\n",
       "                    --jp-widgets-color: white;\n",
       "                    --jp-widgets-label-color: white;\n",
       "                    --jp-ui-font-color1: white;\n",
       "                    --jp-layout-color2: #454545;\n",
       "                    background-color: #383838;\n",
       "                }\n",
       "                    \n",
       "                .geemap-dark .jupyter-button {\n",
       "                    --jp-layout-color3: #383838;\n",
       "                }\n",
       "                \n",
       "                .geemap-colab {\n",
       "                    background-color: var(--colab-primary-surface-color, white);\n",
       "                }\n",
       "                    \n",
       "                .geemap-colab .jupyter-button {\n",
       "                    --jp-layout-color3: var(--colab-primary-surface-color, white);\n",
       "                }\n",
       "            </style>\n",
       "            "
      ],
      "text/plain": [
       "<IPython.core.display.HTML object>"
      ]
     },
     "metadata": {},
     "output_type": "display_data"
    }
   ],
   "source": [
    "rdf_aggregated = pd.DataFrame({\n",
    "    'pr': rdf['pr'].resample('M').mean(),  # 월별 평균 강수량\n",
    "    'pet': rdf['pet'].resample('M').mean(),  # 월별 평균 증발산량\n",
    "    'rech': rdf['rech'].resample('M').sum()  # 월별 총 지하수 유입량\n",
    "})"
   ]
  },
  {
   "cell_type": "markdown",
   "metadata": {},
   "source": [
    "# `수정사항`\n",
    "`기존의 증발산량, 강수량 데이터를 평균으로&지하수 유입량은 총합계로 가지고 옴`"
   ]
  },
  {
   "cell_type": "code",
   "execution_count": 36,
   "metadata": {},
   "outputs": [
    {
     "data": {
      "text/html": [
       "\n",
       "            <style>\n",
       "                .geemap-dark {\n",
       "                    --jp-widgets-color: white;\n",
       "                    --jp-widgets-label-color: white;\n",
       "                    --jp-ui-font-color1: white;\n",
       "                    --jp-layout-color2: #454545;\n",
       "                    background-color: #383838;\n",
       "                }\n",
       "                    \n",
       "                .geemap-dark .jupyter-button {\n",
       "                    --jp-layout-color3: #383838;\n",
       "                }\n",
       "                \n",
       "                .geemap-colab {\n",
       "                    background-color: var(--colab-primary-surface-color, white);\n",
       "                }\n",
       "                    \n",
       "                .geemap-colab .jupyter-button {\n",
       "                    --jp-layout-color3: var(--colab-primary-surface-color, white);\n",
       "                }\n",
       "            </style>\n",
       "            "
      ],
      "text/plain": [
       "<IPython.core.display.HTML object>"
      ]
     },
     "metadata": {},
     "output_type": "display_data"
    },
    {
     "data": {
      "text/html": [
       "<div>\n",
       "<style scoped>\n",
       "    .dataframe tbody tr th:only-of-type {\n",
       "        vertical-align: middle;\n",
       "    }\n",
       "\n",
       "    .dataframe tbody tr th {\n",
       "        vertical-align: top;\n",
       "    }\n",
       "\n",
       "    .dataframe thead th {\n",
       "        text-align: right;\n",
       "    }\n",
       "</style>\n",
       "<table border=\"1\" class=\"dataframe\">\n",
       "  <thead>\n",
       "    <tr style=\"text-align: right;\">\n",
       "      <th></th>\n",
       "      <th>pr</th>\n",
       "      <th>pet</th>\n",
       "      <th>rech</th>\n",
       "    </tr>\n",
       "    <tr>\n",
       "      <th>datetime</th>\n",
       "      <th></th>\n",
       "      <th></th>\n",
       "      <th></th>\n",
       "    </tr>\n",
       "  </thead>\n",
       "  <tbody>\n",
       "    <tr>\n",
       "      <th>2023-01-31</th>\n",
       "      <td>29.746859</td>\n",
       "      <td>39.047083</td>\n",
       "      <td>0.000000</td>\n",
       "    </tr>\n",
       "    <tr>\n",
       "      <th>2023-02-28</th>\n",
       "      <td>12.981754</td>\n",
       "      <td>60.135833</td>\n",
       "      <td>0.000000</td>\n",
       "    </tr>\n",
       "    <tr>\n",
       "      <th>2023-03-31</th>\n",
       "      <td>15.026515</td>\n",
       "      <td>111.373958</td>\n",
       "      <td>0.000000</td>\n",
       "    </tr>\n",
       "    <tr>\n",
       "      <th>2023-04-30</th>\n",
       "      <td>61.420833</td>\n",
       "      <td>129.275000</td>\n",
       "      <td>0.000000</td>\n",
       "    </tr>\n",
       "    <tr>\n",
       "      <th>2023-05-31</th>\n",
       "      <td>65.571652</td>\n",
       "      <td>164.119167</td>\n",
       "      <td>0.000000</td>\n",
       "    </tr>\n",
       "    <tr>\n",
       "      <th>2023-06-30</th>\n",
       "      <td>148.188838</td>\n",
       "      <td>195.293750</td>\n",
       "      <td>0.000000</td>\n",
       "    </tr>\n",
       "    <tr>\n",
       "      <th>2023-07-31</th>\n",
       "      <td>434.649838</td>\n",
       "      <td>186.490833</td>\n",
       "      <td>3351.121015</td>\n",
       "    </tr>\n",
       "    <tr>\n",
       "      <th>2023-08-31</th>\n",
       "      <td>245.758769</td>\n",
       "      <td>171.746458</td>\n",
       "      <td>1110.184665</td>\n",
       "    </tr>\n",
       "    <tr>\n",
       "      <th>2023-09-30</th>\n",
       "      <td>151.204531</td>\n",
       "      <td>115.581250</td>\n",
       "      <td>534.349211</td>\n",
       "    </tr>\n",
       "    <tr>\n",
       "      <th>2023-10-31</th>\n",
       "      <td>43.037969</td>\n",
       "      <td>86.050833</td>\n",
       "      <td>0.000000</td>\n",
       "    </tr>\n",
       "  </tbody>\n",
       "</table>\n",
       "</div>"
      ],
      "text/plain": [
       "                    pr         pet         rech\n",
       "datetime                                       \n",
       "2023-01-31   29.746859   39.047083     0.000000\n",
       "2023-02-28   12.981754   60.135833     0.000000\n",
       "2023-03-31   15.026515  111.373958     0.000000\n",
       "2023-04-30   61.420833  129.275000     0.000000\n",
       "2023-05-31   65.571652  164.119167     0.000000\n",
       "2023-06-30  148.188838  195.293750     0.000000\n",
       "2023-07-31  434.649838  186.490833  3351.121015\n",
       "2023-08-31  245.758769  171.746458  1110.184665\n",
       "2023-09-30  151.204531  115.581250   534.349211\n",
       "2023-10-31   43.037969   86.050833     0.000000"
      ]
     },
     "execution_count": 36,
     "metadata": {},
     "output_type": "execute_result"
    }
   ],
   "source": [
    "rdf_aggregated"
   ]
  },
  {
   "cell_type": "code",
   "execution_count": 37,
   "metadata": {},
   "outputs": [
    {
     "data": {
      "text/html": [
       "\n",
       "            <style>\n",
       "                .geemap-dark {\n",
       "                    --jp-widgets-color: white;\n",
       "                    --jp-widgets-label-color: white;\n",
       "                    --jp-ui-font-color1: white;\n",
       "                    --jp-layout-color2: #454545;\n",
       "                    background-color: #383838;\n",
       "                }\n",
       "                    \n",
       "                .geemap-dark .jupyter-button {\n",
       "                    --jp-layout-color3: #383838;\n",
       "                }\n",
       "                \n",
       "                .geemap-colab {\n",
       "                    background-color: var(--colab-primary-surface-color, white);\n",
       "                }\n",
       "                    \n",
       "                .geemap-colab .jupyter-button {\n",
       "                    --jp-layout-color3: var(--colab-primary-surface-color, white);\n",
       "                }\n",
       "            </style>\n",
       "            "
      ],
      "text/plain": [
       "<IPython.core.display.HTML object>"
      ]
     },
     "metadata": {},
     "output_type": "display_data"
    },
    {
     "data": {
      "image/png": "[encoded data removed]",
      "text/plain": [
       "<Figure size 1500x600 with 2 Axes>"
      ]
     },
     "metadata": {},
     "output_type": "display_data"
    }
   ],
   "source": [
    "# 먼저, 이중 축을 사용하기 위한 준비를 합니다.\n",
    "fig, ax1 = plt.subplots(figsize=(15, 6))\n",
    "\n",
    "# 강수량 막대 그래프를 그립니다.\n",
    "color_pr = 'tab:blue'\n",
    "ax1.set_ylabel('강수량, 증발산량 (mm)', color='black')\n",
    "ax1.bar(rdf_aggregated.index, rdf_aggregated['pr'], color=color_pr, label='평균 강수량', alpha=0.5, width=6)\n",
    "# 증발산량 막대 그래프를 그립니다.\n",
    "color_pet = 'tab:orange'\n",
    "ax1.bar(rdf_aggregated.index, rdf_aggregated['pet'], color=color_pet, label='평균 증발산량', alpha=0.2, width=6)\n",
    "ax1.set_xlabel('Date')\n",
    "ax1.tick_params(axis='y', labelcolor='black')\n",
    "ax1.legend(loc='upper left')\n",
    "\n",
    "# 지하수 유입량 그래프를 그릴 두 번째 축을 만듭니다.\n",
    "ax2 = ax1.twinx() \n",
    "color_rech = 'tab:green' \n",
    "ax2.set_ylabel('지하수 유입량 (mm)', color=color_rech)\n",
    "ax2.bar(rdf_aggregated.index, rdf_aggregated['rech'], color=color_rech, label='지하수 유입량', alpha=1, width=6)\n",
    "ax2.tick_params(axis='y', labelcolor=color_rech)\n",
    "ax2.legend(loc='upper right')\n",
    "\n",
    "\n",
    "# x축의 눈금을 설정합니다.\n",
    "ax1.set_xticks(rdf_aggregated.index)\n",
    "ax1.set_xticklabels(rdf_aggregated.index.strftime('%m-%Y'), rotation=90)\n",
    "\n",
    "# 타이틀을 설정합니다.\n",
    "plt.title('월별 평균 강수량, 증발산량 및 총 지하수 유입량')\n",
    "\n",
    "# 그래프를 표시합니다.\n",
    "plt.show()"
   ]
  },
  {
   "cell_type": "markdown",
   "metadata": {},
   "source": [
    "# `수정사항`\n",
    "`지하수 유입량에 비해 강수량과 증발산량 값이 너무 적어 이중축으로 나누어 사용자가 보기 쉽게 바꾸어줌`"
   ]
  },
  {
   "cell_type": "code",
   "execution_count": 38,
   "metadata": {},
   "outputs": [
    {
     "data": {
      "text/html": [
       "\n",
       "            <style>\n",
       "                .geemap-dark {\n",
       "                    --jp-widgets-color: white;\n",
       "                    --jp-widgets-label-color: white;\n",
       "                    --jp-ui-font-color1: white;\n",
       "                    --jp-layout-color2: #454545;\n",
       "                    background-color: #383838;\n",
       "                }\n",
       "                    \n",
       "                .geemap-dark .jupyter-button {\n",
       "                    --jp-layout-color3: #383838;\n",
       "                }\n",
       "                \n",
       "                .geemap-colab {\n",
       "                    background-color: var(--colab-primary-surface-color, white);\n",
       "                }\n",
       "                    \n",
       "                .geemap-colab .jupyter-button {\n",
       "                    --jp-layout-color3: var(--colab-primary-surface-color, white);\n",
       "                }\n",
       "            </style>\n",
       "            "
      ],
      "text/plain": [
       "<IPython.core.display.HTML object>"
      ]
     },
     "metadata": {},
     "output_type": "display_data"
    },
    {
     "name": "stdout",
     "output_type": "stream",
     "text": [
      "우리 관심 지역의 연평균 지하수 유입량은 4995 mm/년 입니다.\n"
     ]
    }
   ],
   "source": [
    "# pandas 데이터프레임을 연간 기준으로 재표본하여 연간 합계를 계산합니다.\n",
    "rdfy = rdf_aggregated.resample(\"Y\").sum()\n",
    "\n",
    "# 평균값을 계산합니다.\n",
    "mean_recharge = rdfy[\"rech\"].mean()\n",
    "\n",
    "# 결과를 출력합니다.\n",
    "print(\"우리 관심 지역의 연평균 지하수 유입량은\", int(mean_recharge), \"mm/년 입니다.\")"
   ]
  }
 ],
 "metadata": {
  "kernelspec": {
   "display_name": "nuriho",
   "language": "python",
   "name": "python3"
  },
  "language_info": {
   "codemirror_mode": {
    "name": "ipython",
    "version": 3
   },
   "file_extension": ".py",
   "mimetype": "text/x-python",
   "name": "python",
   "nbconvert_exporter": "python",
   "pygments_lexer": "ipython3",
   "version": "3.9.18"
  }
 },
 "nbformat": 4,
 "nbformat_minor": 2
}
