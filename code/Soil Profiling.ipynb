{
 "cells": [
  {
   "cell_type": "markdown",
   "metadata": {},
   "source": [
    "### Import Library"
   ]
  },
  {
   "cell_type": "code",
   "execution_count": 1,
   "metadata": {},
   "outputs": [],
   "source": [
    "import pandas as pd\n",
    "import matplotlib.pyplot as plt\n",
    "import numpy as np\n",
    "import folium\n",
    "import pprint\n",
    "import branca.colormap as cm\n",
    "import ee\n",
    "import geemap"
   ]
  },
  {
   "cell_type": "code",
   "execution_count": 53,
   "metadata": {},
   "outputs": [
    {
     "data": {
      "text/html": [
       "\n",
       "            <style>\n",
       "                .geemap-dark {\n",
       "                    --jp-widgets-color: white;\n",
       "                    --jp-widgets-label-color: white;\n",
       "                    --jp-ui-font-color1: white;\n",
       "                    --jp-layout-color2: #454545;\n",
       "                    background-color: #383838;\n",
       "                }\n",
       "                    \n",
       "                .geemap-dark .jupyter-button {\n",
       "                    --jp-layout-color3: #383838;\n",
       "                }\n",
       "                \n",
       "                .geemap-colab {\n",
       "                    background-color: var(--colab-primary-surface-color, white);\n",
       "                }\n",
       "                    \n",
       "                .geemap-colab .jupyter-button {\n",
       "                    --jp-layout-color3: var(--colab-primary-surface-color, white);\n",
       "                }\n",
       "            </style>\n",
       "            "
      ],
      "text/plain": [
       "<IPython.core.display.HTML object>"
      ]
     },
     "metadata": {},
     "output_type": "display_data"
    }
   ],
   "source": [
    "import matplotlib.font_manager as fm\n",
    "\n",
    "font_path = 'C:/WINDOWS/Fonts/H2HDRM.TTF'\n",
    "# 폰트 프로퍼티 설정\n",
    "font_prop = fm.FontProperties(fname=font_path, size=14)\n",
    "\n",
    "# matplotlib의 폰트를 설정\n",
    "plt.rcParams['font.family'] = font_prop.get_name()"
   ]
  },
  {
   "cell_type": "markdown",
   "metadata": {},
   "source": [
    "### Google Earth API 인증"
   ]
  },
  {
   "cell_type": "code",
   "execution_count": null,
   "metadata": {},
   "outputs": [],
   "source": [
    "import os\n",
    "\n",
    "os.environ['EARTHENGINE_API_KEY'] = 'Your API key'"
   ]
  },
  {
   "cell_type": "code",
   "execution_count": 2,
   "metadata": {},
   "outputs": [
    {
     "data": {
      "text/html": [
       "\n",
       "            <style>\n",
       "                .geemap-dark {\n",
       "                    --jp-widgets-color: white;\n",
       "                    --jp-widgets-label-color: white;\n",
       "                    --jp-ui-font-color1: white;\n",
       "                    --jp-layout-color2: #454545;\n",
       "                    background-color: #383838;\n",
       "                }\n",
       "                    \n",
       "                .geemap-dark .jupyter-button {\n",
       "                    --jp-layout-color3: #383838;\n",
       "                }\n",
       "                \n",
       "                .geemap-colab {\n",
       "                    background-color: var(--colab-primary-surface-color, white);\n",
       "                }\n",
       "                    \n",
       "                .geemap-colab .jupyter-button {\n",
       "                    --jp-layout-color3: var(--colab-primary-surface-color, white);\n",
       "                }\n",
       "            </style>\n",
       "            "
      ],
      "text/plain": [
       "<IPython.core.display.HTML object>"
      ]
     },
     "metadata": {},
     "output_type": "display_data"
    }
   ],
   "source": [
    "# Earth Engine 인증\n",
    "ee.Authenticate()\n",
    "\n",
    "# Earth Engine 초기화\n",
    "ee.Initialize()"
   ]
  },
  {
   "cell_type": "markdown",
   "metadata": {},
   "source": [
    "### 관심 기간 및 관심 지역 설정"
   ]
  },
  {
   "cell_type": "code",
   "execution_count": 3,
   "metadata": {},
   "outputs": [
    {
     "data": {
      "text/html": [
       "\n",
       "            <style>\n",
       "                .geemap-dark {\n",
       "                    --jp-widgets-color: white;\n",
       "                    --jp-widgets-label-color: white;\n",
       "                    --jp-ui-font-color1: white;\n",
       "                    --jp-layout-color2: #454545;\n",
       "                    background-color: #383838;\n",
       "                }\n",
       "                    \n",
       "                .geemap-dark .jupyter-button {\n",
       "                    --jp-layout-color3: #383838;\n",
       "                }\n",
       "                \n",
       "                .geemap-colab {\n",
       "                    background-color: var(--colab-primary-surface-color, white);\n",
       "                }\n",
       "                    \n",
       "                .geemap-colab .jupyter-button {\n",
       "                    --jp-layout-color3: var(--colab-primary-surface-color, white);\n",
       "                }\n",
       "            </style>\n",
       "            "
      ],
      "text/plain": [
       "<IPython.core.display.HTML object>"
      ]
     },
     "metadata": {},
     "output_type": "display_data"
    }
   ],
   "source": [
    "# 관심 기간의 시작일\n",
    "i_date = \"2015-01-01\"\n",
    "\n",
    "# 관심 기간의 종료일\n",
    "f_date = \"2023-11-01\""
   ]
  },
  {
   "cell_type": "code",
   "execution_count": 4,
   "metadata": {},
   "outputs": [
    {
     "data": {
      "text/html": [
       "\n",
       "            <style>\n",
       "                .geemap-dark {\n",
       "                    --jp-widgets-color: white;\n",
       "                    --jp-widgets-label-color: white;\n",
       "                    --jp-ui-font-color1: white;\n",
       "                    --jp-layout-color2: #454545;\n",
       "                    background-color: #383838;\n",
       "                }\n",
       "                    \n",
       "                .geemap-dark .jupyter-button {\n",
       "                    --jp-layout-color3: #383838;\n",
       "                }\n",
       "                \n",
       "                .geemap-colab {\n",
       "                    background-color: var(--colab-primary-surface-color, white);\n",
       "                }\n",
       "                    \n",
       "                .geemap-colab .jupyter-button {\n",
       "                    --jp-layout-color3: var(--colab-primary-surface-color, white);\n",
       "                }\n",
       "            </style>\n",
       "            "
      ],
      "text/plain": [
       "<IPython.core.display.HTML object>"
      ]
     },
     "metadata": {},
     "output_type": "display_data"
    }
   ],
   "source": [
    "# 피처 컬렉션을 필터링하여 한국으로 제한\n",
    "countries = ee.FeatureCollection(\"FAO/GAUL_SIMPLIFIED_500m/2015/level2\")\n",
    "korea = countries.filter(ee.Filter.eq(\"ADM0_NAME\", \"Republic of Korea\"))\n",
    "\n",
    "korea_geo = korea.geometry()\n",
    "\n",
    "location = korea_geo.centroid().coordinates().getInfo()[::-1]"
   ]
  },
  {
   "cell_type": "code",
   "execution_count": 5,
   "metadata": {},
   "outputs": [
    {
     "data": {
      "text/html": [
       "\n",
       "            <style>\n",
       "                .geemap-dark {\n",
       "                    --jp-widgets-color: white;\n",
       "                    --jp-widgets-label-color: white;\n",
       "                    --jp-ui-font-color1: white;\n",
       "                    --jp-layout-color2: #454545;\n",
       "                    background-color: #383838;\n",
       "                }\n",
       "                    \n",
       "                .geemap-dark .jupyter-button {\n",
       "                    --jp-layout-color3: #383838;\n",
       "                }\n",
       "                \n",
       "                .geemap-colab {\n",
       "                    background-color: var(--colab-primary-surface-color, white);\n",
       "                }\n",
       "                    \n",
       "                .geemap-colab .jupyter-button {\n",
       "                    --jp-layout-color3: var(--colab-primary-surface-color, white);\n",
       "                }\n",
       "            </style>\n",
       "            "
      ],
      "text/plain": [
       "<IPython.core.display.HTML object>"
      ]
     },
     "metadata": {},
     "output_type": "display_data"
    }
   ],
   "source": [
    "# Folium 지도에 레이어 추가 함수\n",
    "def add_ee_layer(self, ee_image_object, vis_params, name):\n",
    "    \"\"\"Adds a method for displaying Earth Engine image tiles to folium map.\"\"\"\n",
    "    map_id_dict = ee.Image(ee_image_object).getMapId(vis_params)\n",
    "    folium.raster_layers.TileLayer(\n",
    "        tiles=map_id_dict[\"tile_fetcher\"].url_format,\n",
    "        attr=\"Map Data &copy; <a href='https://earthengine.google.com/'>Google Earth Engine</a>\",\n",
    "        name=name,\n",
    "        overlay=True,\n",
    "        control=True,\n",
    "    ).add_to(self)\n",
    "\n",
    "\n",
    "# Add Earth Engine drawing method to folium.\n",
    "folium.Map.add_ee_layer = add_ee_layer"
   ]
  },
  {
   "cell_type": "markdown",
   "metadata": {},
   "source": [
    "### 깊이에 따른 토양 성분 데이터 수집\n",
    "- 토양을 구성하는 다양한 깊이에서의 모래, 흙, 유기탄소의 함량 데이터를 OpenLandMap 제공되는 데이터셋에서 가져온다 (250m 해상도)"
   ]
  },
  {
   "cell_type": "code",
   "execution_count": 7,
   "metadata": {},
   "outputs": [
    {
     "data": {
      "text/html": [
       "\n",
       "            <style>\n",
       "                .geemap-dark {\n",
       "                    --jp-widgets-color: white;\n",
       "                    --jp-widgets-label-color: white;\n",
       "                    --jp-ui-font-color1: white;\n",
       "                    --jp-layout-color2: #454545;\n",
       "                    background-color: #383838;\n",
       "                }\n",
       "                    \n",
       "                .geemap-dark .jupyter-button {\n",
       "                    --jp-layout-color3: #383838;\n",
       "                }\n",
       "                \n",
       "                .geemap-colab {\n",
       "                    background-color: var(--colab-primary-surface-color, white);\n",
       "                }\n",
       "                    \n",
       "                .geemap-colab .jupyter-button {\n",
       "                    --jp-layout-color3: var(--colab-primary-surface-color, white);\n",
       "                }\n",
       "            </style>\n",
       "            "
      ],
      "text/plain": [
       "<IPython.core.display.HTML object>"
      ]
     },
     "metadata": {},
     "output_type": "display_data"
    }
   ],
   "source": [
    "# 토양 성분 수집\n",
    "def get_soil_prop(param):\n",
    "    \"\"\"\n",
    "        \"sand\"     - 모래 함량\n",
    "        \"clay\"     - 점토 함량\n",
    "        \"orgc\"     - 유기 탄소 함량\n",
    "    \"\"\"\n",
    "    if param == \"sand\":  # 모래 함량 [%w]\n",
    "        snippet = \"OpenLandMap/SOL/SOL_SAND-WFRACTION_USDA-3A1A1A_M/v02\"\n",
    "        # 데이터셋 설명에 따른 스케일 팩터 정의.\n",
    "        scale_factor = 1 * 0.01\n",
    "\n",
    "    elif param == \"clay\":  # 점토 함량 [%w]\n",
    "        snippet = \"OpenLandMap/SOL/SOL_CLAY-WFRACTION_USDA-3A1A1A_M/v02\"\n",
    "        # 데이터셋 설명에 따른 스케일 팩터 정의.\n",
    "        scale_factor = 1 * 0.01\n",
    "\n",
    "    elif param == \"orgc\":  # 유기 탄소 함량 [g/kg]\n",
    "        snippet = \"OpenLandMap/SOL/SOL_ORGANIC-CARBON_USDA-6A1C_M/v02\"\n",
    "        # 데이터셋 설명에 따른 스케일 팩터 정의.\n",
    "        scale_factor = 5 * 0.001  # kg/kg로 변환하기 위함.\n",
    "    else:\n",
    "        return print(\"error\")\n",
    "\n",
    "    # ee.Image에 적용합니다.\n",
    "    dataset = ee.Image(snippet).multiply(scale_factor)\n",
    "\n",
    "    return dataset"
   ]
  },
  {
   "cell_type": "code",
   "execution_count": 8,
   "metadata": {},
   "outputs": [
    {
     "data": {
      "text/html": [
       "\n",
       "            <style>\n",
       "                .geemap-dark {\n",
       "                    --jp-widgets-color: white;\n",
       "                    --jp-widgets-label-color: white;\n",
       "                    --jp-ui-font-color1: white;\n",
       "                    --jp-layout-color2: #454545;\n",
       "                    background-color: #383838;\n",
       "                }\n",
       "                    \n",
       "                .geemap-dark .jupyter-button {\n",
       "                    --jp-layout-color3: #383838;\n",
       "                }\n",
       "                \n",
       "                .geemap-colab {\n",
       "                    background-color: var(--colab-primary-surface-color, white);\n",
       "                }\n",
       "                    \n",
       "                .geemap-colab .jupyter-button {\n",
       "                    --jp-layout-color3: var(--colab-primary-surface-color, white);\n",
       "                }\n",
       "            </style>\n",
       "            "
      ],
      "text/plain": [
       "<IPython.core.display.HTML object>"
      ]
     },
     "metadata": {},
     "output_type": "display_data"
    }
   ],
   "source": [
    "# 데이터가 있는 토양 깊이 [cm].\n",
    "olm_depths = [0, 10, 30, 60, 100, 200]\n",
    "\n",
    "# 참조 깊이와 연결된 밴드 이름.\n",
    "olm_bands = [\"b\" + str(sd) for sd in olm_depths]"
   ]
  },
  {
   "cell_type": "code",
   "execution_count": 9,
   "metadata": {},
   "outputs": [
    {
     "data": {
      "text/html": [
       "\n",
       "            <style>\n",
       "                .geemap-dark {\n",
       "                    --jp-widgets-color: white;\n",
       "                    --jp-widgets-label-color: white;\n",
       "                    --jp-ui-font-color1: white;\n",
       "                    --jp-layout-color2: #454545;\n",
       "                    background-color: #383838;\n",
       "                }\n",
       "                    \n",
       "                .geemap-dark .jupyter-button {\n",
       "                    --jp-layout-color3: #383838;\n",
       "                }\n",
       "                \n",
       "                .geemap-colab {\n",
       "                    background-color: var(--colab-primary-surface-color, white);\n",
       "                }\n",
       "                    \n",
       "                .geemap-colab .jupyter-button {\n",
       "                    --jp-layout-color3: var(--colab-primary-surface-color, white);\n",
       "                }\n",
       "            </style>\n",
       "            "
      ],
      "text/plain": [
       "<IPython.core.display.HTML object>"
      ]
     },
     "metadata": {},
     "output_type": "display_data"
    }
   ],
   "source": [
    "# 모래 함량과 관련된 이미지.\n",
    "sand = get_soil_prop(\"sand\")\n",
    "\n",
    "# 점토 함량과 관련된 이미지.\n",
    "clay = get_soil_prop(\"clay\")\n",
    "\n",
    "# 유기 탄소 함량과 관련된 이미지.\n",
    "orgc = get_soil_prop(\"orgc\")\n",
    "\n",
    "# 유기 탄소 함량을 유기물 함량으로 변환.\n",
    "orgm = orgc.multiply(1.724)"
   ]
  },
  {
   "cell_type": "code",
   "execution_count": 12,
   "metadata": {},
   "outputs": [
    {
     "data": {
      "text/html": [
       "\n",
       "            <style>\n",
       "                .geemap-dark {\n",
       "                    --jp-widgets-color: white;\n",
       "                    --jp-widgets-label-color: white;\n",
       "                    --jp-ui-font-color1: white;\n",
       "                    --jp-layout-color2: #454545;\n",
       "                    background-color: #383838;\n",
       "                }\n",
       "                    \n",
       "                .geemap-dark .jupyter-button {\n",
       "                    --jp-layout-color3: #383838;\n",
       "                }\n",
       "                \n",
       "                .geemap-colab {\n",
       "                    background-color: var(--colab-primary-surface-color, white);\n",
       "                }\n",
       "                    \n",
       "                .geemap-colab .jupyter-button {\n",
       "                    --jp-layout-color3: var(--colab-primary-surface-color, white);\n",
       "                }\n",
       "            </style>\n",
       "            "
      ],
      "text/plain": [
       "<IPython.core.display.HTML object>"
      ]
     },
     "metadata": {},
     "output_type": "display_data"
    }
   ],
   "source": [
    "# 시들음점과 토양의 최대 수분용량을 위한 두 개의 상수 이미지 초기화.\n",
    "wilting_point = ee.Image(0)\n",
    "field_capacity = ee.Image(0)\n",
    "\n",
    "# 각 표준 깊이에 대한 계산을 루프를 사용하여 수행.\n",
    "for key in olm_bands:\n",
    "    # 적절한 깊이에서 모래, 점토, 유기물 얻기.\n",
    "    si = sand.select(key)\n",
    "    ci = clay.select(key)\n",
    "    oi = orgm.select(key)\n",
    "\n",
    "    # 시들음점 계산.\n",
    "    # 주어진 깊이에 필요한 theta_1500t 매개변수.\n",
    "    theta_1500ti = (\n",
    "        ee.Image(0)\n",
    "        .expression(\n",
    "            \"-0.024 * S + 0.487 * C + 0.006 * OM + 0.005 * (S * OM)\\\n",
    "            - 0.013 * (C * OM) + 0.068 * (S * C) + 0.031\",\n",
    "            {\n",
    "                \"S\": si,\n",
    "                \"C\": ci,\n",
    "                \"OM\": oi,\n",
    "            },\n",
    "        )\n",
    "        .rename(\"T1500ti\")\n",
    "    )\n",
    "\n",
    "    # 시들음점을 위한 최종 식.\n",
    "    wpi = theta_1500ti.expression(\n",
    "        \"T1500ti + (0.14 * T1500ti - 0.002)\", {\"T1500ti\": theta_1500ti}\n",
    "    ).rename(\"wpi\")\n",
    "\n",
    "    # 전체 시들음점을 ee.Image에 새 밴드로 추가.\n",
    "    wilting_point = wilting_point.addBands(wpi.rename(key).float())\n",
    "\n",
    "    # 최대 수분용량 계산을 위한 동일한 과정.\n",
    "    # 주어진 깊이에 필요한 theta_33t 매개변수.\n",
    "    theta_33ti = (\n",
    "        ee.Image(0)\n",
    "        .expression(\n",
    "            \"-0.251 * S + 0.195 * C + 0.011 * OM +\\\n",
    "            0.006 * (S * OM) - 0.027 * (C * OM)+\\\n",
    "            0.452 * (S * C) + 0.299\",\n",
    "            {\n",
    "                \"S\": si,\n",
    "                \"C\": ci,\n",
    "                \"OM\": oi,\n",
    "            },\n",
    "        )\n",
    "        .rename(\"T33ti\")\n",
    "    )\n",
    "\n",
    "    # 토양의 최대 수분용량을 위한 최종 식.\n",
    "    fci = theta_33ti.expression(\n",
    "        \"T33ti + (1.283 * T33ti * T33ti - 0.374 * T33ti - 0.015)\",\n",
    "        {\"T33ti\": theta_33ti.select(\"T33ti\")},\n",
    "    )\n",
    "\n",
    "    # 전체 최대 수분용량을 ee.Image에 새 밴드로 추가.\n",
    "    field_capacity = field_capacity.addBands(fci.rename(key).float())"
   ]
  },
  {
   "cell_type": "markdown",
   "metadata": {},
   "source": [
    "모래, 점토, 유기탄소 함량을 안다면 수식을 통해 해당 토양의 시들음 시점과 최대 수분용량을 알 수 있다.\n",
    "- 시들음 시점\n",
    "    - 식물이 토양에서 물을 흡수하기 어려워지는 수분 함량 시점으로 뿌리가 물을 빨아들일 수 있는지 없는지의 기준점을 말한다. \n",
    "    - 예를 들어 시들음점이 10%라면, 해당 토양 수분이 10% 밑으로 떨어질 시 식물은 더이상 물을 공급 받지 못하고 시들게된다.\n",
    "    - 따라서 시들음점이 높은 토양에서 자라는 식물은 뿌리가 흡수할 수 있는 물이 적기에, 물 부족에 더 민감하게 반응하며 자주 관개가 필요하다\n",
    "    - 예를 들어 시들음점이 80%라면, 해당 토양 수분이 80% 밑으로 떨어질 시 시들기 시작하므로 토양 관리를 위해 인공적으로 물을 공급해줄 필요가 있다.\n",
    "    - 따라서, 시들음점을 알면 식물들이 건강하게 자라기 위한 토양 조건을 알 수 있고, 물의 추가 공급 유무를 알 수 있다.\n",
    "- 토양 최대 수분용량\n",
    "    - 토양이 물을 최대로 저장할 수 있는 시점으로, 그 시점 이후에는 중력에 의해 물이 지하로 침투하기 시작한다."
   ]
  },
  {
   "cell_type": "code",
   "execution_count": 13,
   "metadata": {},
   "outputs": [
    {
     "data": {
      "text/html": [
       "\n",
       "            <style>\n",
       "                .geemap-dark {\n",
       "                    --jp-widgets-color: white;\n",
       "                    --jp-widgets-label-color: white;\n",
       "                    --jp-ui-font-color1: white;\n",
       "                    --jp-layout-color2: #454545;\n",
       "                    background-color: #383838;\n",
       "                }\n",
       "                    \n",
       "                .geemap-dark .jupyter-button {\n",
       "                    --jp-layout-color3: #383838;\n",
       "                }\n",
       "                \n",
       "                .geemap-colab {\n",
       "                    background-color: var(--colab-primary-surface-color, white);\n",
       "                }\n",
       "                    \n",
       "                .geemap-colab .jupyter-button {\n",
       "                    --jp-layout-color3: var(--colab-primary-surface-color, white);\n",
       "                }\n",
       "            </style>\n",
       "            "
      ],
      "text/plain": [
       "<IPython.core.display.HTML object>"
      ]
     },
     "metadata": {},
     "output_type": "display_data"
    }
   ],
   "source": [
    "# 강수량 데이터 가져오기.\n",
    "pr = (\n",
    "    ee.ImageCollection(\"UCSB-CHG/CHIRPS/DAILY\")\n",
    "    .select(\"precipitation\")\n",
    "    .filterDate(i_date, f_date)\n",
    "    .filterBounds(korea_geo)  # 한국 지역에 대한 필터링.\n",
    ")\n",
    "\n",
    "# 잠재 증발산량(PET)과 그 품질 지표(ET_QC) 가져오기.\n",
    "pet = (\n",
    "    ee.ImageCollection(\"MODIS/006/MOD16A2\")\n",
    "    .select([\"PET\", \"ET_QC\"])\n",
    "    .filterDate(i_date, f_date)\n",
    "    .filterBounds(korea_geo)  # 한국 지역에 대한 필터링.\n",
    ")"
   ]
  },
  {
   "cell_type": "markdown",
   "metadata": {},
   "source": [
    "- 강수량 데이터는 Climate Hazards Group InfraRed Precipitation with Station data(CHIRPS)에서 제공되는 데이터셋 (매일 갱신, 해상도 5km)\n",
    "- 증발산량 데이터는 MODIS Terra Net에서 제공되는 데이터셋 (8일에 한번, 해상도 500m)\n",
    "    - 증발산량은 증발과 증산을 합친 것으로 증산은 식물이 수분을 흡수하여 잎을 통해 대기중으로 방출하는 것을 말한다.\n",
    "    - 이 데이터셋에서 제공되는 증발산량은 적설량, 지역의 경사도에서 유출이 심한 점 등을 배제한 데이터로 잠재 증발산량으로 명명한다."
   ]
  },
  {
   "cell_type": "markdown",
   "metadata": {},
   "source": [
    "#### 시간 규모에 따른 데이터 재샘플링"
   ]
  },
  {
   "cell_type": "code",
   "execution_count": 14,
   "metadata": {},
   "outputs": [
    {
     "data": {
      "text/html": [
       "\n",
       "            <style>\n",
       "                .geemap-dark {\n",
       "                    --jp-widgets-color: white;\n",
       "                    --jp-widgets-label-color: white;\n",
       "                    --jp-ui-font-color1: white;\n",
       "                    --jp-layout-color2: #454545;\n",
       "                    background-color: #383838;\n",
       "                }\n",
       "                    \n",
       "                .geemap-dark .jupyter-button {\n",
       "                    --jp-layout-color3: #383838;\n",
       "                }\n",
       "                \n",
       "                .geemap-colab {\n",
       "                    background-color: var(--colab-primary-surface-color, white);\n",
       "                }\n",
       "                    \n",
       "                .geemap-colab .jupyter-button {\n",
       "                    --jp-layout-color3: var(--colab-primary-surface-color, white);\n",
       "                }\n",
       "            </style>\n",
       "            "
      ],
      "text/plain": [
       "<IPython.core.display.HTML object>"
      ]
     },
     "metadata": {},
     "output_type": "display_data"
    }
   ],
   "source": [
    "# 시간 규모 재샘플링\n",
    "def sum_resampler(coll, freq, unit, scale_factor, band_name):\n",
    "    \"\"\"\n",
    "    coll: (ee.ImageCollection) 한 밴드만 처리 가능\n",
    "    freq: (int) 재샘플링 빈도에 해당\n",
    "    unit: (str) 재샘플링 시간 단위. 'day', 'month', 'year'이어야 함\n",
    "    scale_factor (float): 적절한 단위로 값을 얻기 위한 스케일링 인자\n",
    "    band_name (str) 출력 밴드의 이름\n",
    "    \"\"\"\n",
    "\n",
    "    # 컬렉션의 초기 및 최종 날짜 정의.\n",
    "    firstdate = ee.Date(\n",
    "        coll.sort(\"system:time_start\", True).first().get(\"system:time_start\")\n",
    "    )\n",
    "    lastdate = ee.Date(\n",
    "        coll.sort(\"system:time_start\", False).first().get(\"system:time_start\")\n",
    "    )\n",
    "\n",
    "    # 두 날짜 사이의 시간 차이 계산.\n",
    "    diff_dates = lastdate.difference(firstdate, unit)\n",
    "\n",
    "    # 새로운 시간 인덱스(출력용) 정의.\n",
    "    new_index = ee.List.sequence(0, ee.Number(diff_dates), freq)\n",
    "\n",
    "    # 새 시간 인덱스에 적용할 함수 정의.\n",
    "    def apply_resampling(date_index):\n",
    "        # 고려할 시작 날짜 정의.\n",
    "        startdate = firstdate.advance(ee.Number(date_index), unit)\n",
    "        # 원하는 빈도에 따라 고려할 종료 날짜 정의.\n",
    "        enddate = startdate.advance(freq, unit)\n",
    "        # 시작 및 종료 날짜 사이의 일수 계산.\n",
    "        diff_days = enddate.difference(startdate, \"day\")\n",
    "        # 합성 이미지 계산.\n",
    "        image = (\n",
    "            coll.filterDate(startdate, enddate)\n",
    "            .mean()\n",
    "            .multiply(diff_days)\n",
    "            .multiply(scale_factor)\n",
    "            .rename(band_name)\n",
    "        )\n",
    "        # 적절한 시간 인덱스를 가진 최종 이미지 반환.\n",
    "        return image.set(\"system:time_start\", startdate.millis())\n",
    "\n",
    "    # 새 시간 인덱스에 함수 매핑.\n",
    "    res = new_index.map(apply_resampling)\n",
    "\n",
    "    # 결과를 ee.ImageCollection으로 변환.\n",
    "    res = ee.ImageCollection(res)\n",
    "\n",
    "    return res"
   ]
  },
  {
   "cell_type": "code",
   "execution_count": 15,
   "metadata": {},
   "outputs": [
    {
     "data": {
      "text/html": [
       "\n",
       "            <style>\n",
       "                .geemap-dark {\n",
       "                    --jp-widgets-color: white;\n",
       "                    --jp-widgets-label-color: white;\n",
       "                    --jp-ui-font-color1: white;\n",
       "                    --jp-layout-color2: #454545;\n",
       "                    background-color: #383838;\n",
       "                }\n",
       "                    \n",
       "                .geemap-dark .jupyter-button {\n",
       "                    --jp-layout-color3: #383838;\n",
       "                }\n",
       "                \n",
       "                .geemap-colab {\n",
       "                    background-color: var(--colab-primary-surface-color, white);\n",
       "                }\n",
       "                    \n",
       "                .geemap-colab .jupyter-button {\n",
       "                    --jp-layout-color3: var(--colab-primary-surface-color, white);\n",
       "                }\n",
       "            </style>\n",
       "            "
      ],
      "text/plain": [
       "<IPython.core.display.HTML object>"
      ]
     },
     "metadata": {},
     "output_type": "display_data"
    }
   ],
   "source": [
    "# 강수량 데이터셋에 재샘플링 함수 적용.\n",
    "pr_m = sum_resampler(pr, 1, \"month\", 1, \"pr\")"
   ]
  },
  {
   "cell_type": "code",
   "execution_count": 16,
   "metadata": {},
   "outputs": [
    {
     "data": {
      "text/html": [
       "\n",
       "            <style>\n",
       "                .geemap-dark {\n",
       "                    --jp-widgets-color: white;\n",
       "                    --jp-widgets-label-color: white;\n",
       "                    --jp-ui-font-color1: white;\n",
       "                    --jp-layout-color2: #454545;\n",
       "                    background-color: #383838;\n",
       "                }\n",
       "                    \n",
       "                .geemap-dark .jupyter-button {\n",
       "                    --jp-layout-color3: #383838;\n",
       "                }\n",
       "                \n",
       "                .geemap-colab {\n",
       "                    background-color: var(--colab-primary-surface-color, white);\n",
       "                }\n",
       "                    \n",
       "                .geemap-colab .jupyter-button {\n",
       "                    --jp-layout-color3: var(--colab-primary-surface-color, white);\n",
       "                }\n",
       "            </style>\n",
       "            "
      ],
      "text/plain": [
       "<IPython.core.display.HTML object>"
      ]
     },
     "metadata": {},
     "output_type": "display_data"
    }
   ],
   "source": [
    "# 증발산량 데이터셋에 재샘플링 함수 적용.\n",
    "pet_m = sum_resampler(pet.select(\"PET\"), 1, \"month\", 0.0125, \"pet\")"
   ]
  },
  {
   "cell_type": "markdown",
   "metadata": {},
   "source": [
    "▲ 데이터셋을 월별 강수량/증발산량으로 재샘플링\n",
    "- 해상도 및 데이터를 습득한 시간이 다르므로 재샘플링하여 단위를 맞춰준다."
   ]
  },
  {
   "cell_type": "code",
   "execution_count": 17,
   "metadata": {},
   "outputs": [
    {
     "data": {
      "text/html": [
       "\n",
       "            <style>\n",
       "                .geemap-dark {\n",
       "                    --jp-widgets-color: white;\n",
       "                    --jp-widgets-label-color: white;\n",
       "                    --jp-ui-font-color1: white;\n",
       "                    --jp-layout-color2: #454545;\n",
       "                    background-color: #383838;\n",
       "                }\n",
       "                    \n",
       "                .geemap-dark .jupyter-button {\n",
       "                    --jp-layout-color3: #383838;\n",
       "                }\n",
       "                \n",
       "                .geemap-colab {\n",
       "                    background-color: var(--colab-primary-surface-color, white);\n",
       "                }\n",
       "                    \n",
       "                .geemap-colab .jupyter-button {\n",
       "                    --jp-layout-color3: var(--colab-primary-surface-color, white);\n",
       "                }\n",
       "            </style>\n",
       "            "
      ],
      "text/plain": [
       "<IPython.core.display.HTML object>"
      ]
     },
     "metadata": {},
     "output_type": "display_data"
    }
   ],
   "source": [
    "# 강수량과 증발산량 데이터셋 병합.\n",
    "meteo = pr_m.combine(pet_m)"
   ]
  },
  {
   "cell_type": "markdown",
   "metadata": {},
   "source": [
    "#### 토양 깊이에 따른 토양 함량의 평균 값 계산"
   ]
  },
  {
   "cell_type": "code",
   "execution_count": 18,
   "metadata": {},
   "outputs": [
    {
     "data": {
      "text/html": [
       "\n",
       "            <style>\n",
       "                .geemap-dark {\n",
       "                    --jp-widgets-color: white;\n",
       "                    --jp-widgets-label-color: white;\n",
       "                    --jp-ui-font-color1: white;\n",
       "                    --jp-layout-color2: #454545;\n",
       "                    background-color: #383838;\n",
       "                }\n",
       "                    \n",
       "                .geemap-dark .jupyter-button {\n",
       "                    --jp-layout-color3: #383838;\n",
       "                }\n",
       "                \n",
       "                .geemap-colab {\n",
       "                    background-color: var(--colab-primary-surface-color, white);\n",
       "                }\n",
       "                    \n",
       "                .geemap-colab .jupyter-button {\n",
       "                    --jp-layout-color3: var(--colab-primary-surface-color, white);\n",
       "                }\n",
       "            </style>\n",
       "            "
      ],
      "text/plain": [
       "<IPython.core.display.HTML object>"
      ]
     },
     "metadata": {},
     "output_type": "display_data"
    }
   ],
   "source": [
    "# 깊이에 따른 토양 속성의 평균 값을 계산하는 함수.\n",
    "def olm_prop_mean(olm_image, band_output_name):\n",
    "    \"\"\"\n",
    "    식물이 뿌리를 통해 접근할 수 있는 토양 깊이에 걸쳐 있는 수분 함량\n",
    "    \"\"\"\n",
    "    mean_image = olm_image.expression(\n",
    "        \"(b0 + b10 + b30 + b60 + b100 + b200) / 6\",\n",
    "        {\n",
    "            \"b0\": olm_image.select(\"b0\"),\n",
    "            \"b10\": olm_image.select(\"b10\"),\n",
    "            \"b30\": olm_image.select(\"b30\"),\n",
    "            \"b60\": olm_image.select(\"b60\"),\n",
    "            \"b100\": olm_image.select(\"b100\"),\n",
    "            \"b200\": olm_image.select(\"b200\"),\n",
    "        },\n",
    "    ).rename(band_output_name)\n",
    "\n",
    "    return mean_image"
   ]
  },
  {
   "cell_type": "code",
   "execution_count": 19,
   "metadata": {},
   "outputs": [
    {
     "data": {
      "text/html": [
       "\n",
       "            <style>\n",
       "                .geemap-dark {\n",
       "                    --jp-widgets-color: white;\n",
       "                    --jp-widgets-label-color: white;\n",
       "                    --jp-ui-font-color1: white;\n",
       "                    --jp-layout-color2: #454545;\n",
       "                    background-color: #383838;\n",
       "                }\n",
       "                    \n",
       "                .geemap-dark .jupyter-button {\n",
       "                    --jp-layout-color3: #383838;\n",
       "                }\n",
       "                \n",
       "                .geemap-colab {\n",
       "                    background-color: var(--colab-primary-surface-color, white);\n",
       "                }\n",
       "                    \n",
       "                .geemap-colab .jupyter-button {\n",
       "                    --jp-layout-color3: var(--colab-primary-surface-color, white);\n",
       "                }\n",
       "            </style>\n",
       "            "
      ],
      "text/plain": [
       "<IPython.core.display.HTML object>"
      ]
     },
     "metadata": {},
     "output_type": "display_data"
    }
   ],
   "source": [
    "zr = ee.Image(0.5)\n",
    "p = ee.Image(0.5)"
   ]
  },
  {
   "cell_type": "markdown",
   "metadata": {},
   "source": [
    "zr은 식물의 뿌리 깊이에 대한 비율을\n",
    "\n",
    "p는 필드 용량에 대한 토양의 현재 수분 함량 비율을 나타낸다"
   ]
  },
  {
   "cell_type": "code",
   "execution_count": 20,
   "metadata": {},
   "outputs": [
    {
     "data": {
      "text/html": [
       "\n",
       "            <style>\n",
       "                .geemap-dark {\n",
       "                    --jp-widgets-color: white;\n",
       "                    --jp-widgets-label-color: white;\n",
       "                    --jp-ui-font-color1: white;\n",
       "                    --jp-layout-color2: #454545;\n",
       "                    background-color: #383838;\n",
       "                }\n",
       "                    \n",
       "                .geemap-dark .jupyter-button {\n",
       "                    --jp-layout-color3: #383838;\n",
       "                }\n",
       "                \n",
       "                .geemap-colab {\n",
       "                    background-color: var(--colab-primary-surface-color, white);\n",
       "                }\n",
       "                    \n",
       "                .geemap-colab .jupyter-button {\n",
       "                    --jp-layout-color3: var(--colab-primary-surface-color, white);\n",
       "                }\n",
       "            </style>\n",
       "            "
      ],
      "text/plain": [
       "<IPython.core.display.HTML object>"
      ]
     },
     "metadata": {},
     "output_type": "display_data"
    }
   ],
   "source": [
    "# 필드 용량과 시듦점에 함수 적용.\n",
    "fcm = olm_prop_mean(field_capacity, \"fc_mean\")\n",
    "wpm = olm_prop_mean(wilting_point, \"wp_mean\")\n",
    "\n",
    "# 이론적으로 사용 가능한 물 계산\n",
    "# 토양 최대 수분용량 - 시들음점 차이 계산\n",
    "taw = (\n",
    "    (fcm.select(\"fc_mean\").subtract(wpm.select(\"wp_mean\"))).multiply(1000).multiply(zr)\n",
    ")\n",
    "\n",
    "# 토양 최대 수분용량에 저장된 물 계산.\n",
    "stfc = taw.multiply(p)"
   ]
  },
  {
   "cell_type": "markdown",
   "metadata": {},
   "source": [
    "시들음점과 토양 최대 수분용량을 통해 다음과 같은 식을 도출할 수 있다.\n",
    "- TAW = 1000 * (토양 최대 수분용량 - 시들음점) * 뿌리깊이\n",
    "- `TAW`는 식물이 건강하게 성장할 수 있음과 동시에 사용가능한 물의 양을 나타낸다.\n",
    "- TAW에 0과 1사이의 임의의 p값을 곱한 값이 `STFC`로 토양이 해당뿌리깊이에 해당하는 실제 수분량을 뜻한다."
   ]
  },
  {
   "cell_type": "markdown",
   "metadata": {},
   "source": [
    "#### 초기 상태 설정\n",
    "    - 지하수 재충전량을 시간에 따라 추정하기 위해"
   ]
  },
  {
   "cell_type": "code",
   "execution_count": 21,
   "metadata": {},
   "outputs": [
    {
     "data": {
      "text/html": [
       "\n",
       "            <style>\n",
       "                .geemap-dark {\n",
       "                    --jp-widgets-color: white;\n",
       "                    --jp-widgets-label-color: white;\n",
       "                    --jp-ui-font-color1: white;\n",
       "                    --jp-layout-color2: #454545;\n",
       "                    background-color: #383838;\n",
       "                }\n",
       "                    \n",
       "                .geemap-dark .jupyter-button {\n",
       "                    --jp-layout-color3: #383838;\n",
       "                }\n",
       "                \n",
       "                .geemap-colab {\n",
       "                    background-color: var(--colab-primary-surface-color, white);\n",
       "                }\n",
       "                    \n",
       "                .geemap-colab .jupyter-button {\n",
       "                    --jp-layout-color3: var(--colab-primary-surface-color, white);\n",
       "                }\n",
       "            </style>\n",
       "            "
      ],
      "text/plain": [
       "<IPython.core.display.HTML object>"
      ]
     },
     "metadata": {},
     "output_type": "display_data"
    }
   ],
   "source": [
    "# 컬렉션의 시작에 따라 초기 시간(time0)을 정의합니다.\n",
    "time0 = meteo.first().get(\"system:time_start\")"
   ]
  },
  {
   "cell_type": "code",
   "execution_count": 22,
   "metadata": {},
   "outputs": [
    {
     "data": {
      "text/html": [
       "\n",
       "            <style>\n",
       "                .geemap-dark {\n",
       "                    --jp-widgets-color: white;\n",
       "                    --jp-widgets-label-color: white;\n",
       "                    --jp-ui-font-color1: white;\n",
       "                    --jp-layout-color2: #454545;\n",
       "                    background-color: #383838;\n",
       "                }\n",
       "                    \n",
       "                .geemap-dark .jupyter-button {\n",
       "                    --jp-layout-color3: #383838;\n",
       "                }\n",
       "                \n",
       "                .geemap-colab {\n",
       "                    background-color: var(--colab-primary-surface-color, white);\n",
       "                }\n",
       "                    \n",
       "                .geemap-colab .jupyter-button {\n",
       "                    --jp-layout-color3: var(--colab-primary-surface-color, white);\n",
       "                }\n",
       "            </style>\n",
       "            "
      ],
      "text/plain": [
       "<IPython.core.display.HTML object>"
      ]
     },
     "metadata": {},
     "output_type": "display_data"
    }
   ],
   "source": [
    "# 토양의 수분 상태를 설명하는 모든 밴드를 초기화합니다.\n",
    "# 데이터 유형을 .float()로 형변환하는 것을 잊지 마세요.\n",
    "\n",
    "# 초기 재충전량 설정.\n",
    "initial_rech = ee.Image(0).set(\"system:time_start\", time0).select([0], [\"rech\"]).float()\n",
    "\n",
    "# 누적 잠재적 수분 손실(APWL) 초기화.\n",
    "initial_apwl = ee.Image(0).set(\"system:time_start\", time0).select([0], [\"apwl\"]).float()\n",
    "\n",
    "# 저장된 수분 초기화.\n",
    "initial_st = stfc.set(\"system:time_start\", time0).select([0], [\"st\"]).float()\n",
    "\n",
    "# 강수량 초기화.\n",
    "initial_pr = ee.Image(0).set(\"system:time_start\", time0).select([0], [\"pr\"]).float()\n",
    "\n",
    "# 잠재 증발산량 초기화.\n",
    "initial_pet = ee.Image(0).set(\"system:time_start\", time0).select([0], [\"pet\"]).float()"
   ]
  },
  {
   "cell_type": "code",
   "execution_count": 23,
   "metadata": {},
   "outputs": [
    {
     "data": {
      "text/html": [
       "\n",
       "            <style>\n",
       "                .geemap-dark {\n",
       "                    --jp-widgets-color: white;\n",
       "                    --jp-widgets-label-color: white;\n",
       "                    --jp-ui-font-color1: white;\n",
       "                    --jp-layout-color2: #454545;\n",
       "                    background-color: #383838;\n",
       "                }\n",
       "                    \n",
       "                .geemap-dark .jupyter-button {\n",
       "                    --jp-layout-color3: #383838;\n",
       "                }\n",
       "                \n",
       "                .geemap-colab {\n",
       "                    background-color: var(--colab-primary-surface-color, white);\n",
       "                }\n",
       "                    \n",
       "                .geemap-colab .jupyter-button {\n",
       "                    --jp-layout-color3: var(--colab-primary-surface-color, white);\n",
       "                }\n",
       "            </style>\n",
       "            "
      ],
      "text/plain": [
       "<IPython.core.display.HTML object>"
      ]
     },
     "metadata": {},
     "output_type": "display_data"
    }
   ],
   "source": [
    "# 초기 재충전 이미지에 다른 밴드들을 추가하여 모든 밴드를 하나의 이미지로 결합합니다.\n",
    "initial_image = initial_rech.addBands(\n",
    "    ee.Image([initial_apwl, initial_st, initial_pr, initial_pet])\n",
    ")\n",
    "\n",
    "# 생성된 이미지를 리스트에 추가합니다. 이 리스트는 시계열 분석에서 사용됩니다.\n",
    "image_list = ee.List([initial_image])"
   ]
  },
  {
   "cell_type": "markdown",
   "metadata": {},
   "source": [
    "#### 지하수 재충전량 계산"
   ]
  },
  {
   "cell_type": "code",
   "execution_count": 24,
   "metadata": {},
   "outputs": [
    {
     "data": {
      "text/html": [
       "\n",
       "            <style>\n",
       "                .geemap-dark {\n",
       "                    --jp-widgets-color: white;\n",
       "                    --jp-widgets-label-color: white;\n",
       "                    --jp-ui-font-color1: white;\n",
       "                    --jp-layout-color2: #454545;\n",
       "                    background-color: #383838;\n",
       "                }\n",
       "                    \n",
       "                .geemap-dark .jupyter-button {\n",
       "                    --jp-layout-color3: #383838;\n",
       "                }\n",
       "                \n",
       "                .geemap-colab {\n",
       "                    background-color: var(--colab-primary-surface-color, white);\n",
       "                }\n",
       "                    \n",
       "                .geemap-colab .jupyter-button {\n",
       "                    --jp-layout-color3: var(--colab-primary-surface-color, white);\n",
       "                }\n",
       "            </style>\n",
       "            "
      ],
      "text/plain": [
       "<IPython.core.display.HTML object>"
      ]
     },
     "metadata": {},
     "output_type": "display_data"
    }
   ],
   "source": [
    "def recharge_calculator(image, image_list):\n",
    "\n",
    "    # 현재 ee.Image 컬렉션의 날짜 결정.\n",
    "    localdate = image.date().millis()\n",
    "\n",
    "    # 리스트에 저장된 이전 이미지 가져오기.\n",
    "    prev_im = ee.Image(ee.List(image_list).get(-1))\n",
    "\n",
    "    # 이전 APWL과 ST 가져오기.\n",
    "    prev_apwl = prev_im.select(\"apwl\")\n",
    "    prev_st = prev_im.select(\"st\")\n",
    "\n",
    "    # 현재 강수량과 증발산량 가져오기.\n",
    "    pr_im = image.select(\"pr\")\n",
    "    pet_im = image.select(\"pet\")\n",
    "\n",
    "    # 재충전, APWL, ST와 관련된 새로운 밴드 초기화\n",
    "    new_rech = (\n",
    "        ee.Image(0)\n",
    "        .set(\"system:time_start\", localdate)\n",
    "        .select([0], [\"rech\"])\n",
    "        .float()\n",
    "    )\n",
    "    new_apwl = (\n",
    "        ee.Image(0)\n",
    "        .set(\"system:time_start\", localdate)\n",
    "        .select([0], [\"apwl\"])\n",
    "        .float()\n",
    "    )\n",
    "    new_st = (\n",
    "        prev_st.set(\"system:time_start\", localdate).select([0], [\"st\"]).float()\n",
    "    )\n",
    "\n",
    "    # 조건에 따라 밴드 계산 수행\n",
    "\n",
    "    # CASE 1: PET > P 일 경우 (증발산량 > 강수량)\n",
    "    zone1 = pet_im.gt(pr_im)\n",
    "    # zone1에서 APWL(누적 잠재적 수분 손실) 계산\n",
    "    zone1_apwl = prev_apwl.add(pet_im.subtract(pr_im)).rename(\"apwl\")\n",
    "    # zone1의 APWL 값 구현\n",
    "    new_apwl = new_apwl.where(zone1, zone1_apwl)\n",
    "    # zone1에서 ST(저장 수분) 계산\n",
    "    zone1_st = prev_st.multiply(\n",
    "        ee.Image.exp(zone1_apwl.divide(stfc).multiply(-1))\n",
    "    ).rename(\"st\")\n",
    "    # zone1의 ST 값 구현\n",
    "    new_st = new_st.where(zone1, zone1_st)\n",
    "\n",
    "    # CASE 2: PET <= P 일 경우 (증발산량 <= 강수량)\n",
    "    zone2 = pet_im.lte(pr_im)\n",
    "    # zone2에서 ST 계산.\n",
    "    zone2_st = prev_st.add(pr_im).subtract(pet_im).rename(\"st\")\n",
    "    # zone2의 ST 값 구현.\n",
    "    new_st = new_st.where(zone2, zone2_st)\n",
    "\n",
    "    # CASE 2.1: PET <= P 및 ST >= STfc 일 경우\n",
    "    zone21 = zone2.And(zone2_st.gte(stfc))\n",
    "    # zone21에서 재충전 계산 즉, 필드 용량 이상의 수분이 있을때, 재충전량 계산\n",
    "    zone21_re = zone2_st.subtract(stfc).rename(\"rech\")\n",
    "    # zone21의 재충전 값 구현.\n",
    "    new_rech = new_rech.where(zone21, zone21_re)\n",
    "    # zone21의 ST 값 구현.\n",
    "    new_st = new_st.where(zone21, stfc)\n",
    "\n",
    "    # CASE 2.2: PET <= P 및 ST < STfc 일 경우 즉, 필드 용량 미만의 수분이 있을때\n",
    "    zone22 = zone2.And(zone2_st.lt(stfc))\n",
    "    # zone22에서 APWL 계산.\n",
    "    zone22_apwl = (\n",
    "        stfc.multiply(-1).multiply(ee.Image.log(zone2_st.divide(stfc))).rename(\"apwl\")\n",
    "    )\n",
    "    # zone22의 APWL 값 구현.\n",
    "    new_apwl = new_apwl.where(zone22, zone22_apwl)\n",
    "\n",
    "    # 재충전 계산이 가능한 영역 주위에 마스크 생성.\n",
    "    mask = pet_im.gte(0).And(pr_im.gte(0)).And(fcm.gte(0)).And(wpm.gte(0))\n",
    "    # 마스크 적용.\n",
    "    new_rech = new_rech.updateMask(mask)\n",
    "\n",
    "    # 모든 밴드를 새로운 ee.Image에 추가.\n",
    "    new_image = new_rech.addBands(ee.Image([new_apwl, new_st, pr_im, pet_im]))\n",
    "\n",
    "    # 새로운 ee.Image를 ee.List에 추가.\n",
    "    return ee.List(image_list).add(new_image)"
   ]
  },
  {
   "cell_type": "code",
   "execution_count": 25,
   "metadata": {},
   "outputs": [
    {
     "data": {
      "text/html": [
       "\n",
       "            <style>\n",
       "                .geemap-dark {\n",
       "                    --jp-widgets-color: white;\n",
       "                    --jp-widgets-label-color: white;\n",
       "                    --jp-ui-font-color1: white;\n",
       "                    --jp-layout-color2: #454545;\n",
       "                    background-color: #383838;\n",
       "                }\n",
       "                    \n",
       "                .geemap-dark .jupyter-button {\n",
       "                    --jp-layout-color3: #383838;\n",
       "                }\n",
       "                \n",
       "                .geemap-colab {\n",
       "                    background-color: var(--colab-primary-surface-color, white);\n",
       "                }\n",
       "                    \n",
       "                .geemap-colab .jupyter-button {\n",
       "                    --jp-layout-color3: var(--colab-primary-surface-color, white);\n",
       "                }\n",
       "            </style>\n",
       "            "
      ],
      "text/plain": [
       "<IPython.core.display.HTML object>"
      ]
     },
     "metadata": {},
     "output_type": "display_data"
    }
   ],
   "source": [
    "# 사용자 정의 함수를 기상 데이터 컬렉션에 적용.\n",
    "rech_list = meteo.iterate(recharge_calculator, image_list)\n",
    "\n",
    "# 리스트에서 초기 이미지 제거.\n",
    "rech_list = ee.List(rech_list).remove(initial_image)\n",
    "\n",
    "# 리스트를 ee.ImageCollection으로 변환.\n",
    "rech_coll = ee.ImageCollection(rech_list)"
   ]
  },
  {
   "cell_type": "code",
   "execution_count": 26,
   "metadata": {},
   "outputs": [
    {
     "data": {
      "text/html": [
       "\n",
       "            <style>\n",
       "                .geemap-dark {\n",
       "                    --jp-widgets-color: white;\n",
       "                    --jp-widgets-label-color: white;\n",
       "                    --jp-ui-font-color1: white;\n",
       "                    --jp-layout-color2: #454545;\n",
       "                    background-color: #383838;\n",
       "                }\n",
       "                    \n",
       "                .geemap-dark .jupyter-button {\n",
       "                    --jp-layout-color3: #383838;\n",
       "                }\n",
       "                \n",
       "                .geemap-colab {\n",
       "                    background-color: var(--colab-primary-surface-color, white);\n",
       "                }\n",
       "                    \n",
       "                .geemap-colab .jupyter-button {\n",
       "                    --jp-layout-color3: var(--colab-primary-surface-color, white);\n",
       "                }\n",
       "            </style>\n",
       "            "
      ],
      "text/plain": [
       "<IPython.core.display.HTML object>"
      ]
     },
     "metadata": {},
     "output_type": "display_data"
    }
   ],
   "source": [
    "# 연평균 지하수 재충전량 계산\n",
    "annual_rech = rech_coll.select(\"rech\").mean().multiply(12)\n",
    "\n",
    "# 연평균 강수량 계산\n",
    "annual_pr = rech_coll.select(\"pr\").mean().multiply(12)"
   ]
  },
  {
   "cell_type": "code",
   "execution_count": 27,
   "metadata": {},
   "outputs": [
    {
     "data": {
      "text/html": [
       "\n",
       "            <style>\n",
       "                .geemap-dark {\n",
       "                    --jp-widgets-color: white;\n",
       "                    --jp-widgets-label-color: white;\n",
       "                    --jp-ui-font-color1: white;\n",
       "                    --jp-layout-color2: #454545;\n",
       "                    background-color: #383838;\n",
       "                }\n",
       "                    \n",
       "                .geemap-dark .jupyter-button {\n",
       "                    --jp-layout-color3: #383838;\n",
       "                }\n",
       "                \n",
       "                .geemap-colab {\n",
       "                    background-color: var(--colab-primary-surface-color, white);\n",
       "                }\n",
       "                    \n",
       "                .geemap-colab .jupyter-button {\n",
       "                    --jp-layout-color3: var(--colab-primary-surface-color, white);\n",
       "                }\n",
       "            </style>\n",
       "            "
      ],
      "text/plain": [
       "<IPython.core.display.HTML object>"
      ]
     },
     "metadata": {},
     "output_type": "display_data"
    }
   ],
   "source": [
    "# 관심 지역 주변에 컴포지트 ee.Images 클리핑.\n",
    "rech_korea = annual_rech.clip(korea)\n",
    "pr_korea = annual_pr.clip(korea)"
   ]
  },
  {
   "cell_type": "code",
   "execution_count": 28,
   "metadata": {},
   "outputs": [
    {
     "data": {
      "text/html": [
       "\n",
       "            <style>\n",
       "                .geemap-dark {\n",
       "                    --jp-widgets-color: white;\n",
       "                    --jp-widgets-label-color: white;\n",
       "                    --jp-ui-font-color1: white;\n",
       "                    --jp-layout-color2: #454545;\n",
       "                    background-color: #383838;\n",
       "                }\n",
       "                    \n",
       "                .geemap-dark .jupyter-button {\n",
       "                    --jp-layout-color3: #383838;\n",
       "                }\n",
       "                \n",
       "                .geemap-colab {\n",
       "                    background-color: var(--colab-primary-surface-color, white);\n",
       "                }\n",
       "                    \n",
       "                .geemap-colab .jupyter-button {\n",
       "                    --jp-layout-color3: var(--colab-primary-surface-color, white);\n",
       "                }\n",
       "            </style>\n",
       "            "
      ],
      "text/plain": [
       "<IPython.core.display.HTML object>"
      ]
     },
     "metadata": {},
     "output_type": "display_data"
    },
    {
     "data": {
      "text/html": [
       "<div style=\"width:100%;\"><div style=\"position:relative;width:100%;height:0;padding-bottom:60%;\"><span style=\"color:#565656\">Make this Notebook Trusted to load map: File -> Trust Notebook</span><iframe srcdoc=\"&lt;!DOCTYPE html&gt;\n",
       "&lt;html&gt;\n",
       "&lt;head&gt;\n",
       "    \n",
       "    &lt;meta http-equiv=&quot;content-type&quot; content=&quot;text/html; charset=UTF-8&quot; /&gt;\n",
       "    \n",
       "        &lt;script&gt;\n",
       "            L_NO_TOUCH = false;\n",
       "            L_DISABLE_3D = false;\n",
       "        &lt;/script&gt;\n",
       "    \n",
       "    &lt;style&gt;html, body {width: 100%;height: 100%;margin: 0;padding: 0;}&lt;/style&gt;\n",
       "    &lt;style&gt;#map {position:absolute;top:0;bottom:0;right:0;left:0;}&lt;/style&gt;\n",
       "    &lt;script src=&quot;https://cdn.jsdelivr.net/npm/leaflet@1.9.3/dist/leaflet.js&quot;&gt;&lt;/script&gt;\n",
       "    &lt;script src=&quot;https://code.jquery.com/jquery-3.7.1.min.js&quot;&gt;&lt;/script&gt;\n",
       "    &lt;script src=&quot;https://cdn.jsdelivr.net/npm/bootstrap@5.2.2/dist/js/bootstrap.bundle.min.js&quot;&gt;&lt;/script&gt;\n",
       "    &lt;script src=&quot;https://cdnjs.cloudflare.com/ajax/libs/Leaflet.awesome-markers/2.0.2/leaflet.awesome-markers.js&quot;&gt;&lt;/script&gt;\n",
       "    &lt;link rel=&quot;stylesheet&quot; href=&quot;https://cdn.jsdelivr.net/npm/leaflet@1.9.3/dist/leaflet.css&quot;/&gt;\n",
       "    &lt;link rel=&quot;stylesheet&quot; href=&quot;https://cdn.jsdelivr.net/npm/bootstrap@5.2.2/dist/css/bootstrap.min.css&quot;/&gt;\n",
       "    &lt;link rel=&quot;stylesheet&quot; href=&quot;https://netdna.bootstrapcdn.com/bootstrap/3.0.0/css/bootstrap.min.css&quot;/&gt;\n",
       "    &lt;link rel=&quot;stylesheet&quot; href=&quot;https://cdn.jsdelivr.net/npm/@fortawesome/fontawesome-free@6.2.0/css/all.min.css&quot;/&gt;\n",
       "    &lt;link rel=&quot;stylesheet&quot; href=&quot;https://cdnjs.cloudflare.com/ajax/libs/Leaflet.awesome-markers/2.0.2/leaflet.awesome-markers.css&quot;/&gt;\n",
       "    &lt;link rel=&quot;stylesheet&quot; href=&quot;https://cdn.jsdelivr.net/gh/python-visualization/folium/folium/templates/leaflet.awesome.rotate.min.css&quot;/&gt;\n",
       "    \n",
       "            &lt;meta name=&quot;viewport&quot; content=&quot;width=device-width,\n",
       "                initial-scale=1.0, maximum-scale=1.0, user-scalable=no&quot; /&gt;\n",
       "            &lt;style&gt;\n",
       "                #map_141300bacdb9661aef79c07f418a7913 {\n",
       "                    position: relative;\n",
       "                    width: 100.0%;\n",
       "                    height: 100.0%;\n",
       "                    left: 0.0%;\n",
       "                    top: 0.0%;\n",
       "                }\n",
       "                .leaflet-container { font-size: 1rem; }\n",
       "            &lt;/style&gt;\n",
       "        \n",
       "    &lt;script src=&quot;https://cdnjs.cloudflare.com/ajax/libs/d3/3.5.5/d3.min.js&quot;&gt;&lt;/script&gt;\n",
       "&lt;/head&gt;\n",
       "&lt;body&gt;\n",
       "    \n",
       "    \n",
       "            &lt;div class=&quot;folium-map&quot; id=&quot;map_141300bacdb9661aef79c07f418a7913&quot; &gt;&lt;/div&gt;\n",
       "        \n",
       "&lt;/body&gt;\n",
       "&lt;script&gt;\n",
       "    \n",
       "    \n",
       "            var map_141300bacdb9661aef79c07f418a7913 = L.map(\n",
       "                &quot;map_141300bacdb9661aef79c07f418a7913&quot;,\n",
       "                {\n",
       "                    center: [36.344503417106765, 127.80170416563706],\n",
       "                    crs: L.CRS.EPSG3857,\n",
       "                    zoom: 6,\n",
       "                    zoomControl: false,\n",
       "                    preferCanvas: false,\n",
       "                }\n",
       "            );\n",
       "\n",
       "            \n",
       "\n",
       "        \n",
       "    \n",
       "            var tile_layer_385fc5a91cd0f896589a86be0e3ab4bb = L.tileLayer(\n",
       "                &quot;https://{s}.tile.openstreetmap.org/{z}/{x}/{y}.png&quot;,\n",
       "                {&quot;attribution&quot;: &quot;Data by \\u0026copy; \\u003ca target=\\&quot;_blank\\&quot; href=\\&quot;http://openstreetmap.org\\&quot;\\u003eOpenStreetMap\\u003c/a\\u003e, under \\u003ca target=\\&quot;_blank\\&quot; href=\\&quot;http://www.openstreetmap.org/copyright\\&quot;\\u003eODbL\\u003c/a\\u003e.&quot;, &quot;detectRetina&quot;: false, &quot;maxNativeZoom&quot;: 18, &quot;maxZoom&quot;: 18, &quot;minZoom&quot;: 0, &quot;noWrap&quot;: false, &quot;opacity&quot;: 1, &quot;subdomains&quot;: &quot;abc&quot;, &quot;tms&quot;: false}\n",
       "            );\n",
       "        \n",
       "    \n",
       "                tile_layer_385fc5a91cd0f896589a86be0e3ab4bb.addTo(map_141300bacdb9661aef79c07f418a7913);\n",
       "    \n",
       "            var tile_layer_74e848ea4e8cd8510128c9c89e9ff650 = L.tileLayer(\n",
       "                &quot;https://earthengine.googleapis.com/v1/projects/earthengine-legacy/maps/9b2341129475e6aa71b3a3cf47c2ae86-0ffc04df4d035ffce2079b14098787b1/tiles/{z}/{x}/{y}&quot;,\n",
       "                {&quot;attribution&quot;: &quot;Map Data \\u0026copy; \\u003ca href=\\u0027https://earthengine.google.com/\\u0027\\u003eGoogle Earth Engine\\u003c/a\\u003e&quot;, &quot;detectRetina&quot;: false, &quot;maxNativeZoom&quot;: 18, &quot;maxZoom&quot;: 18, &quot;minZoom&quot;: 0, &quot;noWrap&quot;: false, &quot;opacity&quot;: 1, &quot;subdomains&quot;: &quot;abc&quot;, &quot;tms&quot;: false}\n",
       "            );\n",
       "        \n",
       "    \n",
       "                tile_layer_74e848ea4e8cd8510128c9c89e9ff650.addTo(map_141300bacdb9661aef79c07f418a7913);\n",
       "    \n",
       "            var tile_layer_b2bd211fb9e83747121a1bf27bac7cba = L.tileLayer(\n",
       "                &quot;https://earthengine.googleapis.com/v1/projects/earthengine-legacy/maps/671018b161e3b4305d2be842a93aa098-b9ff24d3ab064136c8f36fe6a4ad00b2/tiles/{z}/{x}/{y}&quot;,\n",
       "                {&quot;attribution&quot;: &quot;Map Data \\u0026copy; \\u003ca href=\\u0027https://earthengine.google.com/\\u0027\\u003eGoogle Earth Engine\\u003c/a\\u003e&quot;, &quot;detectRetina&quot;: false, &quot;maxNativeZoom&quot;: 18, &quot;maxZoom&quot;: 18, &quot;minZoom&quot;: 0, &quot;noWrap&quot;: false, &quot;opacity&quot;: 1, &quot;subdomains&quot;: &quot;abc&quot;, &quot;tms&quot;: false}\n",
       "            );\n",
       "        \n",
       "    \n",
       "                tile_layer_b2bd211fb9e83747121a1bf27bac7cba.addTo(map_141300bacdb9661aef79c07f418a7913);\n",
       "    \n",
       "    var color_map_1d4cad2891e80e359ccbde97e176a5b2 = {};\n",
       "\n",
       "    \n",
       "    color_map_1d4cad2891e80e359ccbde97e176a5b2.color = d3.scale.threshold()\n",
       "              .domain([0.0, 1.002004008016032, 2.004008016032064, 3.006012024048096, 4.008016032064128, 5.01002004008016, 6.012024048096192, 7.014028056112225, 8.016032064128256, 9.01803607214429, 10.02004008016032, 11.022044088176353, 12.024048096192384, 13.026052104208416, 14.02805611222445, 15.030060120240481, 16.03206412825651, 17.034068136272545, 18.03607214428858, 19.03807615230461, 20.04008016032064, 21.04208416833667, 22.044088176352705, 23.04609218436874, 24.04809619238477, 25.050100200400802, 26.052104208416832, 27.054108216432866, 28.0561122244489, 29.05811623246493, 30.060120240480963, 31.062124248496993, 32.06412825651302, 33.06613226452906, 34.06813627254509, 35.07014028056112, 36.07214428857716, 37.07414829659319, 38.07615230460922, 39.078156312625254, 40.08016032064128, 41.08216432865731, 42.08416833667334, 43.08617234468938, 44.08817635270541, 45.09018036072144, 46.09218436873748, 47.09418837675351, 48.09619238476954, 49.098196392785574, 50.100200400801604, 51.102204408817634, 52.104208416833664, 53.1062124248497, 54.10821643286573, 55.11022044088176, 56.1122244488978, 57.11422845691383, 58.11623246492986, 59.11823647294589, 60.120240480961925, 61.122244488977955, 62.124248496993985, 63.12625250501002, 64.12825651302605, 65.13026052104209, 66.13226452905812, 67.13426853707415, 68.13627254509018, 69.13827655310621, 70.14028056112224, 71.14228456913828, 72.14428857715431, 73.14629258517034, 74.14829659318637, 75.1503006012024, 76.15230460921843, 77.15430861723446, 78.15631262525051, 79.15831663326654, 80.16032064128257, 81.1623246492986, 82.16432865731463, 83.16633266533066, 84.16833667334669, 85.17034068136273, 86.17234468937876, 87.17434869739479, 88.17635270541082, 89.17835671342685, 90.18036072144288, 91.18236472945891, 92.18436873747495, 93.18637274549098, 94.18837675350701, 95.19038076152304, 96.19238476953907, 97.1943887775551, 98.19639278557115, 99.19839679358718, 100.20040080160321, 101.20240480961924, 102.20440881763527, 103.2064128256513, 104.20841683366733, 105.21042084168337, 106.2124248496994, 107.21442885771543, 108.21643286573146, 109.21843687374749, 110.22044088176352, 111.22244488977955, 112.2244488977956, 113.22645290581163, 114.22845691382766, 115.23046092184369, 116.23246492985972, 117.23446893787575, 118.23647294589178, 119.23847695390782, 120.24048096192385, 121.24248496993988, 122.24448897795591, 123.24649298597194, 124.24849699398797, 125.25050100200401, 126.25250501002004, 127.25450901803607, 128.2565130260521, 129.25851703406815, 130.26052104208418, 131.2625250501002, 132.26452905811624, 133.26653306613227, 134.2685370741483, 135.27054108216433, 136.27254509018036, 137.2745490981964, 138.27655310621242, 139.27855711422845, 140.28056112224448, 141.2825651302605, 142.28456913827657, 143.2865731462926, 144.28857715430863, 145.29058116232466, 146.2925851703407, 147.29458917835672, 148.29659318637275, 149.29859719438878, 150.3006012024048, 151.30260521042084, 152.30460921843687, 153.3066132264529, 154.30861723446893, 155.31062124248496, 156.31262525050101, 157.31462925851704, 158.31663326653307, 159.3186372745491, 160.32064128256513, 161.32264529058116, 162.3246492985972, 163.32665330661322, 164.32865731462925, 165.33066132264528, 166.3326653306613, 167.33466933867734, 168.33667334669337, 169.33867735470943, 170.34068136272546, 171.3426853707415, 172.34468937875752, 173.34669338677355, 174.34869739478958, 175.3507014028056, 176.35270541082164, 177.35470941883767, 178.3567134268537, 179.35871743486973, 180.36072144288576, 181.3627254509018, 182.36472945891782, 183.36673346693388, 184.3687374749499, 185.37074148296594, 186.37274549098197, 187.374749498998, 188.37675350701403, 189.37875751503006, 190.3807615230461, 191.38276553106212, 192.38476953907815, 193.38677354709418, 194.3887775551102, 195.39078156312624, 196.3927855711423, 197.39478957915833, 198.39679358717436, 199.3987975951904, 200.40080160320642, 201.40280561122245, 202.40480961923848, 203.4068136272545, 204.40881763527054, 205.41082164328657, 206.4128256513026, 207.41482965931863, 208.41683366733466, 209.4188376753507, 210.42084168336675, 211.42284569138278, 212.4248496993988, 213.42685370741484, 214.42885771543087, 215.4308617234469, 216.43286573146293, 217.43486973947896, 218.43687374749499, 219.43887775551102, 220.44088176352705, 221.44288577154308, 222.4448897795591, 223.44689378757516, 224.4488977955912, 225.45090180360722, 226.45290581162325, 227.45490981963928, 228.4569138276553, 229.45891783567134, 230.46092184368737, 231.4629258517034, 232.46492985971943, 233.46693386773546, 234.4689378757515, 235.47094188376752, 236.47294589178355, 237.4749498997996, 238.47695390781564, 239.47895791583167, 240.4809619238477, 241.48296593186373, 242.48496993987976, 243.4869739478958, 244.48897795591182, 245.49098196392785, 246.49298597194388, 247.4949899799599, 248.49699398797594, 249.49899799599197, 250.50100200400803, 251.50300601202406, 252.5050100200401, 253.50701402805612, 254.50901803607215, 255.51102204408818, 256.5130260521042, 257.51503006012024, 258.5170340681363, 259.5190380761523, 260.52104208416836, 261.52304609218436, 262.5250501002004, 263.5270541082164, 264.5290581162325, 265.5310621242485, 266.53306613226454, 267.53507014028054, 268.5370741482966, 269.5390781563126, 270.54108216432866, 271.5430861723447, 272.5450901803607, 273.5470941883768, 274.5490981963928, 275.55110220440883, 276.55310621242484, 277.5551102204409, 278.5571142284569, 279.55911823647295, 280.56112224448896, 281.563126252505, 282.565130260521, 283.5671342685371, 284.56913827655313, 285.57114228456913, 286.5731462925852, 287.5751503006012, 288.57715430861725, 289.57915831663325, 290.5811623246493, 291.5831663326653, 292.5851703406814, 293.5871743486974, 294.58917835671343, 295.59118236472943, 296.5931863727455, 297.59519038076155, 298.59719438877755, 299.5991983967936, 300.6012024048096, 301.60320641282567, 302.6052104208417, 303.60721442885773, 304.60921843687373, 305.6112224448898, 306.6132264529058, 307.61523046092185, 308.61723446893785, 309.6192384769539, 310.6212424849699, 311.62324649298597, 312.62525050100203, 313.62725450901803, 314.6292585170341, 315.6312625250501, 316.63326653306615, 317.63527054108215, 318.6372745490982, 319.6392785571142, 320.64128256513027, 321.64328657314627, 322.6452905811623, 323.64729458917833, 324.6492985971944, 325.65130260521045, 326.65330661322645, 327.6553106212425, 328.6573146292585, 329.65931863727457, 330.66132264529057, 331.6633266533066, 332.6653306613226, 333.6673346693387, 334.6693386773547, 335.67134268537075, 336.67334669338675, 337.6753507014028, 338.67735470941886, 339.67935871743487, 340.6813627254509, 341.6833667334669, 342.685370741483, 343.687374749499, 344.68937875751504, 345.69138276553105, 346.6933867735471, 347.6953907815631, 348.69739478957916, 349.69939879759517, 350.7014028056112, 351.7034068136273, 352.7054108216433, 353.70741482965934, 354.70941883767534, 355.7114228456914, 356.7134268537074, 357.71543086172346, 358.71743486973946, 359.7194388777555, 360.7214428857715, 361.7234468937876, 362.7254509018036, 363.72745490981964, 364.72945891783564, 365.7314629258517, 366.73346693386776, 367.73547094188376, 368.7374749498998, 369.7394789579158, 370.7414829659319, 371.7434869739479, 372.74549098196394, 373.74749498997994, 374.749498997996, 375.751503006012, 376.75350701402806, 377.75551102204406, 378.7575150300601, 379.7595190380762, 380.7615230460922, 381.76352705410824, 382.76553106212424, 383.7675350701403, 384.7695390781563, 385.77154308617236, 386.77354709418836, 387.7755511022044, 388.7775551102204, 389.7795591182365, 390.7815631262525, 391.78356713426854, 392.7855711422846, 393.7875751503006, 394.78957915831666, 395.79158316633266, 396.7935871743487, 397.7955911823647, 398.7975951903808, 399.7995991983968, 400.80160320641284, 401.80360721442884, 402.8056112224449, 403.8076152304609, 404.80961923847696, 405.811623246493, 406.813627254509, 407.8156312625251, 408.8176352705411, 409.81963927855713, 410.82164328657313, 411.8236472945892, 412.8256513026052, 413.82765531062125, 414.82965931863725, 415.8316633266533, 416.8336673346693, 417.8356713426854, 418.8376753507014, 419.83967935871743, 420.8416833667335, 421.8436873747495, 422.84569138276555, 423.84769539078155, 424.8496993987976, 425.8517034068136, 426.85370741482967, 427.8557114228457, 428.85771543086173, 429.85971943887773, 430.8617234468938, 431.8637274549098, 432.86573146292585, 433.8677354709419, 434.8697394789579, 435.87174348697397, 436.87374749498997, 437.87575150300603, 438.87775551102203, 439.8797595190381, 440.8817635270541, 441.88376753507015, 442.88577154308615, 443.8877755511022, 444.8897795591182, 445.89178356713427, 446.8937875751503, 447.89579158316633, 448.8977955911824, 449.8997995991984, 450.90180360721445, 451.90380761523045, 452.9058116232465, 453.9078156312625, 454.90981963927857, 455.91182364729457, 456.9138276553106, 457.9158316633266, 458.9178356713427, 459.91983967935874, 460.92184368737475, 461.9238476953908, 462.9258517034068, 463.92785571142286, 464.92985971943887, 465.9318637274549, 466.9338677354709, 467.935871743487, 468.937875751503, 469.93987975951904, 470.94188376753505, 471.9438877755511, 472.9458917835671, 473.94789579158316, 474.9498997995992, 475.9519038076152, 476.9539078156313, 477.9559118236473, 478.95791583166334, 479.95991983967934, 480.9619238476954, 481.9639278557114, 482.96593186372746, 483.96793587174346, 484.9699398797595, 485.9719438877755, 486.9739478957916, 487.97595190380764, 488.97795591182364, 489.9799599198397, 490.9819639278557, 491.98396793587176, 492.98597194388776, 493.9879759519038, 494.9899799599198, 495.9919839679359, 496.9939879759519, 497.99599198396794, 498.99799599198394, 500.0])\n",
       "              .range([&#x27;#ff0000ff&#x27;, &#x27;#ff0100ff&#x27;, &#x27;#ff0300ff&#x27;, &#x27;#ff0400ff&#x27;, &#x27;#ff0600ff&#x27;, &#x27;#ff0800ff&#x27;, &#x27;#ff0900ff&#x27;, &#x27;#ff0b00ff&#x27;, &#x27;#ff0d00ff&#x27;, &#x27;#ff0e00ff&#x27;, &#x27;#ff1000ff&#x27;, &#x27;#ff1200ff&#x27;, &#x27;#ff1300ff&#x27;, &#x27;#ff1500ff&#x27;, &#x27;#ff1700ff&#x27;, &#x27;#ff1800ff&#x27;, &#x27;#ff1a00ff&#x27;, &#x27;#ff1c00ff&#x27;, &#x27;#ff1d00ff&#x27;, &#x27;#ff1f00ff&#x27;, &#x27;#ff2100ff&#x27;, &#x27;#ff2200ff&#x27;, &#x27;#ff2400ff&#x27;, &#x27;#ff2600ff&#x27;, &#x27;#ff2700ff&#x27;, &#x27;#ff2900ff&#x27;, &#x27;#ff2b00ff&#x27;, &#x27;#ff2c00ff&#x27;, &#x27;#ff2e00ff&#x27;, &#x27;#ff3000ff&#x27;, &#x27;#ff3100ff&#x27;, &#x27;#ff3300ff&#x27;, &#x27;#ff3500ff&#x27;, &#x27;#ff3600ff&#x27;, &#x27;#ff3800ff&#x27;, &#x27;#ff3a00ff&#x27;, &#x27;#ff3b00ff&#x27;, &#x27;#ff3d00ff&#x27;, &#x27;#ff3f00ff&#x27;, &#x27;#ff4000ff&#x27;, &#x27;#ff4200ff&#x27;, &#x27;#ff4400ff&#x27;, &#x27;#ff4500ff&#x27;, &#x27;#ff4700ff&#x27;, &#x27;#ff4900ff&#x27;, &#x27;#ff4a00ff&#x27;, &#x27;#ff4c00ff&#x27;, &#x27;#ff4e00ff&#x27;, &#x27;#ff4f00ff&#x27;, &#x27;#ff5100ff&#x27;, &#x27;#ff5200ff&#x27;, &#x27;#ff5400ff&#x27;, &#x27;#ff5600ff&#x27;, &#x27;#ff5700ff&#x27;, &#x27;#ff5900ff&#x27;, &#x27;#ff5b00ff&#x27;, &#x27;#ff5c00ff&#x27;, &#x27;#ff5e00ff&#x27;, &#x27;#ff6000ff&#x27;, &#x27;#ff6100ff&#x27;, &#x27;#ff6300ff&#x27;, &#x27;#ff6500ff&#x27;, &#x27;#ff6600ff&#x27;, &#x27;#ff6800ff&#x27;, &#x27;#ff6a00ff&#x27;, &#x27;#ff6b00ff&#x27;, &#x27;#ff6d00ff&#x27;, &#x27;#ff6f00ff&#x27;, &#x27;#ff7000ff&#x27;, &#x27;#ff7200ff&#x27;, &#x27;#ff7400ff&#x27;, &#x27;#ff7500ff&#x27;, &#x27;#ff7700ff&#x27;, &#x27;#ff7900ff&#x27;, &#x27;#ff7a00ff&#x27;, &#x27;#ff7c00ff&#x27;, &#x27;#ff7e00ff&#x27;, &#x27;#ff7f00ff&#x27;, &#x27;#ff8100ff&#x27;, &#x27;#ff8300ff&#x27;, &#x27;#ff8400ff&#x27;, &#x27;#ff8600ff&#x27;, &#x27;#ff8800ff&#x27;, &#x27;#ff8900ff&#x27;, &#x27;#ff8b00ff&#x27;, &#x27;#ff8d00ff&#x27;, &#x27;#ff8e00ff&#x27;, &#x27;#ff9000ff&#x27;, &#x27;#ff9200ff&#x27;, &#x27;#ff9300ff&#x27;, &#x27;#ff9500ff&#x27;, &#x27;#ff9700ff&#x27;, &#x27;#ff9800ff&#x27;, &#x27;#ff9a00ff&#x27;, &#x27;#ff9c00ff&#x27;, &#x27;#ff9d00ff&#x27;, &#x27;#ff9f00ff&#x27;, &#x27;#ffa000ff&#x27;, &#x27;#ffa200ff&#x27;, &#x27;#ffa400ff&#x27;, &#x27;#ffa500ff&#x27;, &#x27;#ffa600ff&#x27;, &#x27;#ffa700ff&#x27;, &#x27;#ffa800ff&#x27;, &#x27;#ffa900ff&#x27;, &#x27;#ffaa00ff&#x27;, &#x27;#ffab00ff&#x27;, &#x27;#ffac00ff&#x27;, &#x27;#ffad00ff&#x27;, &#x27;#ffad00ff&#x27;, &#x27;#ffae00ff&#x27;, &#x27;#ffaf00ff&#x27;, &#x27;#ffb000ff&#x27;, &#x27;#ffb100ff&#x27;, &#x27;#ffb200ff&#x27;, &#x27;#ffb300ff&#x27;, &#x27;#ffb400ff&#x27;, &#x27;#ffb500ff&#x27;, &#x27;#ffb600ff&#x27;, &#x27;#ffb700ff&#x27;, &#x27;#ffb700ff&#x27;, &#x27;#ffb800ff&#x27;, &#x27;#ffb900ff&#x27;, &#x27;#ffba00ff&#x27;, &#x27;#ffbb00ff&#x27;, &#x27;#ffbc00ff&#x27;, &#x27;#ffbd00ff&#x27;, &#x27;#ffbe00ff&#x27;, &#x27;#ffbf00ff&#x27;, &#x27;#ffc000ff&#x27;, &#x27;#ffc000ff&#x27;, &#x27;#ffc100ff&#x27;, &#x27;#ffc200ff&#x27;, &#x27;#ffc300ff&#x27;, &#x27;#ffc400ff&#x27;, &#x27;#ffc500ff&#x27;, &#x27;#ffc600ff&#x27;, &#x27;#ffc700ff&#x27;, &#x27;#ffc800ff&#x27;, &#x27;#ffc900ff&#x27;, &#x27;#ffca00ff&#x27;, &#x27;#ffca00ff&#x27;, &#x27;#ffcb00ff&#x27;, &#x27;#ffcc00ff&#x27;, &#x27;#ffcd00ff&#x27;, &#x27;#ffce00ff&#x27;, &#x27;#ffcf00ff&#x27;, &#x27;#ffd000ff&#x27;, &#x27;#ffd100ff&#x27;, &#x27;#ffd200ff&#x27;, &#x27;#ffd300ff&#x27;, &#x27;#ffd400ff&#x27;, &#x27;#ffd400ff&#x27;, &#x27;#ffd500ff&#x27;, &#x27;#ffd600ff&#x27;, &#x27;#ffd700ff&#x27;, &#x27;#ffd800ff&#x27;, &#x27;#ffd900ff&#x27;, &#x27;#ffda00ff&#x27;, &#x27;#ffdb00ff&#x27;, &#x27;#ffdc00ff&#x27;, &#x27;#ffdd00ff&#x27;, &#x27;#ffdd00ff&#x27;, &#x27;#ffde00ff&#x27;, &#x27;#ffdf00ff&#x27;, &#x27;#ffe000ff&#x27;, &#x27;#ffe100ff&#x27;, &#x27;#ffe200ff&#x27;, &#x27;#ffe300ff&#x27;, &#x27;#ffe400ff&#x27;, &#x27;#ffe500ff&#x27;, &#x27;#ffe600ff&#x27;, &#x27;#ffe700ff&#x27;, &#x27;#ffe700ff&#x27;, &#x27;#ffe800ff&#x27;, &#x27;#ffe900ff&#x27;, &#x27;#ffea00ff&#x27;, &#x27;#ffeb00ff&#x27;, &#x27;#ffec00ff&#x27;, &#x27;#ffed00ff&#x27;, &#x27;#ffee00ff&#x27;, &#x27;#ffef00ff&#x27;, &#x27;#fff000ff&#x27;, &#x27;#fff000ff&#x27;, &#x27;#fff100ff&#x27;, &#x27;#fff200ff&#x27;, &#x27;#fff300ff&#x27;, &#x27;#fff400ff&#x27;, &#x27;#fff500ff&#x27;, &#x27;#fff600ff&#x27;, &#x27;#fff700ff&#x27;, &#x27;#fff800ff&#x27;, &#x27;#fff900ff&#x27;, &#x27;#fffa00ff&#x27;, &#x27;#fffa00ff&#x27;, &#x27;#fffb00ff&#x27;, &#x27;#fffc00ff&#x27;, &#x27;#fffd00ff&#x27;, &#x27;#fffe00ff&#x27;, &#x27;#ffff00ff&#x27;, &#x27;#feff00ff&#x27;, &#x27;#fcfe00ff&#x27;, &#x27;#f9fc00ff&#x27;, &#x27;#f7fb00ff&#x27;, &#x27;#f4fa00ff&#x27;, &#x27;#f2f900ff&#x27;, &#x27;#eff700ff&#x27;, &#x27;#edf600ff&#x27;, &#x27;#eaf500ff&#x27;, &#x27;#e7f300ff&#x27;, &#x27;#e5f200ff&#x27;, &#x27;#e2f100ff&#x27;, &#x27;#e0f000ff&#x27;, &#x27;#ddee00ff&#x27;, &#x27;#dbed00ff&#x27;, &#x27;#d8ec00ff&#x27;, &#x27;#d5eb00ff&#x27;, &#x27;#d3e900ff&#x27;, &#x27;#d0e800ff&#x27;, &#x27;#cee700ff&#x27;, &#x27;#cbe500ff&#x27;, &#x27;#c9e400ff&#x27;, &#x27;#c6e300ff&#x27;, &#x27;#c3e200ff&#x27;, &#x27;#c1e000ff&#x27;, &#x27;#bedf00ff&#x27;, &#x27;#bcde00ff&#x27;, &#x27;#b9dc00ff&#x27;, &#x27;#b7db00ff&#x27;, &#x27;#b4da00ff&#x27;, &#x27;#b2d900ff&#x27;, &#x27;#afd700ff&#x27;, &#x27;#acd600ff&#x27;, &#x27;#aad500ff&#x27;, &#x27;#a7d400ff&#x27;, &#x27;#a5d200ff&#x27;, &#x27;#a2d100ff&#x27;, &#x27;#a0d000ff&#x27;, &#x27;#9dce00ff&#x27;, &#x27;#9acd00ff&#x27;, &#x27;#98cc00ff&#x27;, &#x27;#95cb00ff&#x27;, &#x27;#93c900ff&#x27;, &#x27;#90c800ff&#x27;, &#x27;#8ec700ff&#x27;, &#x27;#8bc500ff&#x27;, &#x27;#88c400ff&#x27;, &#x27;#86c300ff&#x27;, &#x27;#83c200ff&#x27;, &#x27;#81c000ff&#x27;, &#x27;#7ebf00ff&#x27;, &#x27;#7cbe00ff&#x27;, &#x27;#79bd00ff&#x27;, &#x27;#77bb00ff&#x27;, &#x27;#74ba00ff&#x27;, &#x27;#71b900ff&#x27;, &#x27;#6fb700ff&#x27;, &#x27;#6cb600ff&#x27;, &#x27;#6ab500ff&#x27;, &#x27;#67b400ff&#x27;, &#x27;#65b200ff&#x27;, &#x27;#62b100ff&#x27;, &#x27;#5fb000ff&#x27;, &#x27;#5daf00ff&#x27;, &#x27;#5aad00ff&#x27;, &#x27;#58ac00ff&#x27;, &#x27;#55ab00ff&#x27;, &#x27;#53a900ff&#x27;, &#x27;#50a800ff&#x27;, &#x27;#4da700ff&#x27;, &#x27;#4ba600ff&#x27;, &#x27;#48a400ff&#x27;, &#x27;#46a300ff&#x27;, &#x27;#43a200ff&#x27;, &#x27;#41a000ff&#x27;, &#x27;#3e9f00ff&#x27;, &#x27;#3c9e00ff&#x27;, &#x27;#399d00ff&#x27;, &#x27;#369b00ff&#x27;, &#x27;#349a00ff&#x27;, &#x27;#319900ff&#x27;, &#x27;#2f9800ff&#x27;, &#x27;#2c9600ff&#x27;, &#x27;#2a9500ff&#x27;, &#x27;#279400ff&#x27;, &#x27;#249200ff&#x27;, &#x27;#229100ff&#x27;, &#x27;#1f9000ff&#x27;, &#x27;#1d8f00ff&#x27;, &#x27;#1a8d00ff&#x27;, &#x27;#188c00ff&#x27;, &#x27;#158b00ff&#x27;, &#x27;#128900ff&#x27;, &#x27;#108800ff&#x27;, &#x27;#0d8700ff&#x27;, &#x27;#0b8600ff&#x27;, &#x27;#088400ff&#x27;, &#x27;#068300ff&#x27;, &#x27;#038200ff&#x27;, &#x27;#018100ff&#x27;, &#x27;#007f01ff&#x27;, &#x27;#007e04ff&#x27;, &#x27;#007d06ff&#x27;, &#x27;#007b09ff&#x27;, &#x27;#007a0bff&#x27;, &#x27;#00790eff&#x27;, &#x27;#007810ff&#x27;, &#x27;#007613ff&#x27;, &#x27;#007516ff&#x27;, &#x27;#007418ff&#x27;, &#x27;#00721bff&#x27;, &#x27;#00711dff&#x27;, &#x27;#007020ff&#x27;, &#x27;#006e22ff&#x27;, &#x27;#006d25ff&#x27;, &#x27;#006c28ff&#x27;, &#x27;#006b2aff&#x27;, &#x27;#00692dff&#x27;, &#x27;#00682fff&#x27;, &#x27;#006732ff&#x27;, &#x27;#006534ff&#x27;, &#x27;#006437ff&#x27;, &#x27;#006339ff&#x27;, &#x27;#00623cff&#x27;, &#x27;#00603fff&#x27;, &#x27;#005f41ff&#x27;, &#x27;#005e44ff&#x27;, &#x27;#005c46ff&#x27;, &#x27;#005b49ff&#x27;, &#x27;#005a4bff&#x27;, &#x27;#00594eff&#x27;, &#x27;#005751ff&#x27;, &#x27;#005653ff&#x27;, &#x27;#005556ff&#x27;, &#x27;#005358ff&#x27;, &#x27;#00525bff&#x27;, &#x27;#00515dff&#x27;, &#x27;#005060ff&#x27;, &#x27;#004e63ff&#x27;, &#x27;#004d65ff&#x27;, &#x27;#004c68ff&#x27;, &#x27;#004a6aff&#x27;, &#x27;#00496dff&#x27;, &#x27;#00486fff&#x27;, &#x27;#004772ff&#x27;, &#x27;#004574ff&#x27;, &#x27;#004477ff&#x27;, &#x27;#00437aff&#x27;, &#x27;#00417cff&#x27;, &#x27;#00407fff&#x27;, &#x27;#003f81ff&#x27;, &#x27;#003e84ff&#x27;, &#x27;#003c86ff&#x27;, &#x27;#003b89ff&#x27;, &#x27;#003a8cff&#x27;, &#x27;#00388eff&#x27;, &#x27;#003791ff&#x27;, &#x27;#003693ff&#x27;, &#x27;#003596ff&#x27;, &#x27;#003398ff&#x27;, &#x27;#00329bff&#x27;, &#x27;#00319eff&#x27;, &#x27;#002fa0ff&#x27;, &#x27;#002ea3ff&#x27;, &#x27;#002da5ff&#x27;, &#x27;#002ca8ff&#x27;, &#x27;#002aaaff&#x27;, &#x27;#0029adff&#x27;, &#x27;#0028afff&#x27;, &#x27;#0026b2ff&#x27;, &#x27;#0025b5ff&#x27;, &#x27;#0024b7ff&#x27;, &#x27;#0023baff&#x27;, &#x27;#0021bcff&#x27;, &#x27;#0020bfff&#x27;, &#x27;#001fc1ff&#x27;, &#x27;#001dc4ff&#x27;, &#x27;#001cc7ff&#x27;, &#x27;#001bc9ff&#x27;, &#x27;#001accff&#x27;, &#x27;#0018ceff&#x27;, &#x27;#0017d1ff&#x27;, &#x27;#0016d3ff&#x27;, &#x27;#0014d6ff&#x27;, &#x27;#0013d9ff&#x27;, &#x27;#0012dbff&#x27;, &#x27;#0010deff&#x27;, &#x27;#000fe0ff&#x27;, &#x27;#000ee3ff&#x27;, &#x27;#000de5ff&#x27;, &#x27;#000be8ff&#x27;, &#x27;#000aeaff&#x27;, &#x27;#0009edff&#x27;, &#x27;#0007f0ff&#x27;, &#x27;#0006f2ff&#x27;, &#x27;#0005f5ff&#x27;, &#x27;#0004f7ff&#x27;, &#x27;#0002faff&#x27;, &#x27;#0001fcff&#x27;, &#x27;#0000ffff&#x27;, &#x27;#0100feff&#x27;, &#x27;#0200fdff&#x27;, &#x27;#0300fcff&#x27;, &#x27;#0400fbff&#x27;, &#x27;#0600f9ff&#x27;, &#x27;#0700f8ff&#x27;, &#x27;#0800f7ff&#x27;, &#x27;#0a00f6ff&#x27;, &#x27;#0b00f4ff&#x27;, &#x27;#0c00f3ff&#x27;, &#x27;#0d00f2ff&#x27;, &#x27;#0f00f0ff&#x27;, &#x27;#1000efff&#x27;, &#x27;#1100eeff&#x27;, &#x27;#1300edff&#x27;, &#x27;#1400ebff&#x27;, &#x27;#1500eaff&#x27;, &#x27;#1600e9ff&#x27;, &#x27;#1800e7ff&#x27;, &#x27;#1900e6ff&#x27;, &#x27;#1a00e5ff&#x27;, &#x27;#1c00e4ff&#x27;, &#x27;#1d00e2ff&#x27;, &#x27;#1e00e1ff&#x27;, &#x27;#1f00e0ff&#x27;, &#x27;#2100dfff&#x27;, &#x27;#2200ddff&#x27;, &#x27;#2300dcff&#x27;, &#x27;#2500dbff&#x27;, &#x27;#2600d9ff&#x27;, &#x27;#2700d8ff&#x27;, &#x27;#2800d7ff&#x27;, &#x27;#2a00d6ff&#x27;, &#x27;#2b00d4ff&#x27;, &#x27;#2c00d3ff&#x27;, &#x27;#2e00d2ff&#x27;, &#x27;#2f00d0ff&#x27;, &#x27;#3000cfff&#x27;, &#x27;#3100ceff&#x27;, &#x27;#3300cdff&#x27;, &#x27;#3400cbff&#x27;, &#x27;#3500caff&#x27;, &#x27;#3700c9ff&#x27;, &#x27;#3800c8ff&#x27;, &#x27;#3900c6ff&#x27;, &#x27;#3a00c5ff&#x27;, &#x27;#3c00c4ff&#x27;, &#x27;#3d00c2ff&#x27;, &#x27;#3e00c1ff&#x27;, &#x27;#4000c0ff&#x27;, &#x27;#4100bfff&#x27;, &#x27;#4200bdff&#x27;, &#x27;#4300bcff&#x27;, &#x27;#4500bbff&#x27;, &#x27;#4600b9ff&#x27;, &#x27;#4700b8ff&#x27;, &#x27;#4900b7ff&#x27;, &#x27;#4a00b6ff&#x27;, &#x27;#4b00b4ff&#x27;, &#x27;#4c00b3ff&#x27;, &#x27;#4e00b2ff&#x27;, &#x27;#4f00b1ff&#x27;, &#x27;#5000afff&#x27;, &#x27;#5200aeff&#x27;, &#x27;#5300adff&#x27;, &#x27;#5400abff&#x27;, &#x27;#5600aaff&#x27;, &#x27;#5700a9ff&#x27;, &#x27;#5800a8ff&#x27;, &#x27;#5900a6ff&#x27;, &#x27;#5b00a5ff&#x27;, &#x27;#5c00a4ff&#x27;, &#x27;#5d00a2ff&#x27;, &#x27;#5f00a1ff&#x27;, &#x27;#6000a0ff&#x27;, &#x27;#61009fff&#x27;, &#x27;#62009dff&#x27;, &#x27;#64009cff&#x27;, &#x27;#65009bff&#x27;, &#x27;#66009aff&#x27;, &#x27;#680098ff&#x27;, &#x27;#690097ff&#x27;, &#x27;#6a0096ff&#x27;, &#x27;#6b0094ff&#x27;, &#x27;#6d0093ff&#x27;, &#x27;#6e0092ff&#x27;, &#x27;#6f0091ff&#x27;, &#x27;#71008fff&#x27;, &#x27;#72008eff&#x27;, &#x27;#73008dff&#x27;, &#x27;#74008bff&#x27;, &#x27;#76008aff&#x27;, &#x27;#770089ff&#x27;, &#x27;#780088ff&#x27;, &#x27;#7a0086ff&#x27;, &#x27;#7b0085ff&#x27;, &#x27;#7c0084ff&#x27;, &#x27;#7d0083ff&#x27;, &#x27;#7f0081ff&#x27;, &#x27;#800080ff&#x27;]);\n",
       "    \n",
       "\n",
       "    color_map_1d4cad2891e80e359ccbde97e176a5b2.x = d3.scale.linear()\n",
       "              .domain([0.0, 500.0])\n",
       "              .range([0, 450 - 50]);\n",
       "\n",
       "    color_map_1d4cad2891e80e359ccbde97e176a5b2.legend = L.control({position: &#x27;topright&#x27;});\n",
       "    color_map_1d4cad2891e80e359ccbde97e176a5b2.legend.onAdd = function (map) {var div = L.DomUtil.create(&#x27;div&#x27;, &#x27;legend&#x27;); return div};\n",
       "    color_map_1d4cad2891e80e359ccbde97e176a5b2.legend.addTo(map_141300bacdb9661aef79c07f418a7913);\n",
       "\n",
       "    color_map_1d4cad2891e80e359ccbde97e176a5b2.xAxis = d3.svg.axis()\n",
       "        .scale(color_map_1d4cad2891e80e359ccbde97e176a5b2.x)\n",
       "        .orient(&quot;top&quot;)\n",
       "        .tickSize(1)\n",
       "        .tickValues([0.0, 100.0, 200.0, 300.0, 400.0, 500.0]);\n",
       "\n",
       "    color_map_1d4cad2891e80e359ccbde97e176a5b2.svg = d3.select(&quot;.legend.leaflet-control&quot;).append(&quot;svg&quot;)\n",
       "        .attr(&quot;id&quot;, &#x27;legend&#x27;)\n",
       "        .attr(&quot;width&quot;, 450)\n",
       "        .attr(&quot;height&quot;, 40);\n",
       "\n",
       "    color_map_1d4cad2891e80e359ccbde97e176a5b2.g = color_map_1d4cad2891e80e359ccbde97e176a5b2.svg.append(&quot;g&quot;)\n",
       "        .attr(&quot;class&quot;, &quot;key&quot;)\n",
       "        .attr(&quot;transform&quot;, &quot;translate(25,16)&quot;);\n",
       "\n",
       "    color_map_1d4cad2891e80e359ccbde97e176a5b2.g.selectAll(&quot;rect&quot;)\n",
       "        .data(color_map_1d4cad2891e80e359ccbde97e176a5b2.color.range().map(function(d, i) {\n",
       "          return {\n",
       "            x0: i ? color_map_1d4cad2891e80e359ccbde97e176a5b2.x(color_map_1d4cad2891e80e359ccbde97e176a5b2.color.domain()[i - 1]) : color_map_1d4cad2891e80e359ccbde97e176a5b2.x.range()[0],\n",
       "            x1: i &lt; color_map_1d4cad2891e80e359ccbde97e176a5b2.color.domain().length ? color_map_1d4cad2891e80e359ccbde97e176a5b2.x(color_map_1d4cad2891e80e359ccbde97e176a5b2.color.domain()[i]) : color_map_1d4cad2891e80e359ccbde97e176a5b2.x.range()[1],\n",
       "            z: d\n",
       "          };\n",
       "        }))\n",
       "      .enter().append(&quot;rect&quot;)\n",
       "        .attr(&quot;height&quot;, 40 - 30)\n",
       "        .attr(&quot;x&quot;, function(d) { return d.x0; })\n",
       "        .attr(&quot;width&quot;, function(d) { return d.x1 - d.x0; })\n",
       "        .style(&quot;fill&quot;, function(d) { return d.z; });\n",
       "\n",
       "    color_map_1d4cad2891e80e359ccbde97e176a5b2.g.call(color_map_1d4cad2891e80e359ccbde97e176a5b2.xAxis).append(&quot;text&quot;)\n",
       "        .attr(&quot;class&quot;, &quot;caption&quot;)\n",
       "        .attr(&quot;y&quot;, 21)\n",
       "        .text(&quot;Average annual recharge rate (mm/year)&quot;);\n",
       "    \n",
       "    var color_map_3b81155bfd723e5f7e2fed003c17573a = {};\n",
       "\n",
       "    \n",
       "    color_map_3b81155bfd723e5f7e2fed003c17573a.color = d3.scale.threshold()\n",
       "              .domain([500.0, 502.00400801603206, 504.0080160320641, 506.0120240480962, 508.01603206412824, 510.0200400801603, 512.0240480961924, 514.0280561122245, 516.0320641282565, 518.0360721442886, 520.0400801603206, 522.0440881763527, 524.0480961923847, 526.0521042084168, 528.056112224449, 530.060120240481, 532.0641282565131, 534.0681362725451, 536.0721442885772, 538.0761523046092, 540.0801603206413, 542.0841683366733, 544.0881763527054, 546.0921843687374, 548.0961923847696, 550.1002004008016, 552.1042084168337, 554.1082164328657, 556.1122244488978, 558.1162324649299, 560.1202404809619, 562.124248496994, 564.128256513026, 566.1322645290581, 568.1362725450902, 570.1402805611223, 572.1442885771543, 574.1482965931864, 576.1523046092184, 578.1563126252505, 580.1603206412826, 582.1643286573146, 584.1683366733466, 586.1723446893787, 588.1763527054109, 590.1803607214429, 592.184368737475, 594.188376753507, 596.1923847695391, 598.1963927855711, 600.2004008016032, 602.2044088176352, 604.2084168336673, 606.2124248496993, 608.2164328657315, 610.2204408817636, 612.2244488977956, 614.2284569138277, 616.2324649298597, 618.2364729458918, 620.2404809619238, 622.2444889779559, 624.2484969939879, 626.2525050100201, 628.2565130260521, 630.2605210420842, 632.2645290581163, 634.2685370741483, 636.2725450901803, 638.2765531062124, 640.2805611222445, 642.2845691382765, 644.2885771543087, 646.2925851703407, 648.2965931863728, 650.3006012024048, 652.3046092184369, 654.3086172344689, 656.312625250501, 658.316633266533, 660.3206412825651, 662.3246492985973, 664.3286573146293, 666.3326653306613, 668.3366733466934, 670.3406813627255, 672.3446893787575, 674.3486973947896, 676.3527054108216, 678.3567134268537, 680.3607214428857, 682.3647294589179, 684.36873747495, 686.372745490982, 688.376753507014, 690.3807615230461, 692.3847695390782, 694.3887775551102, 696.3927855711423, 698.3967935871743, 700.4008016032064, 702.4048096192384, 704.4088176352706, 706.4128256513026, 708.4168336673347, 710.4208416833667, 712.4248496993988, 714.4288577154309, 716.4328657314629, 718.4368737474949, 720.440881763527, 722.4448897795592, 724.4488977955912, 726.4529058116233, 728.4569138276553, 730.4609218436874, 732.4649298597194, 734.4689378757515, 736.4729458917835, 738.4769539078156, 740.4809619238476, 742.4849699398798, 744.4889779559119, 746.4929859719439, 748.4969939879759, 750.501002004008, 752.5050100200401, 754.5090180360721, 756.5130260521041, 758.5170340681364, 760.5210420841684, 762.5250501002004, 764.5290581162325, 766.5330661322646, 768.5370741482966, 770.5410821643286, 772.5450901803607, 774.5490981963928, 776.5531062124248, 778.5571142284568, 780.561122244489, 782.5651302605211, 784.5691382765531, 786.5731462925852, 788.5771543086173, 790.5811623246493, 792.5851703406813, 794.5891783567134, 796.5931863727455, 798.5971943887776, 800.6012024048096, 802.6052104208417, 804.6092184368738, 806.6132264529058, 808.6172344689378, 810.6212424849699, 812.625250501002, 814.629258517034, 816.6332665330661, 818.6372745490983, 820.6412825651303, 822.6452905811623, 824.6492985971944, 826.6533066132265, 828.6573146292585, 830.6613226452905, 832.6653306613226, 834.6693386773547, 836.6733466933867, 838.6773547094189, 840.681362725451, 842.685370741483, 844.689378757515, 846.6933867735471, 848.6973947895792, 850.7014028056112, 852.7054108216432, 854.7094188376753, 856.7134268537075, 858.7174348697395, 860.7214428857715, 862.7254509018036, 864.7294589178357, 866.7334669338677, 868.7374749498998, 870.7414829659319, 872.7454909819639, 874.7494989979959, 876.7535070140281, 878.7575150300602, 880.7615230460922, 882.7655310621242, 884.7695390781563, 886.7735470941884, 888.7775551102204, 890.7815631262524, 892.7855711422847, 894.7895791583167, 896.7935871743487, 898.7975951903808, 900.8016032064129, 902.8056112224449, 904.8096192384769, 906.813627254509, 908.8176352705411, 910.8216432865731, 912.8256513026051, 914.8296593186373, 916.8336673346694, 918.8376753507014, 920.8416833667335, 922.8456913827656, 924.8496993987976, 926.8537074148296, 928.8577154308617, 930.8617234468938, 932.8657314629259, 934.8697394789579, 936.87374749499, 938.8777555110221, 940.8817635270541, 942.8857715430861, 944.8897795591182, 946.8937875751503, 948.8977955911823, 950.9018036072144, 952.9058116232466, 954.9098196392786, 956.9138276553106, 958.9178356713427, 960.9218436873748, 962.9258517034068, 964.9298597194388, 966.9338677354709, 968.937875751503, 970.941883767535, 972.945891783567, 974.9498997995993, 976.9539078156313, 978.9579158316633, 980.9619238476954, 982.9659318637275, 984.9699398797595, 986.9739478957915, 988.9779559118236, 990.9819639278558, 992.9859719438878, 994.9899799599198, 996.9939879759519, 998.997995991984, 1001.002004008016, 1003.0060120240481, 1005.0100200400802, 1007.0140280561122, 1009.0180360721442, 1011.0220440881764, 1013.0260521042084, 1015.0300601202405, 1017.0340681362726, 1019.0380761523046, 1021.0420841683367, 1023.0460921843687, 1025.0501002004007, 1027.0541082164327, 1029.058116232465, 1031.062124248497, 1033.0661322645292, 1035.0701402805612, 1037.0741482965932, 1039.0781563126252, 1041.0821643286572, 1043.0861723446894, 1045.0901803607214, 1047.0941883767537, 1049.0981963927857, 1051.1022044088177, 1053.1062124248497, 1055.1102204408817, 1057.1142284569137, 1059.118236472946, 1061.122244488978, 1063.1262525050101, 1065.1302605210421, 1067.1342685370741, 1069.1382765531062, 1071.1422845691382, 1073.1462925851704, 1075.1503006012024, 1077.1543086172346, 1079.1583166332666, 1081.1623246492986, 1083.1663326653306, 1085.1703406813626, 1087.1743486973946, 1089.1783567134269, 1091.1823647294589, 1093.186372745491, 1095.190380761523, 1097.194388777555, 1099.198396793587, 1101.202404809619, 1103.2064128256513, 1105.2104208416833, 1107.2144288577156, 1109.2184368737476, 1111.2224448897796, 1113.2264529058116, 1115.2304609218436, 1117.2344689378756, 1119.2384769539078, 1121.2424849699398, 1123.246492985972, 1125.250501002004, 1127.254509018036, 1129.258517034068, 1131.2625250501, 1133.2665330661323, 1135.2705410821643, 1137.2745490981965, 1139.2785571142285, 1141.2825651302605, 1143.2865731462925, 1145.2905811623245, 1147.2945891783565, 1149.2985971943888, 1151.302605210421, 1153.306613226453, 1155.310621242485, 1157.314629258517, 1159.318637274549, 1161.322645290581, 1163.3266533066133, 1165.3306613226453, 1167.3346693386775, 1169.3386773547095, 1171.3426853707415, 1173.3466933867735, 1175.3507014028055, 1177.3547094188377, 1179.3587174348697, 1181.362725450902, 1183.366733466934, 1185.370741482966, 1187.374749498998, 1189.37875751503, 1191.382765531062, 1193.3867735470942, 1195.3907815631262, 1197.3947895791584, 1199.3987975951904, 1201.4028056112224, 1203.4068136272545, 1205.4108216432865, 1207.4148296593187, 1209.4188376753507, 1211.422845691383, 1213.426853707415, 1215.430861723447, 1217.434869739479, 1219.438877755511, 1221.442885771543, 1223.4468937875752, 1225.4509018036072, 1227.4549098196394, 1229.4589178356714, 1231.4629258517034, 1233.4669338677354, 1235.4709418837674, 1237.4749498997996, 1239.4789579158316, 1241.4829659318639, 1243.4869739478959, 1245.4909819639279, 1247.4949899799599, 1249.4989979959919, 1251.503006012024, 1253.5070140280561, 1255.5110220440881, 1257.5150300601204, 1259.5190380761524, 1261.5230460921844, 1263.5270541082164, 1265.5310621242484, 1267.5350701402806, 1269.5390781563126, 1271.5430861723448, 1273.5470941883768, 1275.5511022044088, 1277.5551102204408, 1279.5591182364728, 1281.5631262525048, 1283.567134268537, 1285.5711422845693, 1287.5751503006013, 1289.5791583166333, 1291.5831663326653, 1293.5871743486973, 1295.5911823647293, 1297.5951903807616, 1299.5991983967936, 1301.6032064128258, 1303.6072144288578, 1305.6112224448898, 1307.6152304609218, 1309.6192384769538, 1311.623246492986, 1313.627254509018, 1315.6312625250503, 1317.6352705410823, 1319.6392785571143, 1321.6432865731463, 1323.6472945891783, 1325.6513026052103, 1327.6553106212425, 1329.6593186372745, 1331.6633266533067, 1333.6673346693387, 1335.6713426853707, 1337.6753507014027, 1339.6793587174348, 1341.683366733467, 1343.687374749499, 1345.6913827655312, 1347.6953907815632, 1349.6993987975952, 1351.7034068136272, 1353.7074148296592, 1355.7114228456912, 1357.7154308617235, 1359.7194388777555, 1361.7234468937877, 1363.7274549098197, 1365.7314629258517, 1367.7354709418837, 1369.7394789579157, 1371.743486973948, 1373.74749498998, 1375.7515030060122, 1377.7555110220442, 1379.7595190380762, 1381.7635270541082, 1383.7675350701402, 1385.7715430861722, 1387.7755511022044, 1389.7795591182364, 1391.7835671342687, 1393.7875751503007, 1395.7915831663327, 1397.7955911823647, 1399.7995991983967, 1401.803607214429, 1403.807615230461, 1405.8116232464931, 1407.8156312625251, 1409.8196392785571, 1411.8236472945891, 1413.8276553106211, 1415.8316633266531, 1417.8356713426854, 1419.8396793587176, 1421.8436873747496, 1423.8476953907816, 1425.8517034068136, 1427.8557114228456, 1429.8597194388776, 1431.8637274549098, 1433.8677354709419, 1435.871743486974, 1437.875751503006, 1439.879759519038, 1441.88376753507, 1443.887775551102, 1445.891783567134, 1447.8957915831663, 1449.8997995991986, 1451.9038076152306, 1453.9078156312626, 1455.9118236472946, 1457.9158316633266, 1459.9198396793586, 1461.9238476953908, 1463.9278557114228, 1465.931863727455, 1467.935871743487, 1469.939879759519, 1471.943887775551, 1473.947895791583, 1475.9519038076153, 1477.9559118236473, 1479.9599198396795, 1481.9639278557115, 1483.9679358717435, 1485.9719438877755, 1487.9759519038075, 1489.9799599198395, 1491.9839679358718, 1493.9879759519038, 1495.991983967936, 1497.995991983968, 1500.0])\n",
       "              .range([&#x27;#ffffffff&#x27;, &#x27;#ffffffff&#x27;, &#x27;#fefeffff&#x27;, &#x27;#fefeffff&#x27;, &#x27;#fdfdffff&#x27;, &#x27;#fdfdffff&#x27;, &#x27;#fcfcffff&#x27;, &#x27;#fcfcffff&#x27;, &#x27;#fbfbffff&#x27;, &#x27;#fbfbffff&#x27;, &#x27;#fafaffff&#x27;, &#x27;#fafaffff&#x27;, &#x27;#f9f9ffff&#x27;, &#x27;#f9f9ffff&#x27;, &#x27;#f8f8ffff&#x27;, &#x27;#f8f8ffff&#x27;, &#x27;#f7f7ffff&#x27;, &#x27;#f7f7ffff&#x27;, &#x27;#f6f6ffff&#x27;, &#x27;#f6f6ffff&#x27;, &#x27;#f5f5ffff&#x27;, &#x27;#f5f5ffff&#x27;, &#x27;#f4f4ffff&#x27;, &#x27;#f4f4ffff&#x27;, &#x27;#f3f3ffff&#x27;, &#x27;#f3f3ffff&#x27;, &#x27;#f2f2ffff&#x27;, &#x27;#f2f2ffff&#x27;, &#x27;#f1f1ffff&#x27;, &#x27;#f1f1ffff&#x27;, &#x27;#f0f0ffff&#x27;, &#x27;#f0f0ffff&#x27;, &#x27;#efefffff&#x27;, &#x27;#efefffff&#x27;, &#x27;#eeeeffff&#x27;, &#x27;#eeeeffff&#x27;, &#x27;#ededffff&#x27;, &#x27;#ededffff&#x27;, &#x27;#ececffff&#x27;, &#x27;#ebebffff&#x27;, &#x27;#ebebffff&#x27;, &#x27;#eaeaffff&#x27;, &#x27;#eaeaffff&#x27;, &#x27;#e9e9ffff&#x27;, &#x27;#e9e9ffff&#x27;, &#x27;#e8e8ffff&#x27;, &#x27;#e8e8ffff&#x27;, &#x27;#e7e7ffff&#x27;, &#x27;#e7e7ffff&#x27;, &#x27;#e6e6ffff&#x27;, &#x27;#e6e6ffff&#x27;, &#x27;#e5e5ffff&#x27;, &#x27;#e5e5ffff&#x27;, &#x27;#e4e4ffff&#x27;, &#x27;#e4e4ffff&#x27;, &#x27;#e3e3ffff&#x27;, &#x27;#e3e3ffff&#x27;, &#x27;#e2e2ffff&#x27;, &#x27;#e2e2ffff&#x27;, &#x27;#e1e1ffff&#x27;, &#x27;#e1e1ffff&#x27;, &#x27;#e0e0ffff&#x27;, &#x27;#e0e0ffff&#x27;, &#x27;#dfdfffff&#x27;, &#x27;#dfdfffff&#x27;, &#x27;#dedeffff&#x27;, &#x27;#dedeffff&#x27;, &#x27;#ddddffff&#x27;, &#x27;#ddddffff&#x27;, &#x27;#dcdcffff&#x27;, &#x27;#dcdcffff&#x27;, &#x27;#dbdbffff&#x27;, &#x27;#dbdbffff&#x27;, &#x27;#dadaffff&#x27;, &#x27;#dadaffff&#x27;, &#x27;#d9d9ffff&#x27;, &#x27;#d9d9ffff&#x27;, &#x27;#d8d8ffff&#x27;, &#x27;#d7d7ffff&#x27;, &#x27;#d7d7ffff&#x27;, &#x27;#d6d6ffff&#x27;, &#x27;#d6d6ffff&#x27;, &#x27;#d5d5ffff&#x27;, &#x27;#d5d5ffff&#x27;, &#x27;#d4d4ffff&#x27;, &#x27;#d4d4ffff&#x27;, &#x27;#d3d3ffff&#x27;, &#x27;#d3d3ffff&#x27;, &#x27;#d2d2ffff&#x27;, &#x27;#d2d2ffff&#x27;, &#x27;#d1d1ffff&#x27;, &#x27;#d1d1ffff&#x27;, &#x27;#d0d0ffff&#x27;, &#x27;#d0d0ffff&#x27;, &#x27;#cfcfffff&#x27;, &#x27;#cfcfffff&#x27;, &#x27;#ceceffff&#x27;, &#x27;#ceceffff&#x27;, &#x27;#cdcdffff&#x27;, &#x27;#cdcdffff&#x27;, &#x27;#ccccffff&#x27;, &#x27;#ccccffff&#x27;, &#x27;#cbcbffff&#x27;, &#x27;#cbcbffff&#x27;, &#x27;#cacaffff&#x27;, &#x27;#cacaffff&#x27;, &#x27;#c9c9ffff&#x27;, &#x27;#c9c9ffff&#x27;, &#x27;#c8c8ffff&#x27;, &#x27;#c8c8ffff&#x27;, &#x27;#c7c7ffff&#x27;, &#x27;#c7c7ffff&#x27;, &#x27;#c6c6ffff&#x27;, &#x27;#c6c6ffff&#x27;, &#x27;#c5c5ffff&#x27;, &#x27;#c5c5ffff&#x27;, &#x27;#c4c4ffff&#x27;, &#x27;#c3c3ffff&#x27;, &#x27;#c3c3ffff&#x27;, &#x27;#c2c2ffff&#x27;, &#x27;#c2c2ffff&#x27;, &#x27;#c1c1ffff&#x27;, &#x27;#c1c1ffff&#x27;, &#x27;#c0c0ffff&#x27;, &#x27;#c0c0ffff&#x27;, &#x27;#bfbfffff&#x27;, &#x27;#bfbfffff&#x27;, &#x27;#bebeffff&#x27;, &#x27;#bebeffff&#x27;, &#x27;#bdbdffff&#x27;, &#x27;#bdbdffff&#x27;, &#x27;#bcbcffff&#x27;, &#x27;#bcbcffff&#x27;, &#x27;#bbbbffff&#x27;, &#x27;#bbbbffff&#x27;, &#x27;#babaffff&#x27;, &#x27;#babaffff&#x27;, &#x27;#b9b9ffff&#x27;, &#x27;#b9b9ffff&#x27;, &#x27;#b8b8ffff&#x27;, &#x27;#b8b8ffff&#x27;, &#x27;#b7b7ffff&#x27;, &#x27;#b7b7ffff&#x27;, &#x27;#b6b6ffff&#x27;, &#x27;#b6b6ffff&#x27;, &#x27;#b5b5ffff&#x27;, &#x27;#b5b5ffff&#x27;, &#x27;#b4b4ffff&#x27;, &#x27;#b4b4ffff&#x27;, &#x27;#b3b3ffff&#x27;, &#x27;#b3b3ffff&#x27;, &#x27;#b2b2ffff&#x27;, &#x27;#b2b2ffff&#x27;, &#x27;#b1b1ffff&#x27;, &#x27;#b0b0ffff&#x27;, &#x27;#b0b0ffff&#x27;, &#x27;#afafffff&#x27;, &#x27;#afafffff&#x27;, &#x27;#aeaeffff&#x27;, &#x27;#aeaeffff&#x27;, &#x27;#adadffff&#x27;, &#x27;#adadffff&#x27;, &#x27;#acacffff&#x27;, &#x27;#acacffff&#x27;, &#x27;#ababffff&#x27;, &#x27;#ababffff&#x27;, &#x27;#aaaaffff&#x27;, &#x27;#aaaaffff&#x27;, &#x27;#a9a9ffff&#x27;, &#x27;#a9a9ffff&#x27;, &#x27;#a8a8ffff&#x27;, &#x27;#a8a8ffff&#x27;, &#x27;#a7a7ffff&#x27;, &#x27;#a7a7ffff&#x27;, &#x27;#a6a6ffff&#x27;, &#x27;#a6a6ffff&#x27;, &#x27;#a5a5ffff&#x27;, &#x27;#a5a5ffff&#x27;, &#x27;#a4a4ffff&#x27;, &#x27;#a4a4ffff&#x27;, &#x27;#a3a3ffff&#x27;, &#x27;#a3a3ffff&#x27;, &#x27;#a2a2ffff&#x27;, &#x27;#a2a2ffff&#x27;, &#x27;#a1a1ffff&#x27;, &#x27;#a1a1ffff&#x27;, &#x27;#a0a0ffff&#x27;, &#x27;#a0a0ffff&#x27;, &#x27;#9f9fffff&#x27;, &#x27;#9f9fffff&#x27;, &#x27;#9e9effff&#x27;, &#x27;#9e9effff&#x27;, &#x27;#9d9dffff&#x27;, &#x27;#9c9cffff&#x27;, &#x27;#9c9cffff&#x27;, &#x27;#9b9bffff&#x27;, &#x27;#9b9bffff&#x27;, &#x27;#9a9affff&#x27;, &#x27;#9a9affff&#x27;, &#x27;#9999ffff&#x27;, &#x27;#9999ffff&#x27;, &#x27;#9898ffff&#x27;, &#x27;#9898ffff&#x27;, &#x27;#9797ffff&#x27;, &#x27;#9797ffff&#x27;, &#x27;#9696ffff&#x27;, &#x27;#9696ffff&#x27;, &#x27;#9595ffff&#x27;, &#x27;#9595ffff&#x27;, &#x27;#9494ffff&#x27;, &#x27;#9494ffff&#x27;, &#x27;#9393ffff&#x27;, &#x27;#9393ffff&#x27;, &#x27;#9292ffff&#x27;, &#x27;#9292ffff&#x27;, &#x27;#9191ffff&#x27;, &#x27;#9191ffff&#x27;, &#x27;#9090ffff&#x27;, &#x27;#9090ffff&#x27;, &#x27;#8f8fffff&#x27;, &#x27;#8f8fffff&#x27;, &#x27;#8e8effff&#x27;, &#x27;#8e8effff&#x27;, &#x27;#8d8dffff&#x27;, &#x27;#8d8dffff&#x27;, &#x27;#8c8cffff&#x27;, &#x27;#8c8cffff&#x27;, &#x27;#8b8bffff&#x27;, &#x27;#8b8bffff&#x27;, &#x27;#8a8affff&#x27;, &#x27;#8a8affff&#x27;, &#x27;#8989ffff&#x27;, &#x27;#8888ffff&#x27;, &#x27;#8888ffff&#x27;, &#x27;#8787ffff&#x27;, &#x27;#8787ffff&#x27;, &#x27;#8686ffff&#x27;, &#x27;#8686ffff&#x27;, &#x27;#8585ffff&#x27;, &#x27;#8585ffff&#x27;, &#x27;#8484ffff&#x27;, &#x27;#8484ffff&#x27;, &#x27;#8383ffff&#x27;, &#x27;#8383ffff&#x27;, &#x27;#8282ffff&#x27;, &#x27;#8282ffff&#x27;, &#x27;#8181ffff&#x27;, &#x27;#8181ffff&#x27;, &#x27;#8080ffff&#x27;, &#x27;#8080ffff&#x27;, &#x27;#7f7fffff&#x27;, &#x27;#7f7fffff&#x27;, &#x27;#7e7effff&#x27;, &#x27;#7e7effff&#x27;, &#x27;#7d7dffff&#x27;, &#x27;#7d7dffff&#x27;, &#x27;#7c7cffff&#x27;, &#x27;#7c7cffff&#x27;, &#x27;#7b7bffff&#x27;, &#x27;#7b7bffff&#x27;, &#x27;#7a7affff&#x27;, &#x27;#7a7affff&#x27;, &#x27;#7979ffff&#x27;, &#x27;#7979ffff&#x27;, &#x27;#7878ffff&#x27;, &#x27;#7878ffff&#x27;, &#x27;#7777ffff&#x27;, &#x27;#7777ffff&#x27;, &#x27;#7676ffff&#x27;, &#x27;#7575ffff&#x27;, &#x27;#7575ffff&#x27;, &#x27;#7474ffff&#x27;, &#x27;#7474ffff&#x27;, &#x27;#7373ffff&#x27;, &#x27;#7373ffff&#x27;, &#x27;#7272ffff&#x27;, &#x27;#7272ffff&#x27;, &#x27;#7171ffff&#x27;, &#x27;#7171ffff&#x27;, &#x27;#7070ffff&#x27;, &#x27;#7070ffff&#x27;, &#x27;#6f6fffff&#x27;, &#x27;#6f6fffff&#x27;, &#x27;#6e6effff&#x27;, &#x27;#6e6effff&#x27;, &#x27;#6d6dffff&#x27;, &#x27;#6d6dffff&#x27;, &#x27;#6c6cffff&#x27;, &#x27;#6c6cffff&#x27;, &#x27;#6b6bffff&#x27;, &#x27;#6b6bffff&#x27;, &#x27;#6a6affff&#x27;, &#x27;#6a6affff&#x27;, &#x27;#6969ffff&#x27;, &#x27;#6969ffff&#x27;, &#x27;#6868ffff&#x27;, &#x27;#6868ffff&#x27;, &#x27;#6767ffff&#x27;, &#x27;#6767ffff&#x27;, &#x27;#6666ffff&#x27;, &#x27;#6666ffff&#x27;, &#x27;#6565ffff&#x27;, &#x27;#6565ffff&#x27;, &#x27;#6464ffff&#x27;, &#x27;#6464ffff&#x27;, &#x27;#6363ffff&#x27;, &#x27;#6363ffff&#x27;, &#x27;#6262ffff&#x27;, &#x27;#6161ffff&#x27;, &#x27;#6161ffff&#x27;, &#x27;#6060ffff&#x27;, &#x27;#6060ffff&#x27;, &#x27;#5f5fffff&#x27;, &#x27;#5f5fffff&#x27;, &#x27;#5e5effff&#x27;, &#x27;#5e5effff&#x27;, &#x27;#5d5dffff&#x27;, &#x27;#5d5dffff&#x27;, &#x27;#5c5cffff&#x27;, &#x27;#5c5cffff&#x27;, &#x27;#5b5bffff&#x27;, &#x27;#5b5bffff&#x27;, &#x27;#5a5affff&#x27;, &#x27;#5a5affff&#x27;, &#x27;#5959ffff&#x27;, &#x27;#5959ffff&#x27;, &#x27;#5858ffff&#x27;, &#x27;#5858ffff&#x27;, &#x27;#5757ffff&#x27;, &#x27;#5757ffff&#x27;, &#x27;#5656ffff&#x27;, &#x27;#5656ffff&#x27;, &#x27;#5555ffff&#x27;, &#x27;#5555ffff&#x27;, &#x27;#5454ffff&#x27;, &#x27;#5454ffff&#x27;, &#x27;#5353ffff&#x27;, &#x27;#5353ffff&#x27;, &#x27;#5252ffff&#x27;, &#x27;#5252ffff&#x27;, &#x27;#5151ffff&#x27;, &#x27;#5151ffff&#x27;, &#x27;#5050ffff&#x27;, &#x27;#5050ffff&#x27;, &#x27;#4f4fffff&#x27;, &#x27;#4f4fffff&#x27;, &#x27;#4e4effff&#x27;, &#x27;#4d4dffff&#x27;, &#x27;#4d4dffff&#x27;, &#x27;#4c4cffff&#x27;, &#x27;#4c4cffff&#x27;, &#x27;#4b4bffff&#x27;, &#x27;#4b4bffff&#x27;, &#x27;#4a4affff&#x27;, &#x27;#4a4affff&#x27;, &#x27;#4949ffff&#x27;, &#x27;#4949ffff&#x27;, &#x27;#4848ffff&#x27;, &#x27;#4848ffff&#x27;, &#x27;#4747ffff&#x27;, &#x27;#4747ffff&#x27;, &#x27;#4646ffff&#x27;, &#x27;#4646ffff&#x27;, &#x27;#4545ffff&#x27;, &#x27;#4545ffff&#x27;, &#x27;#4444ffff&#x27;, &#x27;#4444ffff&#x27;, &#x27;#4343ffff&#x27;, &#x27;#4343ffff&#x27;, &#x27;#4242ffff&#x27;, &#x27;#4242ffff&#x27;, &#x27;#4141ffff&#x27;, &#x27;#4141ffff&#x27;, &#x27;#4040ffff&#x27;, &#x27;#4040ffff&#x27;, &#x27;#3f3fffff&#x27;, &#x27;#3f3fffff&#x27;, &#x27;#3e3effff&#x27;, &#x27;#3e3effff&#x27;, &#x27;#3d3dffff&#x27;, &#x27;#3d3dffff&#x27;, &#x27;#3c3cffff&#x27;, &#x27;#3c3cffff&#x27;, &#x27;#3b3bffff&#x27;, &#x27;#3a3affff&#x27;, &#x27;#3a3affff&#x27;, &#x27;#3939ffff&#x27;, &#x27;#3939ffff&#x27;, &#x27;#3838ffff&#x27;, &#x27;#3838ffff&#x27;, &#x27;#3737ffff&#x27;, &#x27;#3737ffff&#x27;, &#x27;#3636ffff&#x27;, &#x27;#3636ffff&#x27;, &#x27;#3535ffff&#x27;, &#x27;#3535ffff&#x27;, &#x27;#3434ffff&#x27;, &#x27;#3434ffff&#x27;, &#x27;#3333ffff&#x27;, &#x27;#3333ffff&#x27;, &#x27;#3232ffff&#x27;, &#x27;#3232ffff&#x27;, &#x27;#3131ffff&#x27;, &#x27;#3131ffff&#x27;, &#x27;#3030ffff&#x27;, &#x27;#3030ffff&#x27;, &#x27;#2f2fffff&#x27;, &#x27;#2f2fffff&#x27;, &#x27;#2e2effff&#x27;, &#x27;#2e2effff&#x27;, &#x27;#2d2dffff&#x27;, &#x27;#2d2dffff&#x27;, &#x27;#2c2cffff&#x27;, &#x27;#2c2cffff&#x27;, &#x27;#2b2bffff&#x27;, &#x27;#2b2bffff&#x27;, &#x27;#2a2affff&#x27;, &#x27;#2a2affff&#x27;, &#x27;#2929ffff&#x27;, &#x27;#2929ffff&#x27;, &#x27;#2828ffff&#x27;, &#x27;#2828ffff&#x27;, &#x27;#2727ffff&#x27;, &#x27;#2626ffff&#x27;, &#x27;#2626ffff&#x27;, &#x27;#2525ffff&#x27;, &#x27;#2525ffff&#x27;, &#x27;#2424ffff&#x27;, &#x27;#2424ffff&#x27;, &#x27;#2323ffff&#x27;, &#x27;#2323ffff&#x27;, &#x27;#2222ffff&#x27;, &#x27;#2222ffff&#x27;, &#x27;#2121ffff&#x27;, &#x27;#2121ffff&#x27;, &#x27;#2020ffff&#x27;, &#x27;#2020ffff&#x27;, &#x27;#1f1fffff&#x27;, &#x27;#1f1fffff&#x27;, &#x27;#1e1effff&#x27;, &#x27;#1e1effff&#x27;, &#x27;#1d1dffff&#x27;, &#x27;#1d1dffff&#x27;, &#x27;#1c1cffff&#x27;, &#x27;#1c1cffff&#x27;, &#x27;#1b1bffff&#x27;, &#x27;#1b1bffff&#x27;, &#x27;#1a1affff&#x27;, &#x27;#1a1affff&#x27;, &#x27;#1919ffff&#x27;, &#x27;#1919ffff&#x27;, &#x27;#1818ffff&#x27;, &#x27;#1818ffff&#x27;, &#x27;#1717ffff&#x27;, &#x27;#1717ffff&#x27;, &#x27;#1616ffff&#x27;, &#x27;#1616ffff&#x27;, &#x27;#1515ffff&#x27;, &#x27;#1515ffff&#x27;, &#x27;#1414ffff&#x27;, &#x27;#1414ffff&#x27;, &#x27;#1313ffff&#x27;, &#x27;#1212ffff&#x27;, &#x27;#1212ffff&#x27;, &#x27;#1111ffff&#x27;, &#x27;#1111ffff&#x27;, &#x27;#1010ffff&#x27;, &#x27;#1010ffff&#x27;, &#x27;#0f0fffff&#x27;, &#x27;#0f0fffff&#x27;, &#x27;#0e0effff&#x27;, &#x27;#0e0effff&#x27;, &#x27;#0d0dffff&#x27;, &#x27;#0d0dffff&#x27;, &#x27;#0c0cffff&#x27;, &#x27;#0c0cffff&#x27;, &#x27;#0b0bffff&#x27;, &#x27;#0b0bffff&#x27;, &#x27;#0a0affff&#x27;, &#x27;#0a0affff&#x27;, &#x27;#0909ffff&#x27;, &#x27;#0909ffff&#x27;, &#x27;#0808ffff&#x27;, &#x27;#0808ffff&#x27;, &#x27;#0707ffff&#x27;, &#x27;#0707ffff&#x27;, &#x27;#0606ffff&#x27;, &#x27;#0606ffff&#x27;, &#x27;#0505ffff&#x27;, &#x27;#0505ffff&#x27;, &#x27;#0404ffff&#x27;, &#x27;#0404ffff&#x27;, &#x27;#0303ffff&#x27;, &#x27;#0303ffff&#x27;, &#x27;#0202ffff&#x27;, &#x27;#0202ffff&#x27;, &#x27;#0101ffff&#x27;, &#x27;#0101ffff&#x27;, &#x27;#0000ffff&#x27;, &#x27;#0000ffff&#x27;]);\n",
       "    \n",
       "\n",
       "    color_map_3b81155bfd723e5f7e2fed003c17573a.x = d3.scale.linear()\n",
       "              .domain([500.0, 1500.0])\n",
       "              .range([0, 450 - 50]);\n",
       "\n",
       "    color_map_3b81155bfd723e5f7e2fed003c17573a.legend = L.control({position: &#x27;topright&#x27;});\n",
       "    color_map_3b81155bfd723e5f7e2fed003c17573a.legend.onAdd = function (map) {var div = L.DomUtil.create(&#x27;div&#x27;, &#x27;legend&#x27;); return div};\n",
       "    color_map_3b81155bfd723e5f7e2fed003c17573a.legend.addTo(map_141300bacdb9661aef79c07f418a7913);\n",
       "\n",
       "    color_map_3b81155bfd723e5f7e2fed003c17573a.xAxis = d3.svg.axis()\n",
       "        .scale(color_map_3b81155bfd723e5f7e2fed003c17573a.x)\n",
       "        .orient(&quot;top&quot;)\n",
       "        .tickSize(1)\n",
       "        .tickValues([500.0, 1500.0]);\n",
       "\n",
       "    color_map_3b81155bfd723e5f7e2fed003c17573a.svg = d3.select(&quot;.legend.leaflet-control&quot;).append(&quot;svg&quot;)\n",
       "        .attr(&quot;id&quot;, &#x27;legend&#x27;)\n",
       "        .attr(&quot;width&quot;, 450)\n",
       "        .attr(&quot;height&quot;, 40);\n",
       "\n",
       "    color_map_3b81155bfd723e5f7e2fed003c17573a.g = color_map_3b81155bfd723e5f7e2fed003c17573a.svg.append(&quot;g&quot;)\n",
       "        .attr(&quot;class&quot;, &quot;key&quot;)\n",
       "        .attr(&quot;transform&quot;, &quot;translate(25,16)&quot;);\n",
       "\n",
       "    color_map_3b81155bfd723e5f7e2fed003c17573a.g.selectAll(&quot;rect&quot;)\n",
       "        .data(color_map_3b81155bfd723e5f7e2fed003c17573a.color.range().map(function(d, i) {\n",
       "          return {\n",
       "            x0: i ? color_map_3b81155bfd723e5f7e2fed003c17573a.x(color_map_3b81155bfd723e5f7e2fed003c17573a.color.domain()[i - 1]) : color_map_3b81155bfd723e5f7e2fed003c17573a.x.range()[0],\n",
       "            x1: i &lt; color_map_3b81155bfd723e5f7e2fed003c17573a.color.domain().length ? color_map_3b81155bfd723e5f7e2fed003c17573a.x(color_map_3b81155bfd723e5f7e2fed003c17573a.color.domain()[i]) : color_map_3b81155bfd723e5f7e2fed003c17573a.x.range()[1],\n",
       "            z: d\n",
       "          };\n",
       "        }))\n",
       "      .enter().append(&quot;rect&quot;)\n",
       "        .attr(&quot;height&quot;, 40 - 30)\n",
       "        .attr(&quot;x&quot;, function(d) { return d.x0; })\n",
       "        .attr(&quot;width&quot;, function(d) { return d.x1 - d.x0; })\n",
       "        .style(&quot;fill&quot;, function(d) { return d.z; });\n",
       "\n",
       "    color_map_3b81155bfd723e5f7e2fed003c17573a.g.call(color_map_3b81155bfd723e5f7e2fed003c17573a.xAxis).append(&quot;text&quot;)\n",
       "        .attr(&quot;class&quot;, &quot;caption&quot;)\n",
       "        .attr(&quot;y&quot;, 21)\n",
       "        .text(&quot;Average annual precipitation rate (mm/year)&quot;);\n",
       "    \n",
       "            var layer_control_ca6bf16a567deff1984af5b1665f7515_layers = {\n",
       "                base_layers : {\n",
       "                    &quot;openstreetmap&quot; : tile_layer_385fc5a91cd0f896589a86be0e3ab4bb,\n",
       "                },\n",
       "                overlays :  {\n",
       "                    &quot;Precipitation&quot; : tile_layer_74e848ea4e8cd8510128c9c89e9ff650,\n",
       "                    &quot;Recharge&quot; : tile_layer_b2bd211fb9e83747121a1bf27bac7cba,\n",
       "                },\n",
       "            };\n",
       "            let layer_control_ca6bf16a567deff1984af5b1665f7515 = L.control.layers(\n",
       "                layer_control_ca6bf16a567deff1984af5b1665f7515_layers.base_layers,\n",
       "                layer_control_ca6bf16a567deff1984af5b1665f7515_layers.overlays,\n",
       "                {&quot;autoZIndex&quot;: true, &quot;collapsed&quot;: true, &quot;position&quot;: &quot;topright&quot;}\n",
       "            ).addTo(map_141300bacdb9661aef79c07f418a7913);\n",
       "\n",
       "        \n",
       "&lt;/script&gt;\n",
       "&lt;/html&gt;\" style=\"position:absolute;width:100%;height:100%;left:0;top:0;border:none !important;\" allowfullscreen webkitallowfullscreen mozallowfullscreen></iframe></div></div>"
      ],
      "text/plain": [
       "<folium.folium.Map at 0x17b47254130>"
      ]
     },
     "metadata": {},
     "output_type": "display_data"
    }
   ],
   "source": [
    "# folium 지도 생성\n",
    "my_map = folium.Map(location=location, zoom_start=6, zoom_control=False)\n",
    "\n",
    "# 지하수 재충전률 시각화 파라미터 설정\n",
    "rech_vis_params = {\n",
    "    \"bands\": \"rech\",\n",
    "    \"min\": 0,\n",
    "    \"max\": 500,\n",
    "    \"opacity\": 1,\n",
    "    \"palette\": [\"red\", \"orange\", \"yellow\", \"green\", \"blue\", \"purple\"],\n",
    "}\n",
    "\n",
    "# 강수량 시각화 파라미터 설정\n",
    "pr_vis_params = {\n",
    "    \"bands\": \"pr\",\n",
    "    \"min\": 500,\n",
    "    \"max\": 1500,\n",
    "    \"opacity\": 1,\n",
    "    \"palette\": [\"white\", \"blue\"],\n",
    "}\n",
    "\n",
    "# 지하수 재충전률 컬러맵 정의\n",
    "rech_colormap = cm.LinearColormap(\n",
    "    colors=rech_vis_params[\"palette\"],\n",
    "    caption=\"Average annual recharge rate (mm/year)\",\n",
    "    vmin=rech_vis_params[\"min\"],\n",
    "    vmax=rech_vis_params[\"max\"],\n",
    ")\n",
    "\n",
    "# 강수량 컬러맵 정의\n",
    "pr_colormap = cm.LinearColormap(\n",
    "    colors=pr_vis_params[\"palette\"],\n",
    "    caption= \"Average annual precipitation rate (mm/year)\",\n",
    "    vmin=pr_vis_params[\"min\"],\n",
    "    vmax=pr_vis_params[\"max\"],\n",
    ")\n",
    "\n",
    "# 강수량 컴포지트를 지도 객체에 추가\n",
    "my_map.add_ee_layer(pr_korea, pr_vis_params, \"Precipitation\")\n",
    "\n",
    "# 지하수 재충전률 컴포지트를 지도 객체에 추가\n",
    "my_map.add_ee_layer(rech_korea, rech_vis_params, \"Recharge\")\n",
    "\n",
    "# 컬러맵을 지도에 추가\n",
    "my_map.add_child(rech_colormap)\n",
    "my_map.add_child(pr_colormap)\n",
    "\n",
    "# 지도에 레이어 컨트롤 패널 추가\n",
    "my_map.add_child(folium.LayerControl())\n",
    "\n",
    "# 지도 표시\n",
    "display(my_map)"
   ]
  },
  {
   "cell_type": "markdown",
   "metadata": {},
   "source": [
    "지하수 재충전량은 강수로부터 지하수 표면에 도달하는 물의 양을 의미한다.\n",
    "- 빨간 계열 즉, 밝은 색은 낮은 강수량과 낮은 재충전량을\n",
    "\n",
    "  파란 계열 즉, 어두운 색은 높은 강수량 또는 높은 재충전량을 의미"
   ]
  },
  {
   "cell_type": "code",
   "execution_count": 32,
   "metadata": {},
   "outputs": [
    {
     "data": {
      "text/html": [
       "\n",
       "            <style>\n",
       "                .geemap-dark {\n",
       "                    --jp-widgets-color: white;\n",
       "                    --jp-widgets-label-color: white;\n",
       "                    --jp-ui-font-color1: white;\n",
       "                    --jp-layout-color2: #454545;\n",
       "                    background-color: #383838;\n",
       "                }\n",
       "                    \n",
       "                .geemap-dark .jupyter-button {\n",
       "                    --jp-layout-color3: #383838;\n",
       "                }\n",
       "                \n",
       "                .geemap-colab {\n",
       "                    background-color: var(--colab-primary-surface-color, white);\n",
       "                }\n",
       "                    \n",
       "                .geemap-colab .jupyter-button {\n",
       "                    --jp-layout-color3: var(--colab-primary-surface-color, white);\n",
       "                }\n",
       "            </style>\n",
       "            "
      ],
      "text/plain": [
       "<IPython.core.display.HTML object>"
      ]
     },
     "metadata": {},
     "output_type": "display_data"
    }
   ],
   "source": [
    "# 한국 내 관심 지역 좌표 삽입\n",
    "lon = 127.26520600000002\n",
    "lat = 36.345211\n",
    "poi = ee.Geometry.Point(lon, lat)\n",
    "\n",
    "# 분석에 사용할 투영의 명목상의 해상도 [단위: 미터].\n",
    "scale = 1000"
   ]
  },
  {
   "cell_type": "code",
   "execution_count": 33,
   "metadata": {},
   "outputs": [
    {
     "data": {
      "text/html": [
       "\n",
       "            <style>\n",
       "                .geemap-dark {\n",
       "                    --jp-widgets-color: white;\n",
       "                    --jp-widgets-label-color: white;\n",
       "                    --jp-ui-font-color1: white;\n",
       "                    --jp-layout-color2: #454545;\n",
       "                    background-color: #383838;\n",
       "                }\n",
       "                    \n",
       "                .geemap-dark .jupyter-button {\n",
       "                    --jp-layout-color3: #383838;\n",
       "                }\n",
       "                \n",
       "                .geemap-colab {\n",
       "                    background-color: var(--colab-primary-surface-color, white);\n",
       "                }\n",
       "                    \n",
       "                .geemap-colab .jupyter-button {\n",
       "                    --jp-layout-color3: var(--colab-primary-surface-color, white);\n",
       "                }\n",
       "            </style>\n",
       "            "
      ],
      "text/plain": [
       "<IPython.core.display.HTML object>"
      ]
     },
     "metadata": {},
     "output_type": "display_data"
    },
    {
     "data": {
      "text/html": [
       "<div style=\"width:100%;\"><div style=\"position:relative;width:100%;height:0;padding-bottom:60%;\"><span style=\"color:#565656\">Make this Notebook Trusted to load map: File -> Trust Notebook</span><iframe srcdoc=\"&lt;!DOCTYPE html&gt;\n",
       "&lt;html&gt;\n",
       "&lt;head&gt;\n",
       "    \n",
       "    &lt;meta http-equiv=&quot;content-type&quot; content=&quot;text/html; charset=UTF-8&quot; /&gt;\n",
       "    \n",
       "        &lt;script&gt;\n",
       "            L_NO_TOUCH = false;\n",
       "            L_DISABLE_3D = false;\n",
       "        &lt;/script&gt;\n",
       "    \n",
       "    &lt;style&gt;html, body {width: 100%;height: 100%;margin: 0;padding: 0;}&lt;/style&gt;\n",
       "    &lt;style&gt;#map {position:absolute;top:0;bottom:0;right:0;left:0;}&lt;/style&gt;\n",
       "    &lt;script src=&quot;https://cdn.jsdelivr.net/npm/leaflet@1.9.3/dist/leaflet.js&quot;&gt;&lt;/script&gt;\n",
       "    &lt;script src=&quot;https://code.jquery.com/jquery-3.7.1.min.js&quot;&gt;&lt;/script&gt;\n",
       "    &lt;script src=&quot;https://cdn.jsdelivr.net/npm/bootstrap@5.2.2/dist/js/bootstrap.bundle.min.js&quot;&gt;&lt;/script&gt;\n",
       "    &lt;script src=&quot;https://cdnjs.cloudflare.com/ajax/libs/Leaflet.awesome-markers/2.0.2/leaflet.awesome-markers.js&quot;&gt;&lt;/script&gt;\n",
       "    &lt;link rel=&quot;stylesheet&quot; href=&quot;https://cdn.jsdelivr.net/npm/leaflet@1.9.3/dist/leaflet.css&quot;/&gt;\n",
       "    &lt;link rel=&quot;stylesheet&quot; href=&quot;https://cdn.jsdelivr.net/npm/bootstrap@5.2.2/dist/css/bootstrap.min.css&quot;/&gt;\n",
       "    &lt;link rel=&quot;stylesheet&quot; href=&quot;https://netdna.bootstrapcdn.com/bootstrap/3.0.0/css/bootstrap.min.css&quot;/&gt;\n",
       "    &lt;link rel=&quot;stylesheet&quot; href=&quot;https://cdn.jsdelivr.net/npm/@fortawesome/fontawesome-free@6.2.0/css/all.min.css&quot;/&gt;\n",
       "    &lt;link rel=&quot;stylesheet&quot; href=&quot;https://cdnjs.cloudflare.com/ajax/libs/Leaflet.awesome-markers/2.0.2/leaflet.awesome-markers.css&quot;/&gt;\n",
       "    &lt;link rel=&quot;stylesheet&quot; href=&quot;https://cdn.jsdelivr.net/gh/python-visualization/folium/folium/templates/leaflet.awesome.rotate.min.css&quot;/&gt;\n",
       "    \n",
       "            &lt;meta name=&quot;viewport&quot; content=&quot;width=device-width,\n",
       "                initial-scale=1.0, maximum-scale=1.0, user-scalable=no&quot; /&gt;\n",
       "            &lt;style&gt;\n",
       "                #map_e8db206c396fd1012faeade7641b3a0c {\n",
       "                    position: relative;\n",
       "                    width: 100.0%;\n",
       "                    height: 100.0%;\n",
       "                    left: 0.0%;\n",
       "                    top: 0.0%;\n",
       "                }\n",
       "                .leaflet-container { font-size: 1rem; }\n",
       "            &lt;/style&gt;\n",
       "        \n",
       "&lt;/head&gt;\n",
       "&lt;body&gt;\n",
       "    \n",
       "    \n",
       "            &lt;div class=&quot;folium-map&quot; id=&quot;map_e8db206c396fd1012faeade7641b3a0c&quot; &gt;&lt;/div&gt;\n",
       "        \n",
       "&lt;/body&gt;\n",
       "&lt;script&gt;\n",
       "    \n",
       "    \n",
       "            var map_e8db206c396fd1012faeade7641b3a0c = L.map(\n",
       "                &quot;map_e8db206c396fd1012faeade7641b3a0c&quot;,\n",
       "                {\n",
       "                    center: [36.345211, 127.26520600000002],\n",
       "                    crs: L.CRS.EPSG3857,\n",
       "                    zoom: 8,\n",
       "                    zoomControl: true,\n",
       "                    preferCanvas: false,\n",
       "                }\n",
       "            );\n",
       "\n",
       "            \n",
       "\n",
       "        \n",
       "    \n",
       "            var tile_layer_78d12ae72941fe64e7998aca08317eac = L.tileLayer(\n",
       "                &quot;https://{s}.tile.openstreetmap.org/{z}/{x}/{y}.png&quot;,\n",
       "                {&quot;attribution&quot;: &quot;Data by \\u0026copy; \\u003ca target=\\&quot;_blank\\&quot; href=\\&quot;http://openstreetmap.org\\&quot;\\u003eOpenStreetMap\\u003c/a\\u003e, under \\u003ca target=\\&quot;_blank\\&quot; href=\\&quot;http://www.openstreetmap.org/copyright\\&quot;\\u003eODbL\\u003c/a\\u003e.&quot;, &quot;detectRetina&quot;: false, &quot;maxNativeZoom&quot;: 18, &quot;maxZoom&quot;: 18, &quot;minZoom&quot;: 0, &quot;noWrap&quot;: false, &quot;opacity&quot;: 1, &quot;subdomains&quot;: &quot;abc&quot;, &quot;tms&quot;: false}\n",
       "            );\n",
       "        \n",
       "    \n",
       "                tile_layer_78d12ae72941fe64e7998aca08317eac.addTo(map_e8db206c396fd1012faeade7641b3a0c);\n",
       "    \n",
       "            var tile_layer_2ee35f5e85c6104a4072e0457c7f4053 = L.tileLayer(\n",
       "                &quot;https://earthengine.googleapis.com/v1/projects/earthengine-legacy/maps/eecc4f33b92d933bc0abd78aed71dbf8-ddb90c4e3b2bbb132968e56aefb82b0d/tiles/{z}/{x}/{y}&quot;,\n",
       "                {&quot;attribution&quot;: &quot;Map Data \\u0026copy; \\u003ca href=\\u0027https://earthengine.google.com/\\u0027\\u003eGoogle Earth Engine\\u003c/a\\u003e&quot;, &quot;detectRetina&quot;: false, &quot;maxNativeZoom&quot;: 18, &quot;maxZoom&quot;: 18, &quot;minZoom&quot;: 0, &quot;noWrap&quot;: false, &quot;opacity&quot;: 1, &quot;subdomains&quot;: &quot;abc&quot;, &quot;tms&quot;: false}\n",
       "            );\n",
       "        \n",
       "    \n",
       "                tile_layer_2ee35f5e85c6104a4072e0457c7f4053.addTo(map_e8db206c396fd1012faeade7641b3a0c);\n",
       "    \n",
       "            var tile_layer_e842c841a600bc534bd5c07e5e505718 = L.tileLayer(\n",
       "                &quot;https://earthengine.googleapis.com/v1/projects/earthengine-legacy/maps/3531a38ecf4341d7d6cca41dcc03ebd3-685874c40ded71f5d04036d85470de2e/tiles/{z}/{x}/{y}&quot;,\n",
       "                {&quot;attribution&quot;: &quot;Map Data \\u0026copy; \\u003ca href=\\u0027https://earthengine.google.com/\\u0027\\u003eGoogle Earth Engine\\u003c/a\\u003e&quot;, &quot;detectRetina&quot;: false, &quot;maxNativeZoom&quot;: 18, &quot;maxZoom&quot;: 18, &quot;minZoom&quot;: 0, &quot;noWrap&quot;: false, &quot;opacity&quot;: 1, &quot;subdomains&quot;: &quot;abc&quot;, &quot;tms&quot;: false}\n",
       "            );\n",
       "        \n",
       "    \n",
       "                tile_layer_e842c841a600bc534bd5c07e5e505718.addTo(map_e8db206c396fd1012faeade7641b3a0c);\n",
       "    \n",
       "            var tile_layer_b2082aab81c2001959a7ab01c3603f81 = L.tileLayer(\n",
       "                &quot;https://earthengine.googleapis.com/v1/projects/earthengine-legacy/maps/e2ee4e7ab67de972ef90d7bdad6db9bc-33d923097ac411a0cf25586b3755b3c9/tiles/{z}/{x}/{y}&quot;,\n",
       "                {&quot;attribution&quot;: &quot;Map Data \\u0026copy; \\u003ca href=\\u0027https://earthengine.google.com/\\u0027\\u003eGoogle Earth Engine\\u003c/a\\u003e&quot;, &quot;detectRetina&quot;: false, &quot;maxNativeZoom&quot;: 18, &quot;maxZoom&quot;: 18, &quot;minZoom&quot;: 0, &quot;noWrap&quot;: false, &quot;opacity&quot;: 1, &quot;subdomains&quot;: &quot;abc&quot;, &quot;tms&quot;: false}\n",
       "            );\n",
       "        \n",
       "    \n",
       "                tile_layer_b2082aab81c2001959a7ab01c3603f81.addTo(map_e8db206c396fd1012faeade7641b3a0c);\n",
       "    \n",
       "            var marker_a23b19958f5f33d635199027d3f7e691 = L.marker(\n",
       "                [36.345211, 127.26520600000002],\n",
       "                {}\n",
       "            ).addTo(map_e8db206c396fd1012faeade7641b3a0c);\n",
       "        \n",
       "    \n",
       "        var popup_bf408363e5beea7825358a1f3501e378 = L.popup({&quot;maxWidth&quot;: &quot;100%&quot;});\n",
       "\n",
       "        \n",
       "            \n",
       "                var html_1a7af798dc24d618112a1a6fecfbcb28 = $(`&lt;div id=&quot;html_1a7af798dc24d618112a1a6fecfbcb28&quot; style=&quot;width: 100.0%; height: 100.0%;&quot;&gt;관심영역 중심점&lt;/div&gt;`)[0];\n",
       "                popup_bf408363e5beea7825358a1f3501e378.setContent(html_1a7af798dc24d618112a1a6fecfbcb28);\n",
       "            \n",
       "        \n",
       "\n",
       "        marker_a23b19958f5f33d635199027d3f7e691.bindPopup(popup_bf408363e5beea7825358a1f3501e378)\n",
       "        ;\n",
       "\n",
       "        \n",
       "    \n",
       "    \n",
       "            var layer_control_52ab7af43202db4a74307e6fe4bf26b5_layers = {\n",
       "                base_layers : {\n",
       "                    &quot;openstreetmap&quot; : tile_layer_78d12ae72941fe64e7998aca08317eac,\n",
       "                },\n",
       "                overlays :  {\n",
       "                    &quot;Sand Content&quot; : tile_layer_2ee35f5e85c6104a4072e0457c7f4053,\n",
       "                    &quot;clay Content&quot; : tile_layer_e842c841a600bc534bd5c07e5e505718,\n",
       "                    &quot;orgc Content&quot; : tile_layer_b2082aab81c2001959a7ab01c3603f81,\n",
       "                },\n",
       "            };\n",
       "            let layer_control_52ab7af43202db4a74307e6fe4bf26b5 = L.control.layers(\n",
       "                layer_control_52ab7af43202db4a74307e6fe4bf26b5_layers.base_layers,\n",
       "                layer_control_52ab7af43202db4a74307e6fe4bf26b5_layers.overlays,\n",
       "                {&quot;autoZIndex&quot;: true, &quot;collapsed&quot;: true, &quot;position&quot;: &quot;topright&quot;}\n",
       "            ).addTo(map_e8db206c396fd1012faeade7641b3a0c);\n",
       "\n",
       "        \n",
       "&lt;/script&gt;\n",
       "&lt;/html&gt;\" style=\"position:absolute;width:100%;height:100%;left:0;top:0;border:none !important;\" allowfullscreen webkitallowfullscreen mozallowfullscreen></iframe></div></div>"
      ],
      "text/plain": [
       "<folium.folium.Map at 0x17b48939f10>"
      ]
     },
     "metadata": {},
     "output_type": "display_data"
    }
   ],
   "source": [
    "# 지도 객체를 초기화할 때 중심점 사용\n",
    "my_map = folium.Map(location=[lat, lon], zoom_start=8)\n",
    "\n",
    "# 시각화 매개변수 설정\n",
    "vis_params = {\n",
    "    \"bands\": [\"b0\"],\n",
    "    \"min\": 0.01,\n",
    "    \"max\": 1,\n",
    "    \"opacity\": 1,\n",
    "    \"palette\": [\"white\", \"#464646\"],\n",
    "}\n",
    "\n",
    "# 모래 함량 데이터를 지도 객체에 추가\n",
    "my_map.add_ee_layer(sand, vis_params, \"Sand Content\")\n",
    "\n",
    "# 점토 함량 데이터를 지도 객체에 추가\n",
    "my_map.add_ee_layer(clay, vis_params, \"clay Content\")\n",
    "\n",
    "# 유기 탄소 함량 데이터를 지도 객체에 추가\n",
    "my_map.add_ee_layer(orgc, vis_params, \"orgc Content\")\n",
    "\n",
    "# 국립공원 경계에 마커 추가\n",
    "folium.Marker([lat, lon], popup=\"관심영역 중심점\").add_to(my_map)\n",
    "\n",
    "# 지도에 레이어 컨트롤 패널 추가\n",
    "my_map.add_child(folium.LayerControl())\n",
    "\n",
    "# 지도 표시\n",
    "display(my_map)"
   ]
  },
  {
   "cell_type": "markdown",
   "metadata": {},
   "source": [
    "▲ 한국의 모래, 흙, 유기탄소 함량 시각화"
   ]
  },
  {
   "cell_type": "code",
   "execution_count": 34,
   "metadata": {},
   "outputs": [
    {
     "data": {
      "text/html": [
       "\n",
       "            <style>\n",
       "                .geemap-dark {\n",
       "                    --jp-widgets-color: white;\n",
       "                    --jp-widgets-label-color: white;\n",
       "                    --jp-ui-font-color1: white;\n",
       "                    --jp-layout-color2: #454545;\n",
       "                    background-color: #383838;\n",
       "                }\n",
       "                    \n",
       "                .geemap-dark .jupyter-button {\n",
       "                    --jp-layout-color3: #383838;\n",
       "                }\n",
       "                \n",
       "                .geemap-colab {\n",
       "                    background-color: var(--colab-primary-surface-color, white);\n",
       "                }\n",
       "                    \n",
       "                .geemap-colab .jupyter-button {\n",
       "                    --jp-layout-color3: var(--colab-primary-surface-color, white);\n",
       "                }\n",
       "            </style>\n",
       "            "
      ],
      "text/plain": [
       "<IPython.core.display.HTML object>"
      ]
     },
     "metadata": {},
     "output_type": "display_data"
    }
   ],
   "source": [
    "# 관심지역의 토양 성분 추출\n",
    "def local_profile(dataset, poi, buffer):\n",
    "    \"\"\"\n",
    "    buffer: 샘플링 범위 (미터 단위)\n",
    "    \"\"\"\n",
    "    # 관심 지역에서 속성을 얻습니다.\n",
    "    prop = dataset.sample(poi, buffer).select(olm_bands).getInfo()\n",
    "\n",
    "    # 관심 있는 특성을 선택합니다.\n",
    "    profile = prop[\"features\"][0][\"properties\"]\n",
    "\n",
    "    # 딕셔너리를 재구성합니다.\n",
    "    profile = {key: round(val, 3) for key, val in profile.items()}\n",
    "\n",
    "    return profile\n",
    "\n",
    "# 함수를 적용하여 모래 함량 프로필을 얻습니다.\n",
    "profile_sand = local_profile(sand, poi, scale)"
   ]
  },
  {
   "cell_type": "code",
   "execution_count": 35,
   "metadata": {},
   "outputs": [
    {
     "data": {
      "text/html": [
       "\n",
       "            <style>\n",
       "                .geemap-dark {\n",
       "                    --jp-widgets-color: white;\n",
       "                    --jp-widgets-label-color: white;\n",
       "                    --jp-ui-font-color1: white;\n",
       "                    --jp-layout-color2: #454545;\n",
       "                    background-color: #383838;\n",
       "                }\n",
       "                    \n",
       "                .geemap-dark .jupyter-button {\n",
       "                    --jp-layout-color3: #383838;\n",
       "                }\n",
       "                \n",
       "                .geemap-colab {\n",
       "                    background-color: var(--colab-primary-surface-color, white);\n",
       "                }\n",
       "                    \n",
       "                .geemap-colab .jupyter-button {\n",
       "                    --jp-layout-color3: var(--colab-primary-surface-color, white);\n",
       "                }\n",
       "            </style>\n",
       "            "
      ],
      "text/plain": [
       "<IPython.core.display.HTML object>"
      ]
     },
     "metadata": {},
     "output_type": "display_data"
    },
    {
     "data": {
      "image/png": "[encoded data removed]",
      "text/plain": [
       "<Figure size 1500x600 with 1 Axes>"
      ]
     },
     "metadata": {},
     "output_type": "display_data"
    }
   ],
   "source": [
    "# 점토 및 유기 탄소 함량 프로필.\n",
    "profile_clay = local_profile(clay, poi, scale)\n",
    "profile_orgc = local_profile(orgc, poi, scale)\n",
    "\n",
    "# 막대 그래프 형태의 데이터 시각화.\n",
    "fig, ax = plt.subplots(figsize=(15, 6))\n",
    "ax.axes.get_yaxis().set_visible(False)\n",
    "\n",
    "# 라벨 위치 정의.\n",
    "x = np.arange(len(olm_bands))\n",
    "\n",
    "# 막대 너비 정의.\n",
    "width = 0.25\n",
    "\n",
    "# 모래 함량 프로필을 나타내는 막대 그래프.\n",
    "rect1 = ax.bar(\n",
    "    x - width,\n",
    "    [round(100 * profile_sand[b], 2) for b in olm_bands],\n",
    "    width,\n",
    "    label=\"모래\",\n",
    "    color=\"#ecebbd\",\n",
    ")\n",
    "\n",
    "# 점토 함량 프로필을 나타내는 막대 그래프.\n",
    "rect2 = ax.bar(\n",
    "    x,\n",
    "    [round(100 * profile_clay[b], 2) for b in olm_bands],\n",
    "    width,\n",
    "    label=\"흙\",\n",
    "    color=\"#6f6c5d\",\n",
    ")\n",
    "\n",
    "# 유기 탄소 함량 프로필을 나타내는 막대 그래프.\n",
    "rect3 = ax.bar(\n",
    "    x + width,\n",
    "    [round(100 * profile_orgc[b], 2) for b in olm_bands],\n",
    "    width,\n",
    "    label=\"유기 탄소\",\n",
    "    color=\"black\",\n",
    "    alpha=0.75,\n",
    ")\n",
    "\n",
    "# 각 막대에 라벨을 붙이는 함수 정의.\n",
    "def autolabel_soil_prop(rects):\n",
    "    \"\"\"각 막대(*rects*) 위에 텍스트 라벨을 부착하여 높이를 표시합니다.\"\"\"\n",
    "    for rect in rects:\n",
    "        height = rect.get_height()\n",
    "        ax.annotate(\n",
    "            \"{}\".format(height) + \"%\",\n",
    "            xy=(rect.get_x() + rect.get_width() / 2, height),\n",
    "            xytext=(0, 3),  # 수직 오프셋 3포인트.\n",
    "            textcoords=\"offset points\",\n",
    "            ha=\"center\",\n",
    "            va=\"bottom\",\n",
    "            fontsize=10,\n",
    "        )\n",
    "\n",
    "# 각 막대 그래프에 함수 적용.\n",
    "autolabel_soil_prop(rect1)\n",
    "autolabel_soil_prop(rect2)\n",
    "autolabel_soil_prop(rect3)\n",
    "\n",
    "# 그래프 제목 설정.\n",
    "ax.set_title(\"깊이에 따른 토양 성분 (함량)\", fontsize=14)\n",
    "\n",
    "# x/y 라벨 및 눈금 속성 설정.\n",
    "ax.set_xticks(x)\n",
    "x_labels = [str(d) + \" cm\" for d in olm_depths]\n",
    "ax.set_xticklabels(x_labels, rotation=45, fontsize=10)\n",
    "\n",
    "ax.spines[\"left\"].set_visible(False)\n",
    "ax.spines[\"right\"].set_visible(False)\n",
    "ax.spines[\"top\"].set_visible(False)\n",
    "\n",
    "# 현재 축의 높이를 아래쪽으로 10% 축소.\n",
    "box = ax.get_position()\n",
    "ax.set_position([box.x0, box.y0 + box.height * 0.1, box.width, box.height * 0.9])\n",
    "\n",
    "# 현재 축 아래에 범례 추가.\n",
    "ax.legend(\n",
    "    loc=\"upper center\", bbox_to_anchor=(0.5, -0.15), fancybox=True, shadow=True, ncol=3\n",
    ")\n",
    "\n",
    "plt.show()"
   ]
  },
  {
   "cell_type": "markdown",
   "metadata": {},
   "source": [
    "▲ 깊이에 따른 관심 지역의 모래, 흙, 유기 탄소 함량 히스토그램"
   ]
  },
  {
   "cell_type": "code",
   "execution_count": 36,
   "metadata": {},
   "outputs": [
    {
     "data": {
      "text/html": [
       "\n",
       "            <style>\n",
       "                .geemap-dark {\n",
       "                    --jp-widgets-color: white;\n",
       "                    --jp-widgets-label-color: white;\n",
       "                    --jp-ui-font-color1: white;\n",
       "                    --jp-layout-color2: #454545;\n",
       "                    background-color: #383838;\n",
       "                }\n",
       "                    \n",
       "                .geemap-dark .jupyter-button {\n",
       "                    --jp-layout-color3: #383838;\n",
       "                }\n",
       "                \n",
       "                .geemap-colab {\n",
       "                    background-color: var(--colab-primary-surface-color, white);\n",
       "                }\n",
       "                    \n",
       "                .geemap-colab .jupyter-button {\n",
       "                    --jp-layout-color3: var(--colab-primary-surface-color, white);\n",
       "                }\n",
       "            </style>\n",
       "            "
      ],
      "text/plain": [
       "<IPython.core.display.HTML object>"
      ]
     },
     "metadata": {},
     "output_type": "display_data"
    }
   ],
   "source": [
    "profile_wp = local_profile(wilting_point, poi, scale)\n",
    "profile_fc = local_profile(field_capacity, poi, scale)"
   ]
  },
  {
   "cell_type": "code",
   "execution_count": 57,
   "metadata": {},
   "outputs": [
    {
     "data": {
      "text/html": [
       "\n",
       "            <style>\n",
       "                .geemap-dark {\n",
       "                    --jp-widgets-color: white;\n",
       "                    --jp-widgets-label-color: white;\n",
       "                    --jp-ui-font-color1: white;\n",
       "                    --jp-layout-color2: #454545;\n",
       "                    background-color: #383838;\n",
       "                }\n",
       "                    \n",
       "                .geemap-dark .jupyter-button {\n",
       "                    --jp-layout-color3: #383838;\n",
       "                }\n",
       "                \n",
       "                .geemap-colab {\n",
       "                    background-color: var(--colab-primary-surface-color, white);\n",
       "                }\n",
       "                    \n",
       "                .geemap-colab .jupyter-button {\n",
       "                    --jp-layout-color3: var(--colab-primary-surface-color, white);\n",
       "                }\n",
       "            </style>\n",
       "            "
      ],
      "text/plain": [
       "<IPython.core.display.HTML object>"
      ]
     },
     "metadata": {},
     "output_type": "display_data"
    },
    {
     "data": {
      "image/png": "[encoded data removed]",
      "text/plain": [
       "<Figure size 1500x600 with 1 Axes>"
      ]
     },
     "metadata": {},
     "output_type": "display_data"
    }
   ],
   "source": [
    "fig, ax = plt.subplots(figsize=(15, 6))\n",
    "ax.axes.get_yaxis().set_visible(False)\n",
    "\n",
    "# 라벨 위치 정의.\n",
    "x = np.arange(len(olm_bands))\n",
    "\n",
    "# 막대 그래프의 너비 정의.\n",
    "width = 0.25\n",
    "\n",
    "# 시듦점에서의 물 함량과 관련된 막대 그래프.\n",
    "rect1 = ax.bar(\n",
    "    x - width / 2,\n",
    "    [round(profile_wp[b] * 100, 2) for b in olm_bands],\n",
    "    width,\n",
    "    label=\"시들음 시점의 토양 수분 함량\",\n",
    "    color=\"red\",\n",
    "    alpha=0.5,\n",
    ")\n",
    "\n",
    "# 수분용량에서의 물 함량과 관련된 막대 그래프.\n",
    "rect2 = ax.bar(\n",
    "    x + width / 2,\n",
    "    [round(profile_fc[b] * 100, 2) for b in olm_bands],\n",
    "    width,\n",
    "    label=\"토양 최대 수분용량\",\n",
    "    color=\"blue\",\n",
    "    alpha=0.5,\n",
    ")\n",
    "\n",
    "# 각 막대 위에 라벨 추가.\n",
    "autolabel_soil_prop(rect1)\n",
    "autolabel_soil_prop(rect2)\n",
    "\n",
    "# 그래프 제목 설정.\n",
    "ax.set_title(\"깊이에 따른 토양 수분 특성\", fontsize=14)\n",
    "\n",
    "# x/y 라벨 및 눈금 속성 설정.\n",
    "ax.set_xticks(x)\n",
    "x_labels = [str(d) + \" cm\" for d in olm_depths]\n",
    "ax.set_xticklabels(x_labels, rotation=45, fontsize=10)\n",
    "\n",
    "ax.spines[\"left\"].set_visible(False)\n",
    "ax.spines[\"right\"].set_visible(False)\n",
    "ax.spines[\"top\"].set_visible(False)\n",
    "\n",
    "# 현재 축의 높이를 아래쪽으로 10% 축소.\n",
    "box = ax.get_position()\n",
    "ax.set_position([box.x0, box.y0 + box.height * 0.1, box.width, box.height * 0.9])\n",
    "\n",
    "# 현재 축 아래에 범례 추가.\n",
    "ax.legend(\n",
    "    loc=\"upper center\", bbox_to_anchor=(0.5, -0.15), fancybox=True, shadow=True, ncol=2\n",
    ")\n",
    "\n",
    "plt.show()"
   ]
  },
  {
   "cell_type": "markdown",
   "metadata": {},
   "source": [
    "▲ 관심 지역의 시들음점, 토양 최대 수분용량 시각화"
   ]
  },
  {
   "cell_type": "code",
   "execution_count": 39,
   "metadata": {},
   "outputs": [
    {
     "data": {
      "text/html": [
       "\n",
       "            <style>\n",
       "                .geemap-dark {\n",
       "                    --jp-widgets-color: white;\n",
       "                    --jp-widgets-label-color: white;\n",
       "                    --jp-ui-font-color1: white;\n",
       "                    --jp-layout-color2: #454545;\n",
       "                    background-color: #383838;\n",
       "                }\n",
       "                    \n",
       "                .geemap-dark .jupyter-button {\n",
       "                    --jp-layout-color3: #383838;\n",
       "                }\n",
       "                \n",
       "                .geemap-colab {\n",
       "                    background-color: var(--colab-primary-surface-color, white);\n",
       "                }\n",
       "                    \n",
       "                .geemap-colab .jupyter-button {\n",
       "                    --jp-layout-color3: var(--colab-primary-surface-color, white);\n",
       "                }\n",
       "            </style>\n",
       "            "
      ],
      "text/plain": [
       "<IPython.core.display.HTML object>"
      ]
     },
     "metadata": {},
     "output_type": "display_data"
    }
   ],
   "source": [
    "# 관심 지역에서 기상 데이터를 배열로 가져옴.\n",
    "meteo_arr = meteo.getRegion(poi, scale).getInfo()"
   ]
  },
  {
   "cell_type": "code",
   "execution_count": 41,
   "metadata": {},
   "outputs": [
    {
     "data": {
      "text/html": [
       "\n",
       "            <style>\n",
       "                .geemap-dark {\n",
       "                    --jp-widgets-color: white;\n",
       "                    --jp-widgets-label-color: white;\n",
       "                    --jp-ui-font-color1: white;\n",
       "                    --jp-layout-color2: #454545;\n",
       "                    background-color: #383838;\n",
       "                }\n",
       "                    \n",
       "                .geemap-dark .jupyter-button {\n",
       "                    --jp-layout-color3: #383838;\n",
       "                }\n",
       "                \n",
       "                .geemap-colab {\n",
       "                    background-color: var(--colab-primary-surface-color, white);\n",
       "                }\n",
       "                    \n",
       "                .geemap-colab .jupyter-button {\n",
       "                    --jp-layout-color3: var(--colab-primary-surface-color, white);\n",
       "                }\n",
       "            </style>\n",
       "            "
      ],
      "text/plain": [
       "<IPython.core.display.HTML object>"
      ]
     },
     "metadata": {},
     "output_type": "display_data"
    }
   ],
   "source": [
    "def ee_array_to_df(arr, list_of_bands):\n",
    "    # 데이터 배열을 데이터프레임으로 변환.\n",
    "    df = pd.DataFrame(arr)\n",
    "\n",
    "    # 헤더 재배열.\n",
    "    headers = df.iloc[0]\n",
    "    df = pd.DataFrame(df.values[1:], columns=headers)\n",
    "\n",
    "    # 데이터를 숫자 값으로 변환.\n",
    "    for band in list_of_bands:\n",
    "        df[band] = pd.to_numeric(df[band], errors=\"coerce\")\n",
    "\n",
    "    # 'time' 필드를 datetime으로 변환.\n",
    "    df[\"datetime\"] = pd.to_datetime(df[\"time\"], unit=\"ms\")\n",
    "\n",
    "    # 관심 있는 컬럼만 유지.\n",
    "    df = df[[\"time\", \"datetime\", *list_of_bands]]\n",
    "\n",
    "    # 'datetime' 컬럼을 인덱스로 설정.\n",
    "    df = df.set_index(\"datetime\")\n",
    "\n",
    "    return df"
   ]
  },
  {
   "cell_type": "code",
   "execution_count": 46,
   "metadata": {},
   "outputs": [
    {
     "data": {
      "text/html": [
       "\n",
       "            <style>\n",
       "                .geemap-dark {\n",
       "                    --jp-widgets-color: white;\n",
       "                    --jp-widgets-label-color: white;\n",
       "                    --jp-ui-font-color1: white;\n",
       "                    --jp-layout-color2: #454545;\n",
       "                    background-color: #383838;\n",
       "                }\n",
       "                    \n",
       "                .geemap-dark .jupyter-button {\n",
       "                    --jp-layout-color3: #383838;\n",
       "                }\n",
       "                \n",
       "                .geemap-colab {\n",
       "                    background-color: var(--colab-primary-surface-color, white);\n",
       "                }\n",
       "                    \n",
       "                .geemap-colab .jupyter-button {\n",
       "                    --jp-layout-color3: var(--colab-primary-surface-color, white);\n",
       "                }\n",
       "            </style>\n",
       "            "
      ],
      "text/plain": [
       "<IPython.core.display.HTML object>"
      ]
     },
     "metadata": {},
     "output_type": "display_data"
    }
   ],
   "source": [
    "# 지하수 재충전 컬렉션에서 관심 지역의 데이터를 배열로 가져옴.\n",
    "arr = rech_coll.getRegion(poi, scale).getInfo()\n",
    "\n",
    "# 배열을 pandas 데이터프레임으로 변환하고 인덱스를 정렬.\n",
    "rdf = ee_array_to_df(arr, [\"pr\", \"pet\", \"apwl\", \"st\", \"rech\"]).sort_index()"
   ]
  },
  {
   "cell_type": "code",
   "execution_count": 56,
   "metadata": {},
   "outputs": [
    {
     "data": {
      "text/html": [
       "\n",
       "            <style>\n",
       "                .geemap-dark {\n",
       "                    --jp-widgets-color: white;\n",
       "                    --jp-widgets-label-color: white;\n",
       "                    --jp-ui-font-color1: white;\n",
       "                    --jp-layout-color2: #454545;\n",
       "                    background-color: #383838;\n",
       "                }\n",
       "                    \n",
       "                .geemap-dark .jupyter-button {\n",
       "                    --jp-layout-color3: #383838;\n",
       "                }\n",
       "                \n",
       "                .geemap-colab {\n",
       "                    background-color: var(--colab-primary-surface-color, white);\n",
       "                }\n",
       "                    \n",
       "                .geemap-colab .jupyter-button {\n",
       "                    --jp-layout-color3: var(--colab-primary-surface-color, white);\n",
       "                }\n",
       "            </style>\n",
       "            "
      ],
      "text/plain": [
       "<IPython.core.display.HTML object>"
      ]
     },
     "metadata": {},
     "output_type": "display_data"
    },
    {
     "data": {
      "image/png": "[encoded data removed]",
      "text/plain": [
       "<Figure size 1500x600 with 1 Axes>"
      ]
     },
     "metadata": {},
     "output_type": "display_data"
    }
   ],
   "source": [
    "# 데이터 시각화를 막대 그래프 형태로 진행\n",
    "fig, ax = plt.subplots(figsize=(15, 6))\n",
    "\n",
    "# 강수량에 대한 막대 그래프\n",
    "rdf[\"pr\"].plot(kind=\"bar\", ax=ax, label=\"강수량\", alpha=0.5)\n",
    "\n",
    "# 잠재 증발산량에 대한 막대 그래프\n",
    "rdf[\"pet\"].plot(\n",
    "    kind=\"bar\", ax=ax, label=\"잠재 증발산량\", color=\"orange\", alpha=0.2\n",
    ")\n",
    "\n",
    "# 지하수 재충전량에 대한 막대 그래프\n",
    "rdf[\"rech\"].plot(kind=\"bar\", ax=ax, label=\"지하수 재충전량\", color=\"green\", alpha=1)\n",
    "\n",
    "# 범례 추가\n",
    "ax.legend()\n",
    "\n",
    "# x/y축 라벨 정의\n",
    "ax.set_ylabel(\"강도 [mm]\")\n",
    "ax.set_xlabel(None)\n",
    "\n",
    "# x축 라벨의 날짜 형식과 모양 정의\n",
    "x_labels = rdf.index.strftime(\"%m-%Y\")\n",
    "ax.set_xticklabels(x_labels, rotation=90, fontsize=10)\n",
    "\n",
    "plt.show()"
   ]
  },
  {
   "cell_type": "markdown",
   "metadata": {},
   "source": [
    "▲ 해당 관심 지역의 월 평균 강수량, 잠재증발산량, 지하수 재충전량 시각화 \n",
    "- 관심 지역에서 지하수 재충전이 일반적으로 언제 일어나는지와 강수량은 높으나 높은 온도와 햇빛 노출 등으로 인해 증발산이 많이 일어나는 때를 파악 가능\n",
    "- 지하수 재충전의 조건은 강수량이 잠재적 증발산보다 높음과 동시에 해당 토양의 수분이 포화상태일 때 지하수로 모이게 된다"
   ]
  },
  {
   "cell_type": "code",
   "execution_count": 50,
   "metadata": {},
   "outputs": [
    {
     "data": {
      "text/html": [
       "\n",
       "            <style>\n",
       "                .geemap-dark {\n",
       "                    --jp-widgets-color: white;\n",
       "                    --jp-widgets-label-color: white;\n",
       "                    --jp-ui-font-color1: white;\n",
       "                    --jp-layout-color2: #454545;\n",
       "                    background-color: #383838;\n",
       "                }\n",
       "                    \n",
       "                .geemap-dark .jupyter-button {\n",
       "                    --jp-layout-color3: #383838;\n",
       "                }\n",
       "                \n",
       "                .geemap-colab {\n",
       "                    background-color: var(--colab-primary-surface-color, white);\n",
       "                }\n",
       "                    \n",
       "                .geemap-colab .jupyter-button {\n",
       "                    --jp-layout-color3: var(--colab-primary-surface-color, white);\n",
       "                }\n",
       "            </style>\n",
       "            "
      ],
      "text/plain": [
       "<IPython.core.display.HTML object>"
      ]
     },
     "metadata": {},
     "output_type": "display_data"
    },
    {
     "name": "stdout",
     "output_type": "stream",
     "text": [
      "우리 관심 지역의 연평균 지하수 재충전량은 251 mm/년 입니다.\n"
     ]
    }
   ],
   "source": [
    "# pandas 데이터프레임을 연간 기준으로 재표본하여 연간 합계를 계산합니다.\n",
    "rdfy = rdf.resample(\"Y\").sum()\n",
    "\n",
    "# 평균값을 계산합니다.\n",
    "mean_recharge = rdfy[\"rech\"].mean()\n",
    "\n",
    "# 결과를 출력합니다.\n",
    "print(\"우리 관심 지역의 연평균 지하수 재충전량은\", int(mean_recharge), \"mm/년 입니다.\")"
   ]
  },
  {
   "cell_type": "code",
   "execution_count": 44,
   "metadata": {},
   "outputs": [
    {
     "data": {
      "text/html": [
       "\n",
       "            <style>\n",
       "                .geemap-dark {\n",
       "                    --jp-widgets-color: white;\n",
       "                    --jp-widgets-label-color: white;\n",
       "                    --jp-ui-font-color1: white;\n",
       "                    --jp-layout-color2: #454545;\n",
       "                    background-color: #383838;\n",
       "                }\n",
       "                    \n",
       "                .geemap-dark .jupyter-button {\n",
       "                    --jp-layout-color3: #383838;\n",
       "                }\n",
       "                \n",
       "                .geemap-colab {\n",
       "                    background-color: var(--colab-primary-surface-color, white);\n",
       "                }\n",
       "                    \n",
       "                .geemap-colab .jupyter-button {\n",
       "                    --jp-layout-color3: var(--colab-primary-surface-color, white);\n",
       "                }\n",
       "            </style>\n",
       "            "
      ],
      "text/plain": [
       "<IPython.core.display.HTML object>"
      ]
     },
     "metadata": {},
     "output_type": "display_data"
    }
   ],
   "source": [
    "def get_local_recharge(i_date, f_date, lon, lat, scale):\n",
    "    \"\"\"\n",
    "    주어진 기간 동안 지정된 위치에서 월별 누적 지하수 재충전량을 설명하는 pandas DataFrame을 반환합니다.\n",
    "    \"\"\"\n",
    "    # 관심 지역의 경계 정의\n",
    "    poi = ee.Geometry.Point(lon, lat)\n",
    "\n",
    "    # 관심 지역 주변의 재충전을 평가합니다.\n",
    "    rarr = rech_coll.filterDate(i_date, f_date).getRegion(poi, scale).getInfo()\n",
    "\n",
    "    # 결과를 pandas 데이터프레임으로 변환합니다.\n",
    "    rdf = ee_array_to_df(rarr, [\"pr\", \"pet\", \"apwl\", \"st\", \"rech\"]).sort_index()\n",
    "    return rdf"
   ]
  },
  {
   "cell_type": "code",
   "execution_count": 55,
   "metadata": {},
   "outputs": [
    {
     "data": {
      "text/html": [
       "\n",
       "            <style>\n",
       "                .geemap-dark {\n",
       "                    --jp-widgets-color: white;\n",
       "                    --jp-widgets-label-color: white;\n",
       "                    --jp-ui-font-color1: white;\n",
       "                    --jp-layout-color2: #454545;\n",
       "                    background-color: #383838;\n",
       "                }\n",
       "                    \n",
       "                .geemap-dark .jupyter-button {\n",
       "                    --jp-layout-color3: #383838;\n",
       "                }\n",
       "                \n",
       "                .geemap-colab {\n",
       "                    background-color: var(--colab-primary-surface-color, white);\n",
       "                }\n",
       "                    \n",
       "                .geemap-colab .jupyter-button {\n",
       "                    --jp-layout-color3: var(--colab-primary-surface-color, white);\n",
       "                }\n",
       "            </style>\n",
       "            "
      ],
      "text/plain": [
       "<IPython.core.display.HTML object>"
      ]
     },
     "metadata": {},
     "output_type": "display_data"
    }
   ],
   "source": [
    "# 관심 지역 경계를 가져옵니다.\n",
    "lon2 = 127.20357831431272\n",
    "lat2 = 37.22987487201979\n",
    "\n",
    "# 해당 위치에서 로컬 재충전 상태를 계산합니다.\n",
    "rdf2 = get_local_recharge(i_date, f_date, lon2, lat2, scale)\n",
    "\n",
    "# 결과 pandas 데이터프레임을 연간 기준으로 재표본화합니다 (연간 합계).\n",
    "rdf2y = rdf2.resample(\"Y\").sum()"
   ]
  },
  {
   "cell_type": "code",
   "execution_count": 54,
   "metadata": {},
   "outputs": [
    {
     "data": {
      "text/html": [
       "\n",
       "            <style>\n",
       "                .geemap-dark {\n",
       "                    --jp-widgets-color: white;\n",
       "                    --jp-widgets-label-color: white;\n",
       "                    --jp-ui-font-color1: white;\n",
       "                    --jp-layout-color2: #454545;\n",
       "                    background-color: #383838;\n",
       "                }\n",
       "                    \n",
       "                .geemap-dark .jupyter-button {\n",
       "                    --jp-layout-color3: #383838;\n",
       "                }\n",
       "                \n",
       "                .geemap-colab {\n",
       "                    background-color: var(--colab-primary-surface-color, white);\n",
       "                }\n",
       "                    \n",
       "                .geemap-colab .jupyter-button {\n",
       "                    --jp-layout-color3: var(--colab-primary-surface-color, white);\n",
       "                }\n",
       "            </style>\n",
       "            "
      ],
      "text/plain": [
       "<IPython.core.display.HTML object>"
      ]
     },
     "metadata": {},
     "output_type": "display_data"
    },
    {
     "data": {
      "image/png": "[encoded data removed]",
      "text/plain": [
       "<Figure size 1500x600 with 1 Axes>"
      ]
     },
     "metadata": {},
     "output_type": "display_data"
    }
   ],
   "source": [
    "# 데이터 시각화를 위한 설정\n",
    "fig, ax = plt.subplots(figsize=(15, 6))\n",
    "ax.axes.get_yaxis().set_visible(False) # y축 레이블 숨기기\n",
    "\n",
    "# x축 레이블 위치 정의\n",
    "x = np.arange(len(rdfy))\n",
    "\n",
    "# 막대 너비 정의\n",
    "width = 0.25\n",
    "\n",
    "# 첫 번째 관심 위치의 지하수 재충전량에 대한 막대 그래프\n",
    "rect1 = ax.bar(\n",
    "    x - width / 2, rdfy.rech, width, label=\"첫번째 관심지역\", color=\"blue\", alpha=0.5\n",
    ")\n",
    "\n",
    "# 두 번째 관심 위치의 지하수 재충전량에 대한 막대 그래프\n",
    "rect2 = ax.bar(\n",
    "    x + width / 2,\n",
    "    rdf2y.rech,\n",
    "    width,\n",
    "    label=\"두번째 관심지역\",\n",
    "    color=\"red\",\n",
    "    alpha=0.5,\n",
    ")\n",
    "\n",
    "# 각 막대에 레이블 추가 함수 정의\n",
    "def autolabel_recharge(rects):\n",
    "    \"\"\"각 막대 위에 높이를 표시하는 텍스트 레이블을 부착합니다.\"\"\"\n",
    "    for rect in rects:\n",
    "        height = rect.get_height()\n",
    "        ax.annotate(\n",
    "            \"{}\".format(int(height)) + \" mm\",\n",
    "            xy=(rect.get_x() + rect.get_width() / 2, height),\n",
    "            xytext=(0, 3),  # 수직 오프셋 3 포인트\n",
    "            textcoords=\"offset points\",\n",
    "            ha=\"center\",\n",
    "            va=\"bottom\",\n",
    "            fontsize=8,\n",
    "        )\n",
    "\n",
    "\n",
    "autolabel_recharge(rect1)\n",
    "autolabel_recharge(rect2)\n",
    "\n",
    "# 두 관심 위치의 평균 연간 재충전량 계산\n",
    "place1mean = int(rdfy[\"rech\"].mean())\n",
    "place2mean = int(rdf2y[\"rech\"].mean())\n",
    "\n",
    "# 첫 번째 위치의 평균 연간 재충전량을 나타내는 수평선 추가\n",
    "ax.hlines(\n",
    "    place1mean,\n",
    "    xmin=min(x) - width,\n",
    "    xmax=max(x) + width,\n",
    "    color=\"blue\",\n",
    "    lw=0.5,\n",
    "    label=\"average \" + str(place1mean) + \" mm/y\",\n",
    "    alpha=0.5,\n",
    ")\n",
    "\n",
    "# 두 번째 위치의 평균 연간 재충전량을 나타내는 수평선 추가\n",
    "ax.hlines(\n",
    "    place2mean,\n",
    "    xmin=min(x) - width,\n",
    "    xmax=max(x) + width,\n",
    "    color=\"red\",\n",
    "    lw=0.5,\n",
    "    label=\"average \" + str(place2mean) + \" mm/y\",\n",
    "    alpha=0.5,\n",
    ")\n",
    "\n",
    "# 제목 추가\n",
    "ax.set_title(\"두 좌표의 연간 지하수 충전량 비교\", fontsize=12)\n",
    "\n",
    "# x/y축 레이블 및 틱 설정\n",
    "ax.set_xticks(x)\n",
    "x_labels = rdfy.index.year.tolist()\n",
    "ax.set_xticklabels(x_labels, rotation=45, fontsize=10)\n",
    "\n",
    "# 축 스파인 숨기기\n",
    "ax.spines[\"left\"].set_visible(False)\n",
    "ax.spines[\"right\"].set_visible(False)\n",
    "ax.spines[\"top\"].set_visible(False)\n",
    "\n",
    "# 현재 축의 높이를 밑으로 10% 축소\n",
    "box = ax.get_position()\n",
    "ax.set_position([box.x0, box.y0 + box.height * 0.1, box.width, box.height * 0.9])\n",
    "\n",
    "# Add a legend below current axis.\n",
    "ax.legend(\n",
    "    loc=\"upper center\", bbox_to_anchor=(0.5, -0.15), fancybox=True, shadow=True, ncol=2\n",
    ")\n",
    "\n",
    "plt.show()"
   ]
  }
 ],
 "metadata": {
  "kernelspec": {
   "display_name": "nuriho",
   "language": "python",
   "name": "python3"
  },
  "language_info": {
   "codemirror_mode": {
    "name": "ipython",
    "version": 3
   },
   "file_extension": ".py",
   "mimetype": "text/x-python",
   "name": "python",
   "nbconvert_exporter": "python",
   "pygments_lexer": "ipython3",
   "version": "3.9.18"
  }
 },
 "nbformat": 4,
 "nbformat_minor": 2
}
